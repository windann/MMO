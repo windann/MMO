{
 "cells": [
  {
   "cell_type": "markdown",
   "metadata": {},
   "source": [
    "# 1. Задание"
   ]
  },
  {
   "cell_type": "markdown",
   "metadata": {},
   "source": [
    "<ul>\n",
    "    <li>Выберите набор данных (датасет) для решения задачи классификации или регрессии.</li>\n",
    "<li>В случае необходимости проведите удаление или заполнение пропусков и кодирование категориальных признаков.</li>\n",
    "    <li>С использованием метода train_test_split разделите выборку на обучающую и тестовую.</li>\n",
    "<li>Обучите следующие модели:\n",
    "одну из линейных моделей;\n",
    "SVM;\n",
    "    дерево решений.</li>\n",
    "<li>Оцените качество моделей с помощью трех подходящих для задачи метрик. Сравните качество полученных моделей.</li>\n",
    "<li>Произведите для каждой модели подбор одного гиперпараметра с использованием GridSearchCV и кросс-валидации.</li>\n",
    "<li>Повторите пункт 4 для найденных оптимальных значений гиперпараметров. Сравните качество полученных моделей с качеством моделей, полученных в пункте 4.</li>\n",
    "</ul>"
   ]
  },
  {
   "cell_type": "markdown",
   "metadata": {},
   "source": [
    "# 2. Подготовка данных"
   ]
  },
  {
   "cell_type": "markdown",
   "metadata": {},
   "source": [
    "Выбранный набор данных представляет из себя набор характеристик различных автомобилей, целевой переменной является - цена автомобиля"
   ]
  },
  {
   "cell_type": "code",
   "execution_count": 12,
   "metadata": {},
   "outputs": [
    {
     "data": {
      "text/html": [
       "<div>\n",
       "<style scoped>\n",
       "    .dataframe tbody tr th:only-of-type {\n",
       "        vertical-align: middle;\n",
       "    }\n",
       "\n",
       "    .dataframe tbody tr th {\n",
       "        vertical-align: top;\n",
       "    }\n",
       "\n",
       "    .dataframe thead th {\n",
       "        text-align: right;\n",
       "    }\n",
       "</style>\n",
       "<table border=\"1\" class=\"dataframe\">\n",
       "  <thead>\n",
       "    <tr style=\"text-align: right;\">\n",
       "      <th></th>\n",
       "      <th>car_ID</th>\n",
       "      <th>symboling</th>\n",
       "      <th>CarName</th>\n",
       "      <th>fueltype</th>\n",
       "      <th>aspiration</th>\n",
       "      <th>doornumber</th>\n",
       "      <th>carbody</th>\n",
       "      <th>drivewheel</th>\n",
       "      <th>enginelocation</th>\n",
       "      <th>wheelbase</th>\n",
       "      <th>...</th>\n",
       "      <th>enginesize</th>\n",
       "      <th>fuelsystem</th>\n",
       "      <th>boreratio</th>\n",
       "      <th>stroke</th>\n",
       "      <th>compressionratio</th>\n",
       "      <th>horsepower</th>\n",
       "      <th>peakrpm</th>\n",
       "      <th>citympg</th>\n",
       "      <th>highwaympg</th>\n",
       "      <th>price</th>\n",
       "    </tr>\n",
       "  </thead>\n",
       "  <tbody>\n",
       "    <tr>\n",
       "      <th>0</th>\n",
       "      <td>1</td>\n",
       "      <td>3</td>\n",
       "      <td>alfa-romero giulia</td>\n",
       "      <td>gas</td>\n",
       "      <td>std</td>\n",
       "      <td>two</td>\n",
       "      <td>convertible</td>\n",
       "      <td>rwd</td>\n",
       "      <td>front</td>\n",
       "      <td>88.6</td>\n",
       "      <td>...</td>\n",
       "      <td>130</td>\n",
       "      <td>mpfi</td>\n",
       "      <td>3.47</td>\n",
       "      <td>2.68</td>\n",
       "      <td>9.0</td>\n",
       "      <td>111</td>\n",
       "      <td>5000</td>\n",
       "      <td>21</td>\n",
       "      <td>27</td>\n",
       "      <td>13495.0</td>\n",
       "    </tr>\n",
       "    <tr>\n",
       "      <th>1</th>\n",
       "      <td>2</td>\n",
       "      <td>3</td>\n",
       "      <td>alfa-romero stelvio</td>\n",
       "      <td>gas</td>\n",
       "      <td>std</td>\n",
       "      <td>two</td>\n",
       "      <td>convertible</td>\n",
       "      <td>rwd</td>\n",
       "      <td>front</td>\n",
       "      <td>88.6</td>\n",
       "      <td>...</td>\n",
       "      <td>130</td>\n",
       "      <td>mpfi</td>\n",
       "      <td>3.47</td>\n",
       "      <td>2.68</td>\n",
       "      <td>9.0</td>\n",
       "      <td>111</td>\n",
       "      <td>5000</td>\n",
       "      <td>21</td>\n",
       "      <td>27</td>\n",
       "      <td>16500.0</td>\n",
       "    </tr>\n",
       "    <tr>\n",
       "      <th>2</th>\n",
       "      <td>3</td>\n",
       "      <td>1</td>\n",
       "      <td>alfa-romero Quadrifoglio</td>\n",
       "      <td>gas</td>\n",
       "      <td>std</td>\n",
       "      <td>two</td>\n",
       "      <td>hatchback</td>\n",
       "      <td>rwd</td>\n",
       "      <td>front</td>\n",
       "      <td>94.5</td>\n",
       "      <td>...</td>\n",
       "      <td>152</td>\n",
       "      <td>mpfi</td>\n",
       "      <td>2.68</td>\n",
       "      <td>3.47</td>\n",
       "      <td>9.0</td>\n",
       "      <td>154</td>\n",
       "      <td>5000</td>\n",
       "      <td>19</td>\n",
       "      <td>26</td>\n",
       "      <td>16500.0</td>\n",
       "    </tr>\n",
       "    <tr>\n",
       "      <th>3</th>\n",
       "      <td>4</td>\n",
       "      <td>2</td>\n",
       "      <td>audi 100 ls</td>\n",
       "      <td>gas</td>\n",
       "      <td>std</td>\n",
       "      <td>four</td>\n",
       "      <td>sedan</td>\n",
       "      <td>fwd</td>\n",
       "      <td>front</td>\n",
       "      <td>99.8</td>\n",
       "      <td>...</td>\n",
       "      <td>109</td>\n",
       "      <td>mpfi</td>\n",
       "      <td>3.19</td>\n",
       "      <td>3.40</td>\n",
       "      <td>10.0</td>\n",
       "      <td>102</td>\n",
       "      <td>5500</td>\n",
       "      <td>24</td>\n",
       "      <td>30</td>\n",
       "      <td>13950.0</td>\n",
       "    </tr>\n",
       "    <tr>\n",
       "      <th>4</th>\n",
       "      <td>5</td>\n",
       "      <td>2</td>\n",
       "      <td>audi 100ls</td>\n",
       "      <td>gas</td>\n",
       "      <td>std</td>\n",
       "      <td>four</td>\n",
       "      <td>sedan</td>\n",
       "      <td>4wd</td>\n",
       "      <td>front</td>\n",
       "      <td>99.4</td>\n",
       "      <td>...</td>\n",
       "      <td>136</td>\n",
       "      <td>mpfi</td>\n",
       "      <td>3.19</td>\n",
       "      <td>3.40</td>\n",
       "      <td>8.0</td>\n",
       "      <td>115</td>\n",
       "      <td>5500</td>\n",
       "      <td>18</td>\n",
       "      <td>22</td>\n",
       "      <td>17450.0</td>\n",
       "    </tr>\n",
       "  </tbody>\n",
       "</table>\n",
       "<p>5 rows × 26 columns</p>\n",
       "</div>"
      ],
      "text/plain": [
       "   car_ID  symboling                   CarName fueltype aspiration doornumber  \\\n",
       "0       1          3        alfa-romero giulia      gas        std        two   \n",
       "1       2          3       alfa-romero stelvio      gas        std        two   \n",
       "2       3          1  alfa-romero Quadrifoglio      gas        std        two   \n",
       "3       4          2               audi 100 ls      gas        std       four   \n",
       "4       5          2                audi 100ls      gas        std       four   \n",
       "\n",
       "       carbody drivewheel enginelocation  wheelbase  ...  enginesize  \\\n",
       "0  convertible        rwd          front       88.6  ...         130   \n",
       "1  convertible        rwd          front       88.6  ...         130   \n",
       "2    hatchback        rwd          front       94.5  ...         152   \n",
       "3        sedan        fwd          front       99.8  ...         109   \n",
       "4        sedan        4wd          front       99.4  ...         136   \n",
       "\n",
       "   fuelsystem  boreratio  stroke compressionratio horsepower  peakrpm citympg  \\\n",
       "0        mpfi       3.47    2.68              9.0        111     5000      21   \n",
       "1        mpfi       3.47    2.68              9.0        111     5000      21   \n",
       "2        mpfi       2.68    3.47              9.0        154     5000      19   \n",
       "3        mpfi       3.19    3.40             10.0        102     5500      24   \n",
       "4        mpfi       3.19    3.40              8.0        115     5500      18   \n",
       "\n",
       "   highwaympg    price  \n",
       "0          27  13495.0  \n",
       "1          27  16500.0  \n",
       "2          26  16500.0  \n",
       "3          30  13950.0  \n",
       "4          22  17450.0  \n",
       "\n",
       "[5 rows x 26 columns]"
      ]
     },
     "execution_count": 12,
     "metadata": {},
     "output_type": "execute_result"
    }
   ],
   "source": [
    "import pandas as pd\n",
    "\n",
    "df = pd.read_csv('CarPrice.csv')\n",
    "df.head()"
   ]
  },
  {
   "cell_type": "code",
   "execution_count": 14,
   "metadata": {},
   "outputs": [
    {
     "name": "stdout",
     "output_type": "stream",
     "text": [
      "Данный датасет содержит 205 строк и 26 столбцов.\n"
     ]
    }
   ],
   "source": [
    "row_number = df.shape[0]\n",
    "column_number = df.shape[1]\n",
    "\n",
    "print('Данный датасет содержит {} строк и {} столбцов.'.format(row_number, column_number))"
   ]
  },
  {
   "cell_type": "code",
   "execution_count": 15,
   "metadata": {},
   "outputs": [
    {
     "name": "stdout",
     "output_type": "stream",
     "text": [
      "Пропуски в данных отсутствуют.\n"
     ]
    }
   ],
   "source": [
    "null_flag = False\n",
    "null_columns = {}\n",
    "for col in df.columns:\n",
    "    null_count = df[df[col].isnull()].shape[0]\n",
    "    if null_count > 0:\n",
    "        null_flag = True\n",
    "        column_type = df[col].dtype\n",
    "        null_columns[col] = column_type\n",
    "        percent = round((null_count / row_number) * 100, 3)\n",
    "        print('{} - {} - {}. Тип - {}'.format(col, null_count, percent, column_type))\n",
    "        \n",
    "if not null_flag:\n",
    "    print('Пропуски в данных отсутствуют.')"
   ]
  },
  {
   "cell_type": "code",
   "execution_count": 17,
   "metadata": {},
   "outputs": [
    {
     "name": "stdout",
     "output_type": "stream",
     "text": [
      "CarName\n",
      "fueltype\n",
      "aspiration\n",
      "doornumber\n",
      "carbody\n",
      "drivewheel\n",
      "enginelocation\n",
      "enginetype\n",
      "cylindernumber\n",
      "fuelsystem\n"
     ]
    }
   ],
   "source": [
    "for col in df.columns:\n",
    "    column_type = df[col].dtype\n",
    "    if column_type == 'object':\n",
    "        print(col)"
   ]
  },
  {
   "cell_type": "code",
   "execution_count": 18,
   "metadata": {},
   "outputs": [],
   "source": [
    "from sklearn.preprocessing import LabelEncoder\n",
    "\n",
    "le = LabelEncoder()\n",
    "\n",
    "for col in df.columns:\n",
    "    df[col] = le.fit_transform(df[col])"
   ]
  },
  {
   "cell_type": "code",
   "execution_count": 19,
   "metadata": {},
   "outputs": [],
   "source": [
    "for col in df.columns:\n",
    "    column_type = df[col].dtype\n",
    "    if column_type == 'object':\n",
    "        print(col)"
   ]
  },
  {
   "cell_type": "code",
   "execution_count": 73,
   "metadata": {},
   "outputs": [],
   "source": [
    "from sklearn.model_selection import train_test_split\n",
    "\n",
    "df_x = df.loc[:, df.columns != 'price']\n",
    "df_y = df['price']\n",
    "train_x_df, test_x_df, train_y_df, test_y_df = train_test_split(df_x,df_y,\n",
    "                                     test_size=0.3, random_state=1)"
   ]
  },
  {
   "cell_type": "code",
   "execution_count": 43,
   "metadata": {},
   "outputs": [
    {
     "name": "stdout",
     "output_type": "stream",
     "text": [
      "Тренировочный датасет содержит 143 строки и 25 столбцов.\n"
     ]
    }
   ],
   "source": [
    "row_number_train = train_x_df.shape[0]\n",
    "column_number_train = train_x_df.shape[1]\n",
    "\n",
    "print('Тренировочный датасет содержит {} строки и {} столбцов.'.format(row_number_train, column_number_train))"
   ]
  },
  {
   "cell_type": "code",
   "execution_count": 42,
   "metadata": {},
   "outputs": [
    {
     "name": "stdout",
     "output_type": "stream",
     "text": [
      "Тестовый датасет содержит 62 строки и 25 столбцов.\n"
     ]
    }
   ],
   "source": [
    "row_number_test = test_x_df.shape[0]\n",
    "column_number_test = test_x_df.shape[1]\n",
    "\n",
    "print('Тестовый датасет содержит {} строки и {} столбцов.'.format(row_number_test, column_number_test))"
   ]
  },
  {
   "cell_type": "markdown",
   "metadata": {},
   "source": [
    "# 3. Обучение моделей"
   ]
  },
  {
   "cell_type": "markdown",
   "metadata": {},
   "source": [
    "## 3.1 Линейная модель "
   ]
  },
  {
   "cell_type": "markdown",
   "metadata": {},
   "source": [
    "### 3.1.1 Матрица корреляции"
   ]
  },
  {
   "cell_type": "code",
   "execution_count": 38,
   "metadata": {},
   "outputs": [
    {
     "data": {
      "text/html": [
       "<div>\n",
       "<style scoped>\n",
       "    .dataframe tbody tr th:only-of-type {\n",
       "        vertical-align: middle;\n",
       "    }\n",
       "\n",
       "    .dataframe tbody tr th {\n",
       "        vertical-align: top;\n",
       "    }\n",
       "\n",
       "    .dataframe thead th {\n",
       "        text-align: right;\n",
       "    }\n",
       "</style>\n",
       "<table border=\"1\" class=\"dataframe\">\n",
       "  <thead>\n",
       "    <tr style=\"text-align: right;\">\n",
       "      <th></th>\n",
       "      <th>car_ID</th>\n",
       "      <th>symboling</th>\n",
       "      <th>CarName</th>\n",
       "      <th>fueltype</th>\n",
       "      <th>aspiration</th>\n",
       "      <th>doornumber</th>\n",
       "      <th>carbody</th>\n",
       "      <th>drivewheel</th>\n",
       "      <th>enginelocation</th>\n",
       "      <th>wheelbase</th>\n",
       "      <th>...</th>\n",
       "      <th>enginesize</th>\n",
       "      <th>fuelsystem</th>\n",
       "      <th>boreratio</th>\n",
       "      <th>stroke</th>\n",
       "      <th>compressionratio</th>\n",
       "      <th>horsepower</th>\n",
       "      <th>peakrpm</th>\n",
       "      <th>citympg</th>\n",
       "      <th>highwaympg</th>\n",
       "      <th>price</th>\n",
       "    </tr>\n",
       "  </thead>\n",
       "  <tbody>\n",
       "    <tr>\n",
       "      <th>car_ID</th>\n",
       "      <td>1.000000</td>\n",
       "      <td>-0.151621</td>\n",
       "      <td>0.967077</td>\n",
       "      <td>-0.125568</td>\n",
       "      <td>0.067729</td>\n",
       "      <td>-0.190352</td>\n",
       "      <td>0.098303</td>\n",
       "      <td>0.051406</td>\n",
       "      <td>0.051483</td>\n",
       "      <td>0.162792</td>\n",
       "      <td>...</td>\n",
       "      <td>0.028107</td>\n",
       "      <td>0.204898</td>\n",
       "      <td>0.271661</td>\n",
       "      <td>-0.175206</td>\n",
       "      <td>0.175895</td>\n",
       "      <td>-0.003477</td>\n",
       "      <td>-0.217333</td>\n",
       "      <td>0.033055</td>\n",
       "      <td>0.022503</td>\n",
       "      <td>0.012452</td>\n",
       "    </tr>\n",
       "    <tr>\n",
       "      <th>symboling</th>\n",
       "      <td>-0.151621</td>\n",
       "      <td>1.000000</td>\n",
       "      <td>-0.107095</td>\n",
       "      <td>0.194311</td>\n",
       "      <td>-0.059866</td>\n",
       "      <td>0.664073</td>\n",
       "      <td>-0.596135</td>\n",
       "      <td>-0.041671</td>\n",
       "      <td>0.212471</td>\n",
       "      <td>-0.535721</td>\n",
       "      <td>...</td>\n",
       "      <td>-0.102395</td>\n",
       "      <td>0.091163</td>\n",
       "      <td>-0.129044</td>\n",
       "      <td>-0.018198</td>\n",
       "      <td>-0.053801</td>\n",
       "      <td>0.054142</td>\n",
       "      <td>0.275404</td>\n",
       "      <td>-0.049180</td>\n",
       "      <td>0.019534</td>\n",
       "      <td>-0.089579</td>\n",
       "    </tr>\n",
       "    <tr>\n",
       "      <th>CarName</th>\n",
       "      <td>0.967077</td>\n",
       "      <td>-0.107095</td>\n",
       "      <td>1.000000</td>\n",
       "      <td>-0.069435</td>\n",
       "      <td>0.019914</td>\n",
       "      <td>-0.171745</td>\n",
       "      <td>0.099691</td>\n",
       "      <td>-0.016129</td>\n",
       "      <td>0.055968</td>\n",
       "      <td>0.051429</td>\n",
       "      <td>...</td>\n",
       "      <td>-0.090497</td>\n",
       "      <td>0.123845</td>\n",
       "      <td>0.201561</td>\n",
       "      <td>-0.205093</td>\n",
       "      <td>0.168305</td>\n",
       "      <td>-0.095958</td>\n",
       "      <td>-0.149881</td>\n",
       "      <td>0.111351</td>\n",
       "      <td>0.116787</td>\n",
       "      <td>-0.096100</td>\n",
       "    </tr>\n",
       "    <tr>\n",
       "      <th>fueltype</th>\n",
       "      <td>-0.125568</td>\n",
       "      <td>0.194311</td>\n",
       "      <td>-0.069435</td>\n",
       "      <td>1.000000</td>\n",
       "      <td>-0.401397</td>\n",
       "      <td>0.191491</td>\n",
       "      <td>-0.147853</td>\n",
       "      <td>-0.132257</td>\n",
       "      <td>0.040070</td>\n",
       "      <td>-0.296072</td>\n",
       "      <td>...</td>\n",
       "      <td>-0.126387</td>\n",
       "      <td>0.041529</td>\n",
       "      <td>-0.043657</td>\n",
       "      <td>-0.302867</td>\n",
       "      <td>-0.634479</td>\n",
       "      <td>0.160982</td>\n",
       "      <td>0.487600</td>\n",
       "      <td>-0.257728</td>\n",
       "      <td>-0.173238</td>\n",
       "      <td>-0.140119</td>\n",
       "    </tr>\n",
       "    <tr>\n",
       "      <th>aspiration</th>\n",
       "      <td>0.067729</td>\n",
       "      <td>-0.059866</td>\n",
       "      <td>0.019914</td>\n",
       "      <td>-0.401397</td>\n",
       "      <td>1.000000</td>\n",
       "      <td>-0.031792</td>\n",
       "      <td>0.063028</td>\n",
       "      <td>0.066465</td>\n",
       "      <td>-0.057191</td>\n",
       "      <td>0.246290</td>\n",
       "      <td>...</td>\n",
       "      <td>0.197266</td>\n",
       "      <td>0.288086</td>\n",
       "      <td>0.210910</td>\n",
       "      <td>0.223521</td>\n",
       "      <td>-0.143321</td>\n",
       "      <td>0.307844</td>\n",
       "      <td>-0.181173</td>\n",
       "      <td>-0.204284</td>\n",
       "      <td>-0.264490</td>\n",
       "      <td>0.307676</td>\n",
       "    </tr>\n",
       "    <tr>\n",
       "      <th>doornumber</th>\n",
       "      <td>-0.190352</td>\n",
       "      <td>0.664073</td>\n",
       "      <td>-0.171745</td>\n",
       "      <td>0.191491</td>\n",
       "      <td>-0.031792</td>\n",
       "      <td>1.000000</td>\n",
       "      <td>-0.680358</td>\n",
       "      <td>0.098954</td>\n",
       "      <td>0.137757</td>\n",
       "      <td>-0.466657</td>\n",
       "      <td>...</td>\n",
       "      <td>-0.036787</td>\n",
       "      <td>0.015519</td>\n",
       "      <td>-0.117787</td>\n",
       "      <td>0.004591</td>\n",
       "      <td>-0.058337</td>\n",
       "      <td>0.092022</td>\n",
       "      <td>0.239094</td>\n",
       "      <td>-0.005580</td>\n",
       "      <td>0.021068</td>\n",
       "      <td>-0.115160</td>\n",
       "    </tr>\n",
       "    <tr>\n",
       "      <th>carbody</th>\n",
       "      <td>0.098303</td>\n",
       "      <td>-0.596135</td>\n",
       "      <td>0.099691</td>\n",
       "      <td>-0.147853</td>\n",
       "      <td>0.063028</td>\n",
       "      <td>-0.680358</td>\n",
       "      <td>1.000000</td>\n",
       "      <td>-0.155745</td>\n",
       "      <td>-0.277009</td>\n",
       "      <td>0.406223</td>\n",
       "      <td>...</td>\n",
       "      <td>-0.069157</td>\n",
       "      <td>-0.065079</td>\n",
       "      <td>0.011549</td>\n",
       "      <td>-0.006797</td>\n",
       "      <td>0.039211</td>\n",
       "      <td>-0.137122</td>\n",
       "      <td>-0.111408</td>\n",
       "      <td>0.039518</td>\n",
       "      <td>-0.002510</td>\n",
       "      <td>0.006444</td>\n",
       "    </tr>\n",
       "    <tr>\n",
       "      <th>drivewheel</th>\n",
       "      <td>0.051406</td>\n",
       "      <td>-0.041671</td>\n",
       "      <td>-0.016129</td>\n",
       "      <td>-0.132257</td>\n",
       "      <td>0.066465</td>\n",
       "      <td>0.098954</td>\n",
       "      <td>-0.155745</td>\n",
       "      <td>1.000000</td>\n",
       "      <td>0.147865</td>\n",
       "      <td>0.441048</td>\n",
       "      <td>...</td>\n",
       "      <td>0.578458</td>\n",
       "      <td>0.424686</td>\n",
       "      <td>0.474585</td>\n",
       "      <td>0.062676</td>\n",
       "      <td>0.109677</td>\n",
       "      <td>0.553410</td>\n",
       "      <td>-0.065607</td>\n",
       "      <td>-0.461309</td>\n",
       "      <td>-0.468887</td>\n",
       "      <td>0.600088</td>\n",
       "    </tr>\n",
       "    <tr>\n",
       "      <th>enginelocation</th>\n",
       "      <td>0.051483</td>\n",
       "      <td>0.212471</td>\n",
       "      <td>0.055968</td>\n",
       "      <td>0.040070</td>\n",
       "      <td>-0.057191</td>\n",
       "      <td>0.137757</td>\n",
       "      <td>-0.277009</td>\n",
       "      <td>0.147865</td>\n",
       "      <td>1.000000</td>\n",
       "      <td>-0.170972</td>\n",
       "      <td>...</td>\n",
       "      <td>0.217967</td>\n",
       "      <td>0.105971</td>\n",
       "      <td>0.184332</td>\n",
       "      <td>-0.159755</td>\n",
       "      <td>0.101156</td>\n",
       "      <td>0.252744</td>\n",
       "      <td>0.200105</td>\n",
       "      <td>-0.158795</td>\n",
       "      <td>-0.108853</td>\n",
       "      <td>0.200113</td>\n",
       "    </tr>\n",
       "    <tr>\n",
       "      <th>wheelbase</th>\n",
       "      <td>0.162792</td>\n",
       "      <td>-0.535721</td>\n",
       "      <td>0.051429</td>\n",
       "      <td>-0.296072</td>\n",
       "      <td>0.246290</td>\n",
       "      <td>-0.466657</td>\n",
       "      <td>0.406223</td>\n",
       "      <td>0.441048</td>\n",
       "      <td>-0.170972</td>\n",
       "      <td>1.000000</td>\n",
       "      <td>...</td>\n",
       "      <td>0.607917</td>\n",
       "      <td>0.445035</td>\n",
       "      <td>0.519902</td>\n",
       "      <td>0.192395</td>\n",
       "      <td>-0.027569</td>\n",
       "      <td>0.468176</td>\n",
       "      <td>-0.344842</td>\n",
       "      <td>-0.494659</td>\n",
       "      <td>-0.556040</td>\n",
       "      <td>0.685544</td>\n",
       "    </tr>\n",
       "    <tr>\n",
       "      <th>carlength</th>\n",
       "      <td>0.162165</td>\n",
       "      <td>-0.357163</td>\n",
       "      <td>0.051896</td>\n",
       "      <td>-0.196281</td>\n",
       "      <td>0.244096</td>\n",
       "      <td>-0.382903</td>\n",
       "      <td>0.317995</td>\n",
       "      <td>0.468629</td>\n",
       "      <td>-0.073744</td>\n",
       "      <td>0.901931</td>\n",
       "      <td>...</td>\n",
       "      <td>0.731849</td>\n",
       "      <td>0.580673</td>\n",
       "      <td>0.616105</td>\n",
       "      <td>0.170728</td>\n",
       "      <td>-0.109555</td>\n",
       "      <td>0.635407</td>\n",
       "      <td>-0.287138</td>\n",
       "      <td>-0.668916</td>\n",
       "      <td>-0.700340</td>\n",
       "      <td>0.802523</td>\n",
       "    </tr>\n",
       "    <tr>\n",
       "      <th>carwidth</th>\n",
       "      <td>0.104421</td>\n",
       "      <td>-0.234801</td>\n",
       "      <td>-0.010630</td>\n",
       "      <td>-0.231914</td>\n",
       "      <td>0.311695</td>\n",
       "      <td>-0.229790</td>\n",
       "      <td>0.148598</td>\n",
       "      <td>0.480020</td>\n",
       "      <td>-0.054653</td>\n",
       "      <td>0.824350</td>\n",
       "      <td>...</td>\n",
       "      <td>0.756394</td>\n",
       "      <td>0.570901</td>\n",
       "      <td>0.587738</td>\n",
       "      <td>0.216264</td>\n",
       "      <td>-0.087075</td>\n",
       "      <td>0.674025</td>\n",
       "      <td>-0.235627</td>\n",
       "      <td>-0.670948</td>\n",
       "      <td>-0.705011</td>\n",
       "      <td>0.815487</td>\n",
       "    </tr>\n",
       "    <tr>\n",
       "      <th>carheight</th>\n",
       "      <td>0.255711</td>\n",
       "      <td>-0.516952</td>\n",
       "      <td>0.194678</td>\n",
       "      <td>-0.299030</td>\n",
       "      <td>0.121833</td>\n",
       "      <td>-0.550000</td>\n",
       "      <td>0.547353</td>\n",
       "      <td>0.018504</td>\n",
       "      <td>-0.113427</td>\n",
       "      <td>0.641570</td>\n",
       "      <td>...</td>\n",
       "      <td>0.155616</td>\n",
       "      <td>0.074004</td>\n",
       "      <td>0.219480</td>\n",
       "      <td>-0.028764</td>\n",
       "      <td>0.091183</td>\n",
       "      <td>-0.005478</td>\n",
       "      <td>-0.314013</td>\n",
       "      <td>-0.095240</td>\n",
       "      <td>-0.151043</td>\n",
       "      <td>0.249139</td>\n",
       "    </tr>\n",
       "    <tr>\n",
       "      <th>curbweight</th>\n",
       "      <td>0.119667</td>\n",
       "      <td>-0.208850</td>\n",
       "      <td>0.007118</td>\n",
       "      <td>-0.201092</td>\n",
       "      <td>0.345925</td>\n",
       "      <td>-0.211981</td>\n",
       "      <td>0.133525</td>\n",
       "      <td>0.564606</td>\n",
       "      <td>0.065313</td>\n",
       "      <td>0.772999</td>\n",
       "      <td>...</td>\n",
       "      <td>0.859716</td>\n",
       "      <td>0.669011</td>\n",
       "      <td>0.678332</td>\n",
       "      <td>0.153301</td>\n",
       "      <td>-0.165216</td>\n",
       "      <td>0.800617</td>\n",
       "      <td>-0.255970</td>\n",
       "      <td>-0.795585</td>\n",
       "      <td>-0.826583</td>\n",
       "      <td>0.905891</td>\n",
       "    </tr>\n",
       "    <tr>\n",
       "      <th>enginetype</th>\n",
       "      <td>-0.075130</td>\n",
       "      <td>0.050372</td>\n",
       "      <td>-0.090381</td>\n",
       "      <td>0.082695</td>\n",
       "      <td>-0.102963</td>\n",
       "      <td>0.062431</td>\n",
       "      <td>-0.037024</td>\n",
       "      <td>-0.116823</td>\n",
       "      <td>0.114127</td>\n",
       "      <td>-0.154245</td>\n",
       "      <td>...</td>\n",
       "      <td>-0.020950</td>\n",
       "      <td>-0.091787</td>\n",
       "      <td>0.039181</td>\n",
       "      <td>-0.096164</td>\n",
       "      <td>-0.033553</td>\n",
       "      <td>-0.008977</td>\n",
       "      <td>0.041618</td>\n",
       "      <td>-0.083614</td>\n",
       "      <td>-0.081358</td>\n",
       "      <td>-0.023271</td>\n",
       "    </tr>\n",
       "    <tr>\n",
       "      <th>cylindernumber</th>\n",
       "      <td>-0.040912</td>\n",
       "      <td>0.197762</td>\n",
       "      <td>0.047154</td>\n",
       "      <td>0.110617</td>\n",
       "      <td>-0.133119</td>\n",
       "      <td>0.154322</td>\n",
       "      <td>-0.048408</td>\n",
       "      <td>0.223238</td>\n",
       "      <td>0.135541</td>\n",
       "      <td>-0.156192</td>\n",
       "      <td>...</td>\n",
       "      <td>-0.067742</td>\n",
       "      <td>0.011970</td>\n",
       "      <td>-0.034681</td>\n",
       "      <td>-0.066774</td>\n",
       "      <td>0.112884</td>\n",
       "      <td>0.109815</td>\n",
       "      <td>0.217263</td>\n",
       "      <td>-0.143829</td>\n",
       "      <td>-0.108115</td>\n",
       "      <td>0.045351</td>\n",
       "    </tr>\n",
       "    <tr>\n",
       "      <th>enginesize</th>\n",
       "      <td>0.028107</td>\n",
       "      <td>-0.102395</td>\n",
       "      <td>-0.090497</td>\n",
       "      <td>-0.126387</td>\n",
       "      <td>0.197266</td>\n",
       "      <td>-0.036787</td>\n",
       "      <td>-0.069157</td>\n",
       "      <td>0.578458</td>\n",
       "      <td>0.217967</td>\n",
       "      <td>0.607917</td>\n",
       "      <td>...</td>\n",
       "      <td>1.000000</td>\n",
       "      <td>0.589864</td>\n",
       "      <td>0.649348</td>\n",
       "      <td>0.257172</td>\n",
       "      <td>-0.143432</td>\n",
       "      <td>0.830660</td>\n",
       "      <td>-0.274161</td>\n",
       "      <td>-0.707506</td>\n",
       "      <td>-0.719853</td>\n",
       "      <td>0.818392</td>\n",
       "    </tr>\n",
       "    <tr>\n",
       "      <th>fuelsystem</th>\n",
       "      <td>0.204898</td>\n",
       "      <td>0.091163</td>\n",
       "      <td>0.123845</td>\n",
       "      <td>0.041529</td>\n",
       "      <td>0.288086</td>\n",
       "      <td>0.015519</td>\n",
       "      <td>-0.065079</td>\n",
       "      <td>0.424686</td>\n",
       "      <td>0.105971</td>\n",
       "      <td>0.445035</td>\n",
       "      <td>...</td>\n",
       "      <td>0.589864</td>\n",
       "      <td>1.000000</td>\n",
       "      <td>0.482318</td>\n",
       "      <td>0.086438</td>\n",
       "      <td>-0.310872</td>\n",
       "      <td>0.739309</td>\n",
       "      <td>0.005920</td>\n",
       "      <td>-0.686678</td>\n",
       "      <td>-0.666338</td>\n",
       "      <td>0.707890</td>\n",
       "    </tr>\n",
       "    <tr>\n",
       "      <th>boreratio</th>\n",
       "      <td>0.271661</td>\n",
       "      <td>-0.129044</td>\n",
       "      <td>0.201561</td>\n",
       "      <td>-0.043657</td>\n",
       "      <td>0.210910</td>\n",
       "      <td>-0.117787</td>\n",
       "      <td>0.011549</td>\n",
       "      <td>0.474585</td>\n",
       "      <td>0.184332</td>\n",
       "      <td>0.519902</td>\n",
       "      <td>...</td>\n",
       "      <td>0.649348</td>\n",
       "      <td>0.482318</td>\n",
       "      <td>1.000000</td>\n",
       "      <td>-0.110587</td>\n",
       "      <td>-0.143355</td>\n",
       "      <td>0.609284</td>\n",
       "      <td>-0.274087</td>\n",
       "      <td>-0.595022</td>\n",
       "      <td>-0.597643</td>\n",
       "      <td>0.627766</td>\n",
       "    </tr>\n",
       "    <tr>\n",
       "      <th>stroke</th>\n",
       "      <td>-0.175206</td>\n",
       "      <td>-0.018198</td>\n",
       "      <td>-0.205093</td>\n",
       "      <td>-0.302867</td>\n",
       "      <td>0.223521</td>\n",
       "      <td>0.004591</td>\n",
       "      <td>-0.006797</td>\n",
       "      <td>0.062676</td>\n",
       "      <td>-0.159755</td>\n",
       "      <td>0.192395</td>\n",
       "      <td>...</td>\n",
       "      <td>0.257172</td>\n",
       "      <td>0.086438</td>\n",
       "      <td>-0.110587</td>\n",
       "      <td>1.000000</td>\n",
       "      <td>-0.021271</td>\n",
       "      <td>0.106710</td>\n",
       "      <td>-0.091298</td>\n",
       "      <td>-0.040764</td>\n",
       "      <td>-0.037748</td>\n",
       "      <td>0.102965</td>\n",
       "    </tr>\n",
       "    <tr>\n",
       "      <th>compressionratio</th>\n",
       "      <td>0.175895</td>\n",
       "      <td>-0.053801</td>\n",
       "      <td>0.168305</td>\n",
       "      <td>-0.634479</td>\n",
       "      <td>-0.143321</td>\n",
       "      <td>-0.058337</td>\n",
       "      <td>0.039211</td>\n",
       "      <td>0.109677</td>\n",
       "      <td>0.101156</td>\n",
       "      <td>-0.027569</td>\n",
       "      <td>...</td>\n",
       "      <td>-0.143432</td>\n",
       "      <td>-0.310872</td>\n",
       "      <td>-0.143355</td>\n",
       "      <td>-0.021271</td>\n",
       "      <td>1.000000</td>\n",
       "      <td>-0.375893</td>\n",
       "      <td>-0.144493</td>\n",
       "      <td>0.505315</td>\n",
       "      <td>0.460271</td>\n",
       "      <td>-0.135919</td>\n",
       "    </tr>\n",
       "    <tr>\n",
       "      <th>horsepower</th>\n",
       "      <td>-0.003477</td>\n",
       "      <td>0.054142</td>\n",
       "      <td>-0.095958</td>\n",
       "      <td>0.160982</td>\n",
       "      <td>0.307844</td>\n",
       "      <td>0.092022</td>\n",
       "      <td>-0.137122</td>\n",
       "      <td>0.553410</td>\n",
       "      <td>0.252744</td>\n",
       "      <td>0.468176</td>\n",
       "      <td>...</td>\n",
       "      <td>0.830660</td>\n",
       "      <td>0.739309</td>\n",
       "      <td>0.609284</td>\n",
       "      <td>0.106710</td>\n",
       "      <td>-0.375893</td>\n",
       "      <td>1.000000</td>\n",
       "      <td>0.101971</td>\n",
       "      <td>-0.878778</td>\n",
       "      <td>-0.863744</td>\n",
       "      <td>0.846130</td>\n",
       "    </tr>\n",
       "    <tr>\n",
       "      <th>peakrpm</th>\n",
       "      <td>-0.217333</td>\n",
       "      <td>0.275404</td>\n",
       "      <td>-0.149881</td>\n",
       "      <td>0.487600</td>\n",
       "      <td>-0.181173</td>\n",
       "      <td>0.239094</td>\n",
       "      <td>-0.111408</td>\n",
       "      <td>-0.065607</td>\n",
       "      <td>0.200105</td>\n",
       "      <td>-0.344842</td>\n",
       "      <td>...</td>\n",
       "      <td>-0.274161</td>\n",
       "      <td>0.005920</td>\n",
       "      <td>-0.274087</td>\n",
       "      <td>-0.091298</td>\n",
       "      <td>-0.144493</td>\n",
       "      <td>0.101971</td>\n",
       "      <td>1.000000</td>\n",
       "      <td>-0.107959</td>\n",
       "      <td>-0.043489</td>\n",
       "      <td>-0.091529</td>\n",
       "    </tr>\n",
       "    <tr>\n",
       "      <th>citympg</th>\n",
       "      <td>0.033055</td>\n",
       "      <td>-0.049180</td>\n",
       "      <td>0.111351</td>\n",
       "      <td>-0.257728</td>\n",
       "      <td>-0.204284</td>\n",
       "      <td>-0.005580</td>\n",
       "      <td>0.039518</td>\n",
       "      <td>-0.461309</td>\n",
       "      <td>-0.158795</td>\n",
       "      <td>-0.494659</td>\n",
       "      <td>...</td>\n",
       "      <td>-0.707506</td>\n",
       "      <td>-0.686678</td>\n",
       "      <td>-0.595022</td>\n",
       "      <td>-0.040764</td>\n",
       "      <td>0.505315</td>\n",
       "      <td>-0.878778</td>\n",
       "      <td>-0.107959</td>\n",
       "      <td>1.000000</td>\n",
       "      <td>0.967815</td>\n",
       "      <td>-0.806431</td>\n",
       "    </tr>\n",
       "    <tr>\n",
       "      <th>highwaympg</th>\n",
       "      <td>0.022503</td>\n",
       "      <td>0.019534</td>\n",
       "      <td>0.116787</td>\n",
       "      <td>-0.173238</td>\n",
       "      <td>-0.264490</td>\n",
       "      <td>0.021068</td>\n",
       "      <td>-0.002510</td>\n",
       "      <td>-0.468887</td>\n",
       "      <td>-0.108853</td>\n",
       "      <td>-0.556040</td>\n",
       "      <td>...</td>\n",
       "      <td>-0.719853</td>\n",
       "      <td>-0.666338</td>\n",
       "      <td>-0.597643</td>\n",
       "      <td>-0.037748</td>\n",
       "      <td>0.460271</td>\n",
       "      <td>-0.863744</td>\n",
       "      <td>-0.043489</td>\n",
       "      <td>0.967815</td>\n",
       "      <td>1.000000</td>\n",
       "      <td>-0.813222</td>\n",
       "    </tr>\n",
       "    <tr>\n",
       "      <th>price</th>\n",
       "      <td>0.012452</td>\n",
       "      <td>-0.089579</td>\n",
       "      <td>-0.096100</td>\n",
       "      <td>-0.140119</td>\n",
       "      <td>0.307676</td>\n",
       "      <td>-0.115160</td>\n",
       "      <td>0.006444</td>\n",
       "      <td>0.600088</td>\n",
       "      <td>0.200113</td>\n",
       "      <td>0.685544</td>\n",
       "      <td>...</td>\n",
       "      <td>0.818392</td>\n",
       "      <td>0.707890</td>\n",
       "      <td>0.627766</td>\n",
       "      <td>0.102965</td>\n",
       "      <td>-0.135919</td>\n",
       "      <td>0.846130</td>\n",
       "      <td>-0.091529</td>\n",
       "      <td>-0.806431</td>\n",
       "      <td>-0.813222</td>\n",
       "      <td>1.000000</td>\n",
       "    </tr>\n",
       "  </tbody>\n",
       "</table>\n",
       "<p>26 rows × 26 columns</p>\n",
       "</div>"
      ],
      "text/plain": [
       "                    car_ID  symboling   CarName  fueltype  aspiration  \\\n",
       "car_ID            1.000000  -0.151621  0.967077 -0.125568    0.067729   \n",
       "symboling        -0.151621   1.000000 -0.107095  0.194311   -0.059866   \n",
       "CarName           0.967077  -0.107095  1.000000 -0.069435    0.019914   \n",
       "fueltype         -0.125568   0.194311 -0.069435  1.000000   -0.401397   \n",
       "aspiration        0.067729  -0.059866  0.019914 -0.401397    1.000000   \n",
       "doornumber       -0.190352   0.664073 -0.171745  0.191491   -0.031792   \n",
       "carbody           0.098303  -0.596135  0.099691 -0.147853    0.063028   \n",
       "drivewheel        0.051406  -0.041671 -0.016129 -0.132257    0.066465   \n",
       "enginelocation    0.051483   0.212471  0.055968  0.040070   -0.057191   \n",
       "wheelbase         0.162792  -0.535721  0.051429 -0.296072    0.246290   \n",
       "carlength         0.162165  -0.357163  0.051896 -0.196281    0.244096   \n",
       "carwidth          0.104421  -0.234801 -0.010630 -0.231914    0.311695   \n",
       "carheight         0.255711  -0.516952  0.194678 -0.299030    0.121833   \n",
       "curbweight        0.119667  -0.208850  0.007118 -0.201092    0.345925   \n",
       "enginetype       -0.075130   0.050372 -0.090381  0.082695   -0.102963   \n",
       "cylindernumber   -0.040912   0.197762  0.047154  0.110617   -0.133119   \n",
       "enginesize        0.028107  -0.102395 -0.090497 -0.126387    0.197266   \n",
       "fuelsystem        0.204898   0.091163  0.123845  0.041529    0.288086   \n",
       "boreratio         0.271661  -0.129044  0.201561 -0.043657    0.210910   \n",
       "stroke           -0.175206  -0.018198 -0.205093 -0.302867    0.223521   \n",
       "compressionratio  0.175895  -0.053801  0.168305 -0.634479   -0.143321   \n",
       "horsepower       -0.003477   0.054142 -0.095958  0.160982    0.307844   \n",
       "peakrpm          -0.217333   0.275404 -0.149881  0.487600   -0.181173   \n",
       "citympg           0.033055  -0.049180  0.111351 -0.257728   -0.204284   \n",
       "highwaympg        0.022503   0.019534  0.116787 -0.173238   -0.264490   \n",
       "price             0.012452  -0.089579 -0.096100 -0.140119    0.307676   \n",
       "\n",
       "                  doornumber   carbody  drivewheel  enginelocation  wheelbase  \\\n",
       "car_ID             -0.190352  0.098303    0.051406        0.051483   0.162792   \n",
       "symboling           0.664073 -0.596135   -0.041671        0.212471  -0.535721   \n",
       "CarName            -0.171745  0.099691   -0.016129        0.055968   0.051429   \n",
       "fueltype            0.191491 -0.147853   -0.132257        0.040070  -0.296072   \n",
       "aspiration         -0.031792  0.063028    0.066465       -0.057191   0.246290   \n",
       "doornumber          1.000000 -0.680358    0.098954        0.137757  -0.466657   \n",
       "carbody            -0.680358  1.000000   -0.155745       -0.277009   0.406223   \n",
       "drivewheel          0.098954 -0.155745    1.000000        0.147865   0.441048   \n",
       "enginelocation      0.137757 -0.277009    0.147865        1.000000  -0.170972   \n",
       "wheelbase          -0.466657  0.406223    0.441048       -0.170972   1.000000   \n",
       "carlength          -0.382903  0.317995    0.468629       -0.073744   0.901931   \n",
       "carwidth           -0.229790  0.148598    0.480020       -0.054653   0.824350   \n",
       "carheight          -0.550000  0.547353    0.018504       -0.113427   0.641570   \n",
       "curbweight         -0.211981  0.133525    0.564606        0.065313   0.772999   \n",
       "enginetype          0.062431 -0.037024   -0.116823        0.114127  -0.154245   \n",
       "cylindernumber      0.154322 -0.048408    0.223238        0.135541  -0.156192   \n",
       "enginesize         -0.036787 -0.069157    0.578458        0.217967   0.607917   \n",
       "fuelsystem          0.015519 -0.065079    0.424686        0.105971   0.445035   \n",
       "boreratio          -0.117787  0.011549    0.474585        0.184332   0.519902   \n",
       "stroke              0.004591 -0.006797    0.062676       -0.159755   0.192395   \n",
       "compressionratio   -0.058337  0.039211    0.109677        0.101156  -0.027569   \n",
       "horsepower          0.092022 -0.137122    0.553410        0.252744   0.468176   \n",
       "peakrpm             0.239094 -0.111408   -0.065607        0.200105  -0.344842   \n",
       "citympg            -0.005580  0.039518   -0.461309       -0.158795  -0.494659   \n",
       "highwaympg          0.021068 -0.002510   -0.468887       -0.108853  -0.556040   \n",
       "price              -0.115160  0.006444    0.600088        0.200113   0.685544   \n",
       "\n",
       "                  ...  enginesize  fuelsystem  boreratio    stroke  \\\n",
       "car_ID            ...    0.028107    0.204898   0.271661 -0.175206   \n",
       "symboling         ...   -0.102395    0.091163  -0.129044 -0.018198   \n",
       "CarName           ...   -0.090497    0.123845   0.201561 -0.205093   \n",
       "fueltype          ...   -0.126387    0.041529  -0.043657 -0.302867   \n",
       "aspiration        ...    0.197266    0.288086   0.210910  0.223521   \n",
       "doornumber        ...   -0.036787    0.015519  -0.117787  0.004591   \n",
       "carbody           ...   -0.069157   -0.065079   0.011549 -0.006797   \n",
       "drivewheel        ...    0.578458    0.424686   0.474585  0.062676   \n",
       "enginelocation    ...    0.217967    0.105971   0.184332 -0.159755   \n",
       "wheelbase         ...    0.607917    0.445035   0.519902  0.192395   \n",
       "carlength         ...    0.731849    0.580673   0.616105  0.170728   \n",
       "carwidth          ...    0.756394    0.570901   0.587738  0.216264   \n",
       "carheight         ...    0.155616    0.074004   0.219480 -0.028764   \n",
       "curbweight        ...    0.859716    0.669011   0.678332  0.153301   \n",
       "enginetype        ...   -0.020950   -0.091787   0.039181 -0.096164   \n",
       "cylindernumber    ...   -0.067742    0.011970  -0.034681 -0.066774   \n",
       "enginesize        ...    1.000000    0.589864   0.649348  0.257172   \n",
       "fuelsystem        ...    0.589864    1.000000   0.482318  0.086438   \n",
       "boreratio         ...    0.649348    0.482318   1.000000 -0.110587   \n",
       "stroke            ...    0.257172    0.086438  -0.110587  1.000000   \n",
       "compressionratio  ...   -0.143432   -0.310872  -0.143355 -0.021271   \n",
       "horsepower        ...    0.830660    0.739309   0.609284  0.106710   \n",
       "peakrpm           ...   -0.274161    0.005920  -0.274087 -0.091298   \n",
       "citympg           ...   -0.707506   -0.686678  -0.595022 -0.040764   \n",
       "highwaympg        ...   -0.719853   -0.666338  -0.597643 -0.037748   \n",
       "price             ...    0.818392    0.707890   0.627766  0.102965   \n",
       "\n",
       "                  compressionratio  horsepower   peakrpm   citympg  \\\n",
       "car_ID                    0.175895   -0.003477 -0.217333  0.033055   \n",
       "symboling                -0.053801    0.054142  0.275404 -0.049180   \n",
       "CarName                   0.168305   -0.095958 -0.149881  0.111351   \n",
       "fueltype                 -0.634479    0.160982  0.487600 -0.257728   \n",
       "aspiration               -0.143321    0.307844 -0.181173 -0.204284   \n",
       "doornumber               -0.058337    0.092022  0.239094 -0.005580   \n",
       "carbody                   0.039211   -0.137122 -0.111408  0.039518   \n",
       "drivewheel                0.109677    0.553410 -0.065607 -0.461309   \n",
       "enginelocation            0.101156    0.252744  0.200105 -0.158795   \n",
       "wheelbase                -0.027569    0.468176 -0.344842 -0.494659   \n",
       "carlength                -0.109555    0.635407 -0.287138 -0.668916   \n",
       "carwidth                 -0.087075    0.674025 -0.235627 -0.670948   \n",
       "carheight                 0.091183   -0.005478 -0.314013 -0.095240   \n",
       "curbweight               -0.165216    0.800617 -0.255970 -0.795585   \n",
       "enginetype               -0.033553   -0.008977  0.041618 -0.083614   \n",
       "cylindernumber            0.112884    0.109815  0.217263 -0.143829   \n",
       "enginesize               -0.143432    0.830660 -0.274161 -0.707506   \n",
       "fuelsystem               -0.310872    0.739309  0.005920 -0.686678   \n",
       "boreratio                -0.143355    0.609284 -0.274087 -0.595022   \n",
       "stroke                   -0.021271    0.106710 -0.091298 -0.040764   \n",
       "compressionratio          1.000000   -0.375893 -0.144493  0.505315   \n",
       "horsepower               -0.375893    1.000000  0.101971 -0.878778   \n",
       "peakrpm                  -0.144493    0.101971  1.000000 -0.107959   \n",
       "citympg                   0.505315   -0.878778 -0.107959  1.000000   \n",
       "highwaympg                0.460271   -0.863744 -0.043489  0.967815   \n",
       "price                    -0.135919    0.846130 -0.091529 -0.806431   \n",
       "\n",
       "                  highwaympg     price  \n",
       "car_ID              0.022503  0.012452  \n",
       "symboling           0.019534 -0.089579  \n",
       "CarName             0.116787 -0.096100  \n",
       "fueltype           -0.173238 -0.140119  \n",
       "aspiration         -0.264490  0.307676  \n",
       "doornumber          0.021068 -0.115160  \n",
       "carbody            -0.002510  0.006444  \n",
       "drivewheel         -0.468887  0.600088  \n",
       "enginelocation     -0.108853  0.200113  \n",
       "wheelbase          -0.556040  0.685544  \n",
       "carlength          -0.700340  0.802523  \n",
       "carwidth           -0.705011  0.815487  \n",
       "carheight          -0.151043  0.249139  \n",
       "curbweight         -0.826583  0.905891  \n",
       "enginetype         -0.081358 -0.023271  \n",
       "cylindernumber     -0.108115  0.045351  \n",
       "enginesize         -0.719853  0.818392  \n",
       "fuelsystem         -0.666338  0.707890  \n",
       "boreratio          -0.597643  0.627766  \n",
       "stroke             -0.037748  0.102965  \n",
       "compressionratio    0.460271 -0.135919  \n",
       "horsepower         -0.863744  0.846130  \n",
       "peakrpm            -0.043489 -0.091529  \n",
       "citympg             0.967815 -0.806431  \n",
       "highwaympg          1.000000 -0.813222  \n",
       "price              -0.813222  1.000000  \n",
       "\n",
       "[26 rows x 26 columns]"
      ]
     },
     "execution_count": 38,
     "metadata": {},
     "output_type": "execute_result"
    }
   ],
   "source": [
    "corr_matrix = df.corr()\n",
    "corr_matrix"
   ]
  },
  {
   "cell_type": "code",
   "execution_count": 37,
   "metadata": {},
   "outputs": [
    {
     "data": {
      "text/plain": [
       "price         1.000000\n",
       "curbweight    0.905891\n",
       "horsepower    0.846130\n",
       "enginesize    0.818392\n",
       "Name: price, dtype: float64"
      ]
     },
     "execution_count": 37,
     "metadata": {},
     "output_type": "execute_result"
    }
   ],
   "source": [
    "corr_matrix['price'].nlargest(4)"
   ]
  },
  {
   "cell_type": "code",
   "execution_count": 27,
   "metadata": {},
   "outputs": [
    {
     "data": {
      "text/plain": [
       "<matplotlib.axes._subplots.AxesSubplot at 0x1229205c0>"
      ]
     },
     "execution_count": 27,
     "metadata": {},
     "output_type": "execute_result"
    },
    {
     "data": {
      "image/png": "[encoded data removed]",
      "text/plain": [
       "<Figure size 842.4x595.44 with 2 Axes>"
      ]
     },
     "metadata": {},
     "output_type": "display_data"
    }
   ],
   "source": [
    "import seaborn as sns\n",
    "\n",
    "sns.set(rc={'figure.figsize':(11.7,8.27)})\n",
    "sns.heatmap(corr_matrix)"
   ]
  },
  {
   "cell_type": "code",
   "execution_count": 32,
   "metadata": {},
   "outputs": [
    {
     "data": {
      "application/vnd.plotly.v1+json": {
       "config": {
        "plotlyServerURL": "https://plot.ly"
       },
       "data": [
        {
         "hoverlabel": {
          "namelength": 0
         },
         "hovertemplate": "price=%{x}<br>curbweight=%{y}",
         "legendgroup": "",
         "marker": {
          "color": "#636efa",
          "symbol": "circle"
         },
         "mode": "markers",
         "name": "",
         "showlegend": false,
         "type": "scatter",
         "x": [
          118,
          137,
          137,
          123,
          148,
          128,
          150,
          159,
          169,
          151,
          136,
          145,
          163,
          164,
          170,
          174,
          187,
          184,
          1,
          11,
          17,
          7,
          13,
          49,
          10,
          20,
          41,
          63,
          67,
          114,
          14,
          25,
          5,
          16,
          32,
          34,
          34,
          47,
          70,
          65,
          89,
          113,
          90,
          22,
          66,
          66,
          96,
          177,
          182,
          183,
          2,
          8,
          23,
          21,
          37,
          95,
          104,
          120,
          131,
          65,
          61,
          91,
          88,
          93,
          98,
          154,
          155,
          171,
          173,
          172,
          176,
          180,
          181,
          186,
          188,
          138,
          4,
          9,
          19,
          42,
          81,
          62,
          110,
          126,
          125,
          28,
          55,
          73,
          73,
          6,
          30,
          18,
          24,
          36,
          35,
          46,
          39,
          52,
          58,
          69,
          78,
          119,
          124,
          119,
          147,
          162,
          156,
          106,
          115,
          109,
          122,
          130,
          144,
          142,
          146,
          141,
          152,
          153,
          7,
          49,
          10,
          20,
          41,
          67,
          111,
          166,
          178,
          179,
          185,
          175,
          74,
          80,
          105,
          107,
          127,
          129,
          153,
          158,
          0,
          29,
          40,
          31,
          44,
          82,
          71,
          100,
          38,
          87,
          53,
          103,
          3,
          12,
          15,
          26,
          48,
          64,
          27,
          33,
          48,
          45,
          43,
          59,
          72,
          54,
          57,
          75,
          77,
          60,
          79,
          85,
          97,
          101,
          149,
          68,
          92,
          84,
          94,
          99,
          140,
          135,
          132,
          133,
          44,
          50,
          51,
          56,
          61,
          76,
          86,
          102,
          83,
          116,
          121,
          108,
          112,
          117,
          134,
          139,
          157,
          160,
          143,
          161,
          165,
          167,
          168
         ],
         "xaxis": "x",
         "y": [
          92,
          92,
          115,
          66,
          116,
          87,
          118,
          126,
          142,
          136,
          73,
          73,
          104,
          109,
          137,
          152,
          157,
          161,
          0,
          4,
          10,
          5,
          5,
          38,
          19,
          22,
          22,
          43,
          89,
          113,
          1,
          2,
          3,
          13,
          18,
          25,
          28,
          48,
          56,
          61,
          70,
          84,
          58,
          66,
          4,
          10,
          106,
          170,
          170,
          169,
          7,
          8,
          9,
          15,
          16,
          71,
          71,
          72,
          86,
          72,
          76,
          72,
          76,
          80,
          79,
          99,
          102,
          162,
          166,
          160,
          167,
          165,
          163,
          168,
          164,
          120,
          11,
          14,
          23,
          40,
          69,
          65,
          117,
          122,
          123,
          68,
          75,
          74,
          74,
          6,
          27,
          11,
          12,
          28,
          17,
          29,
          20,
          30,
          24,
          63,
          60,
          143,
          155,
          138,
          140,
          147,
          147,
          131,
          150,
          152,
          158,
          141,
          153,
          154,
          159,
          141,
          153,
          145,
          11,
          38,
          19,
          22,
          43,
          89,
          114,
          110,
          107,
          107,
          111,
          156,
          95,
          83,
          97,
          101,
          103,
          108,
          112,
          119,
          32,
          36,
          49,
          40,
          42,
          67,
          72,
          88,
          57,
          81,
          78,
          96,
          21,
          31,
          26,
          55,
          57,
          144,
          33,
          35,
          54,
          54,
          34,
          37,
          39,
          41,
          44,
          53,
          59,
          91,
          90,
          93,
          100,
          105,
          127,
          64,
          85,
          77,
          77,
          82,
          128,
          130,
          146,
          148,
          51,
          45,
          52,
          46,
          54,
          62,
          59,
          50,
          47,
          98,
          95,
          94,
          121,
          132,
          124,
          133,
          134,
          149,
          125,
          135,
          129,
          151,
          139
         ],
         "yaxis": "y"
        }
       ],
       "layout": {
        "legend": {
         "tracegroupgap": 0
        },
        "margin": {
         "t": 60
        },
        "template": {
         "data": {
          "bar": [
           {
            "error_x": {
             "color": "#2a3f5f"
            },
            "error_y": {
             "color": "#2a3f5f"
            },
            "marker": {
             "line": {
              "color": "#E5ECF6",
              "width": 0.5
             }
            },
            "type": "bar"
           }
          ],
          "barpolar": [
           {
            "marker": {
             "line": {
              "color": "#E5ECF6",
              "width": 0.5
             }
            },
            "type": "barpolar"
           }
          ],
          "carpet": [
           {
            "aaxis": {
             "endlinecolor": "#2a3f5f",
             "gridcolor": "white",
             "linecolor": "white",
             "minorgridcolor": "white",
             "startlinecolor": "#2a3f5f"
            },
            "baxis": {
             "endlinecolor": "#2a3f5f",
             "gridcolor": "white",
             "linecolor": "white",
             "minorgridcolor": "white",
             "startlinecolor": "#2a3f5f"
            },
            "type": "carpet"
           }
          ],
          "choropleth": [
           {
            "colorbar": {
             "outlinewidth": 0,
             "ticks": ""
            },
            "type": "choropleth"
           }
          ],
          "contour": [
           {
            "colorbar": {
             "outlinewidth": 0,
             "ticks": ""
            },
            "colorscale": [
             [
              0,
              "#0d0887"
             ],
             [
              0.1111111111111111,
              "#46039f"
             ],
             [
              0.2222222222222222,
              "#7201a8"
             ],
             [
              0.3333333333333333,
              "#9c179e"
             ],
             [
              0.4444444444444444,
              "#bd3786"
             ],
             [
              0.5555555555555556,
              "#d8576b"
             ],
             [
              0.6666666666666666,
              "#ed7953"
             ],
             [
              0.7777777777777778,
              "#fb9f3a"
             ],
             [
              0.8888888888888888,
              "#fdca26"
             ],
             [
              1,
              "#f0f921"
             ]
            ],
            "type": "contour"
           }
          ],
          "contourcarpet": [
           {
            "colorbar": {
             "outlinewidth": 0,
             "ticks": ""
            },
            "type": "contourcarpet"
           }
          ],
          "heatmap": [
           {
            "colorbar": {
             "outlinewidth": 0,
             "ticks": ""
            },
            "colorscale": [
             [
              0,
              "#0d0887"
             ],
             [
              0.1111111111111111,
              "#46039f"
             ],
             [
              0.2222222222222222,
              "#7201a8"
             ],
             [
              0.3333333333333333,
              "#9c179e"
             ],
             [
              0.4444444444444444,
              "#bd3786"
             ],
             [
              0.5555555555555556,
              "#d8576b"
             ],
             [
              0.6666666666666666,
              "#ed7953"
             ],
             [
              0.7777777777777778,
              "#fb9f3a"
             ],
             [
              0.8888888888888888,
              "#fdca26"
             ],
             [
              1,
              "#f0f921"
             ]
            ],
            "type": "heatmap"
           }
          ],
          "heatmapgl": [
           {
            "colorbar": {
             "outlinewidth": 0,
             "ticks": ""
            },
            "colorscale": [
             [
              0,
              "#0d0887"
             ],
             [
              0.1111111111111111,
              "#46039f"
             ],
             [
              0.2222222222222222,
              "#7201a8"
             ],
             [
              0.3333333333333333,
              "#9c179e"
             ],
             [
              0.4444444444444444,
              "#bd3786"
             ],
             [
              0.5555555555555556,
              "#d8576b"
             ],
             [
              0.6666666666666666,
              "#ed7953"
             ],
             [
              0.7777777777777778,
              "#fb9f3a"
             ],
             [
              0.8888888888888888,
              "#fdca26"
             ],
             [
              1,
              "#f0f921"
             ]
            ],
            "type": "heatmapgl"
           }
          ],
          "histogram": [
           {
            "marker": {
             "colorbar": {
              "outlinewidth": 0,
              "ticks": ""
             }
            },
            "type": "histogram"
           }
          ],
          "histogram2d": [
           {
            "colorbar": {
             "outlinewidth": 0,
             "ticks": ""
            },
            "colorscale": [
             [
              0,
              "#0d0887"
             ],
             [
              0.1111111111111111,
              "#46039f"
             ],
             [
              0.2222222222222222,
              "#7201a8"
             ],
             [
              0.3333333333333333,
              "#9c179e"
             ],
             [
              0.4444444444444444,
              "#bd3786"
             ],
             [
              0.5555555555555556,
              "#d8576b"
             ],
             [
              0.6666666666666666,
              "#ed7953"
             ],
             [
              0.7777777777777778,
              "#fb9f3a"
             ],
             [
              0.8888888888888888,
              "#fdca26"
             ],
             [
              1,
              "#f0f921"
             ]
            ],
            "type": "histogram2d"
           }
          ],
          "histogram2dcontour": [
           {
            "colorbar": {
             "outlinewidth": 0,
             "ticks": ""
            },
            "colorscale": [
             [
              0,
              "#0d0887"
             ],
             [
              0.1111111111111111,
              "#46039f"
             ],
             [
              0.2222222222222222,
              "#7201a8"
             ],
             [
              0.3333333333333333,
              "#9c179e"
             ],
             [
              0.4444444444444444,
              "#bd3786"
             ],
             [
              0.5555555555555556,
              "#d8576b"
             ],
             [
              0.6666666666666666,
              "#ed7953"
             ],
             [
              0.7777777777777778,
              "#fb9f3a"
             ],
             [
              0.8888888888888888,
              "#fdca26"
             ],
             [
              1,
              "#f0f921"
             ]
            ],
            "type": "histogram2dcontour"
           }
          ],
          "mesh3d": [
           {
            "colorbar": {
             "outlinewidth": 0,
             "ticks": ""
            },
            "type": "mesh3d"
           }
          ],
          "parcoords": [
           {
            "line": {
             "colorbar": {
              "outlinewidth": 0,
              "ticks": ""
             }
            },
            "type": "parcoords"
           }
          ],
          "pie": [
           {
            "automargin": true,
            "type": "pie"
           }
          ],
          "scatter": [
           {
            "marker": {
             "colorbar": {
              "outlinewidth": 0,
              "ticks": ""
             }
            },
            "type": "scatter"
           }
          ],
          "scatter3d": [
           {
            "line": {
             "colorbar": {
              "outlinewidth": 0,
              "ticks": ""
             }
            },
            "marker": {
             "colorbar": {
              "outlinewidth": 0,
              "ticks": ""
             }
            },
            "type": "scatter3d"
           }
          ],
          "scattercarpet": [
           {
            "marker": {
             "colorbar": {
              "outlinewidth": 0,
              "ticks": ""
             }
            },
            "type": "scattercarpet"
           }
          ],
          "scattergeo": [
           {
            "marker": {
             "colorbar": {
              "outlinewidth": 0,
              "ticks": ""
             }
            },
            "type": "scattergeo"
           }
          ],
          "scattergl": [
           {
            "marker": {
             "colorbar": {
              "outlinewidth": 0,
              "ticks": ""
             }
            },
            "type": "scattergl"
           }
          ],
          "scattermapbox": [
           {
            "marker": {
             "colorbar": {
              "outlinewidth": 0,
              "ticks": ""
             }
            },
            "type": "scattermapbox"
           }
          ],
          "scatterpolar": [
           {
            "marker": {
             "colorbar": {
              "outlinewidth": 0,
              "ticks": ""
             }
            },
            "type": "scatterpolar"
           }
          ],
          "scatterpolargl": [
           {
            "marker": {
             "colorbar": {
              "outlinewidth": 0,
              "ticks": ""
             }
            },
            "type": "scatterpolargl"
           }
          ],
          "scatterternary": [
           {
            "marker": {
             "colorbar": {
              "outlinewidth": 0,
              "ticks": ""
             }
            },
            "type": "scatterternary"
           }
          ],
          "surface": [
           {
            "colorbar": {
             "outlinewidth": 0,
             "ticks": ""
            },
            "colorscale": [
             [
              0,
              "#0d0887"
             ],
             [
              0.1111111111111111,
              "#46039f"
             ],
             [
              0.2222222222222222,
              "#7201a8"
             ],
             [
              0.3333333333333333,
              "#9c179e"
             ],
             [
              0.4444444444444444,
              "#bd3786"
             ],
             [
              0.5555555555555556,
              "#d8576b"
             ],
             [
              0.6666666666666666,
              "#ed7953"
             ],
             [
              0.7777777777777778,
              "#fb9f3a"
             ],
             [
              0.8888888888888888,
              "#fdca26"
             ],
             [
              1,
              "#f0f921"
             ]
            ],
            "type": "surface"
           }
          ],
          "table": [
           {
            "cells": {
             "fill": {
              "color": "#EBF0F8"
             },
             "line": {
              "color": "white"
             }
            },
            "header": {
             "fill": {
              "color": "#C8D4E3"
             },
             "line": {
              "color": "white"
             }
            },
            "type": "table"
           }
          ]
         },
         "layout": {
          "annotationdefaults": {
           "arrowcolor": "#2a3f5f",
           "arrowhead": 0,
           "arrowwidth": 1
          },
          "coloraxis": {
           "colorbar": {
            "outlinewidth": 0,
            "ticks": ""
           }
          },
          "colorscale": {
           "diverging": [
            [
             0,
             "#8e0152"
            ],
            [
             0.1,
             "#c51b7d"
            ],
            [
             0.2,
             "#de77ae"
            ],
            [
             0.3,
             "#f1b6da"
            ],
            [
             0.4,
             "#fde0ef"
            ],
            [
             0.5,
             "#f7f7f7"
            ],
            [
             0.6,
             "#e6f5d0"
            ],
            [
             0.7,
             "#b8e186"
            ],
            [
             0.8,
             "#7fbc41"
            ],
            [
             0.9,
             "#4d9221"
            ],
            [
             1,
             "#276419"
            ]
           ],
           "sequential": [
            [
             0,
             "#0d0887"
            ],
            [
             0.1111111111111111,
             "#46039f"
            ],
            [
             0.2222222222222222,
             "#7201a8"
            ],
            [
             0.3333333333333333,
             "#9c179e"
            ],
            [
             0.4444444444444444,
             "#bd3786"
            ],
            [
             0.5555555555555556,
             "#d8576b"
            ],
            [
             0.6666666666666666,
             "#ed7953"
            ],
            [
             0.7777777777777778,
             "#fb9f3a"
            ],
            [
             0.8888888888888888,
             "#fdca26"
            ],
            [
             1,
             "#f0f921"
            ]
           ],
           "sequentialminus": [
            [
             0,
             "#0d0887"
            ],
            [
             0.1111111111111111,
             "#46039f"
            ],
            [
             0.2222222222222222,
             "#7201a8"
            ],
            [
             0.3333333333333333,
             "#9c179e"
            ],
            [
             0.4444444444444444,
             "#bd3786"
            ],
            [
             0.5555555555555556,
             "#d8576b"
            ],
            [
             0.6666666666666666,
             "#ed7953"
            ],
            [
             0.7777777777777778,
             "#fb9f3a"
            ],
            [
             0.8888888888888888,
             "#fdca26"
            ],
            [
             1,
             "#f0f921"
            ]
           ]
          },
          "colorway": [
           "#636efa",
           "#EF553B",
           "#00cc96",
           "#ab63fa",
           "#FFA15A",
           "#19d3f3",
           "#FF6692",
           "#B6E880",
           "#FF97FF",
           "#FECB52"
          ],
          "font": {
           "color": "#2a3f5f"
          },
          "geo": {
           "bgcolor": "white",
           "lakecolor": "white",
           "landcolor": "#E5ECF6",
           "showlakes": true,
           "showland": true,
           "subunitcolor": "white"
          },
          "hoverlabel": {
           "align": "left"
          },
          "hovermode": "closest",
          "mapbox": {
           "style": "light"
          },
          "paper_bgcolor": "white",
          "plot_bgcolor": "#E5ECF6",
          "polar": {
           "angularaxis": {
            "gridcolor": "white",
            "linecolor": "white",
            "ticks": ""
           },
           "bgcolor": "#E5ECF6",
           "radialaxis": {
            "gridcolor": "white",
            "linecolor": "white",
            "ticks": ""
           }
          },
          "scene": {
           "xaxis": {
            "backgroundcolor": "#E5ECF6",
            "gridcolor": "white",
            "gridwidth": 2,
            "linecolor": "white",
            "showbackground": true,
            "ticks": "",
            "zerolinecolor": "white"
           },
           "yaxis": {
            "backgroundcolor": "#E5ECF6",
            "gridcolor": "white",
            "gridwidth": 2,
            "linecolor": "white",
            "showbackground": true,
            "ticks": "",
            "zerolinecolor": "white"
           },
           "zaxis": {
            "backgroundcolor": "#E5ECF6",
            "gridcolor": "white",
            "gridwidth": 2,
            "linecolor": "white",
            "showbackground": true,
            "ticks": "",
            "zerolinecolor": "white"
           }
          },
          "shapedefaults": {
           "line": {
            "color": "#2a3f5f"
           }
          },
          "ternary": {
           "aaxis": {
            "gridcolor": "white",
            "linecolor": "white",
            "ticks": ""
           },
           "baxis": {
            "gridcolor": "white",
            "linecolor": "white",
            "ticks": ""
           },
           "bgcolor": "#E5ECF6",
           "caxis": {
            "gridcolor": "white",
            "linecolor": "white",
            "ticks": ""
           }
          },
          "title": {
           "x": 0.05
          },
          "xaxis": {
           "automargin": true,
           "gridcolor": "white",
           "linecolor": "white",
           "ticks": "",
           "title": {
            "standoff": 15
           },
           "zerolinecolor": "white",
           "zerolinewidth": 2
          },
          "yaxis": {
           "automargin": true,
           "gridcolor": "white",
           "linecolor": "white",
           "ticks": "",
           "title": {
            "standoff": 15
           },
           "zerolinecolor": "white",
           "zerolinewidth": 2
          }
         }
        },
        "xaxis": {
         "anchor": "y",
         "domain": [
          0,
          1
         ],
         "title": {
          "text": "price"
         }
        },
        "yaxis": {
         "anchor": "x",
         "domain": [
          0,
          1
         ],
         "title": {
          "text": "curbweight"
         }
        }
       }
      },
      "text/html": [
       "<div>\n",
       "        \n",
       "        \n",
       "            <div id=\"29ceb41e-03db-45c5-846d-0bdd464132d0\" class=\"plotly-graph-div\" style=\"height:525px; width:100%;\"></div>\n",
       "            <script type=\"text/javascript\">\n",
       "                require([\"plotly\"], function(Plotly) {\n",
       "                    window.PLOTLYENV=window.PLOTLYENV || {};\n",
       "                    \n",
       "                if (document.getElementById(\"29ceb41e-03db-45c5-846d-0bdd464132d0\")) {\n",
       "                    Plotly.newPlot(\n",
       "                        '29ceb41e-03db-45c5-846d-0bdd464132d0',\n",
       "                        [{\"hoverlabel\": {\"namelength\": 0}, \"hovertemplate\": \"price=%{x}<br>curbweight=%{y}\", \"legendgroup\": \"\", \"marker\": {\"color\": \"#636efa\", \"symbol\": \"circle\"}, \"mode\": \"markers\", \"name\": \"\", \"showlegend\": false, \"type\": \"scatter\", \"x\": [118, 137, 137, 123, 148, 128, 150, 159, 169, 151, 136, 145, 163, 164, 170, 174, 187, 184, 1, 11, 17, 7, 13, 49, 10, 20, 41, 63, 67, 114, 14, 25, 5, 16, 32, 34, 34, 47, 70, 65, 89, 113, 90, 22, 66, 66, 96, 177, 182, 183, 2, 8, 23, 21, 37, 95, 104, 120, 131, 65, 61, 91, 88, 93, 98, 154, 155, 171, 173, 172, 176, 180, 181, 186, 188, 138, 4, 9, 19, 42, 81, 62, 110, 126, 125, 28, 55, 73, 73, 6, 30, 18, 24, 36, 35, 46, 39, 52, 58, 69, 78, 119, 124, 119, 147, 162, 156, 106, 115, 109, 122, 130, 144, 142, 146, 141, 152, 153, 7, 49, 10, 20, 41, 67, 111, 166, 178, 179, 185, 175, 74, 80, 105, 107, 127, 129, 153, 158, 0, 29, 40, 31, 44, 82, 71, 100, 38, 87, 53, 103, 3, 12, 15, 26, 48, 64, 27, 33, 48, 45, 43, 59, 72, 54, 57, 75, 77, 60, 79, 85, 97, 101, 149, 68, 92, 84, 94, 99, 140, 135, 132, 133, 44, 50, 51, 56, 61, 76, 86, 102, 83, 116, 121, 108, 112, 117, 134, 139, 157, 160, 143, 161, 165, 167, 168], \"xaxis\": \"x\", \"y\": [92, 92, 115, 66, 116, 87, 118, 126, 142, 136, 73, 73, 104, 109, 137, 152, 157, 161, 0, 4, 10, 5, 5, 38, 19, 22, 22, 43, 89, 113, 1, 2, 3, 13, 18, 25, 28, 48, 56, 61, 70, 84, 58, 66, 4, 10, 106, 170, 170, 169, 7, 8, 9, 15, 16, 71, 71, 72, 86, 72, 76, 72, 76, 80, 79, 99, 102, 162, 166, 160, 167, 165, 163, 168, 164, 120, 11, 14, 23, 40, 69, 65, 117, 122, 123, 68, 75, 74, 74, 6, 27, 11, 12, 28, 17, 29, 20, 30, 24, 63, 60, 143, 155, 138, 140, 147, 147, 131, 150, 152, 158, 141, 153, 154, 159, 141, 153, 145, 11, 38, 19, 22, 43, 89, 114, 110, 107, 107, 111, 156, 95, 83, 97, 101, 103, 108, 112, 119, 32, 36, 49, 40, 42, 67, 72, 88, 57, 81, 78, 96, 21, 31, 26, 55, 57, 144, 33, 35, 54, 54, 34, 37, 39, 41, 44, 53, 59, 91, 90, 93, 100, 105, 127, 64, 85, 77, 77, 82, 128, 130, 146, 148, 51, 45, 52, 46, 54, 62, 59, 50, 47, 98, 95, 94, 121, 132, 124, 133, 134, 149, 125, 135, 129, 151, 139], \"yaxis\": \"y\"}],\n",
       "                        {\"legend\": {\"tracegroupgap\": 0}, \"margin\": {\"t\": 60}, \"template\": {\"data\": {\"bar\": [{\"error_x\": {\"color\": \"#2a3f5f\"}, \"error_y\": {\"color\": \"#2a3f5f\"}, \"marker\": {\"line\": {\"color\": \"#E5ECF6\", \"width\": 0.5}}, \"type\": \"bar\"}], \"barpolar\": [{\"marker\": {\"line\": {\"color\": \"#E5ECF6\", \"width\": 0.5}}, \"type\": \"barpolar\"}], \"carpet\": [{\"aaxis\": {\"endlinecolor\": \"#2a3f5f\", \"gridcolor\": \"white\", \"linecolor\": \"white\", \"minorgridcolor\": \"white\", \"startlinecolor\": \"#2a3f5f\"}, \"baxis\": {\"endlinecolor\": \"#2a3f5f\", \"gridcolor\": \"white\", \"linecolor\": \"white\", \"minorgridcolor\": \"white\", \"startlinecolor\": \"#2a3f5f\"}, \"type\": \"carpet\"}], \"choropleth\": [{\"colorbar\": {\"outlinewidth\": 0, \"ticks\": \"\"}, \"type\": \"choropleth\"}], \"contour\": [{\"colorbar\": {\"outlinewidth\": 0, \"ticks\": \"\"}, \"colorscale\": [[0.0, \"#0d0887\"], [0.1111111111111111, \"#46039f\"], [0.2222222222222222, \"#7201a8\"], [0.3333333333333333, \"#9c179e\"], [0.4444444444444444, \"#bd3786\"], [0.5555555555555556, \"#d8576b\"], [0.6666666666666666, \"#ed7953\"], [0.7777777777777778, \"#fb9f3a\"], [0.8888888888888888, \"#fdca26\"], [1.0, \"#f0f921\"]], \"type\": \"contour\"}], \"contourcarpet\": [{\"colorbar\": {\"outlinewidth\": 0, \"ticks\": \"\"}, \"type\": \"contourcarpet\"}], \"heatmap\": [{\"colorbar\": {\"outlinewidth\": 0, \"ticks\": \"\"}, \"colorscale\": [[0.0, \"#0d0887\"], [0.1111111111111111, \"#46039f\"], [0.2222222222222222, \"#7201a8\"], [0.3333333333333333, \"#9c179e\"], [0.4444444444444444, \"#bd3786\"], [0.5555555555555556, \"#d8576b\"], [0.6666666666666666, \"#ed7953\"], [0.7777777777777778, \"#fb9f3a\"], [0.8888888888888888, \"#fdca26\"], [1.0, \"#f0f921\"]], \"type\": \"heatmap\"}], \"heatmapgl\": [{\"colorbar\": {\"outlinewidth\": 0, \"ticks\": \"\"}, \"colorscale\": [[0.0, \"#0d0887\"], [0.1111111111111111, \"#46039f\"], [0.2222222222222222, \"#7201a8\"], [0.3333333333333333, \"#9c179e\"], [0.4444444444444444, \"#bd3786\"], [0.5555555555555556, \"#d8576b\"], [0.6666666666666666, \"#ed7953\"], [0.7777777777777778, \"#fb9f3a\"], [0.8888888888888888, \"#fdca26\"], [1.0, \"#f0f921\"]], \"type\": \"heatmapgl\"}], \"histogram\": [{\"marker\": {\"colorbar\": {\"outlinewidth\": 0, \"ticks\": \"\"}}, \"type\": \"histogram\"}], \"histogram2d\": [{\"colorbar\": {\"outlinewidth\": 0, \"ticks\": \"\"}, \"colorscale\": [[0.0, \"#0d0887\"], [0.1111111111111111, \"#46039f\"], [0.2222222222222222, \"#7201a8\"], [0.3333333333333333, \"#9c179e\"], [0.4444444444444444, \"#bd3786\"], [0.5555555555555556, \"#d8576b\"], [0.6666666666666666, \"#ed7953\"], [0.7777777777777778, \"#fb9f3a\"], [0.8888888888888888, \"#fdca26\"], [1.0, \"#f0f921\"]], \"type\": \"histogram2d\"}], \"histogram2dcontour\": [{\"colorbar\": {\"outlinewidth\": 0, \"ticks\": \"\"}, \"colorscale\": [[0.0, \"#0d0887\"], [0.1111111111111111, \"#46039f\"], [0.2222222222222222, \"#7201a8\"], [0.3333333333333333, \"#9c179e\"], [0.4444444444444444, \"#bd3786\"], [0.5555555555555556, \"#d8576b\"], [0.6666666666666666, \"#ed7953\"], [0.7777777777777778, \"#fb9f3a\"], [0.8888888888888888, \"#fdca26\"], [1.0, \"#f0f921\"]], \"type\": \"histogram2dcontour\"}], \"mesh3d\": [{\"colorbar\": {\"outlinewidth\": 0, \"ticks\": \"\"}, \"type\": \"mesh3d\"}], \"parcoords\": [{\"line\": {\"colorbar\": {\"outlinewidth\": 0, \"ticks\": \"\"}}, \"type\": \"parcoords\"}], \"pie\": [{\"automargin\": true, \"type\": \"pie\"}], \"scatter\": [{\"marker\": {\"colorbar\": {\"outlinewidth\": 0, \"ticks\": \"\"}}, \"type\": \"scatter\"}], \"scatter3d\": [{\"line\": {\"colorbar\": {\"outlinewidth\": 0, \"ticks\": \"\"}}, \"marker\": {\"colorbar\": {\"outlinewidth\": 0, \"ticks\": \"\"}}, \"type\": \"scatter3d\"}], \"scattercarpet\": [{\"marker\": {\"colorbar\": {\"outlinewidth\": 0, \"ticks\": \"\"}}, \"type\": \"scattercarpet\"}], \"scattergeo\": [{\"marker\": {\"colorbar\": {\"outlinewidth\": 0, \"ticks\": \"\"}}, \"type\": \"scattergeo\"}], \"scattergl\": [{\"marker\": {\"colorbar\": {\"outlinewidth\": 0, \"ticks\": \"\"}}, \"type\": \"scattergl\"}], \"scattermapbox\": [{\"marker\": {\"colorbar\": {\"outlinewidth\": 0, \"ticks\": \"\"}}, \"type\": \"scattermapbox\"}], \"scatterpolar\": [{\"marker\": {\"colorbar\": {\"outlinewidth\": 0, \"ticks\": \"\"}}, \"type\": \"scatterpolar\"}], \"scatterpolargl\": [{\"marker\": {\"colorbar\": {\"outlinewidth\": 0, \"ticks\": \"\"}}, \"type\": \"scatterpolargl\"}], \"scatterternary\": [{\"marker\": {\"colorbar\": {\"outlinewidth\": 0, \"ticks\": \"\"}}, \"type\": \"scatterternary\"}], \"surface\": [{\"colorbar\": {\"outlinewidth\": 0, \"ticks\": \"\"}, \"colorscale\": [[0.0, \"#0d0887\"], [0.1111111111111111, \"#46039f\"], [0.2222222222222222, \"#7201a8\"], [0.3333333333333333, \"#9c179e\"], [0.4444444444444444, \"#bd3786\"], [0.5555555555555556, \"#d8576b\"], [0.6666666666666666, \"#ed7953\"], [0.7777777777777778, \"#fb9f3a\"], [0.8888888888888888, \"#fdca26\"], [1.0, \"#f0f921\"]], \"type\": \"surface\"}], \"table\": [{\"cells\": {\"fill\": {\"color\": \"#EBF0F8\"}, \"line\": {\"color\": \"white\"}}, \"header\": {\"fill\": {\"color\": \"#C8D4E3\"}, \"line\": {\"color\": \"white\"}}, \"type\": \"table\"}]}, \"layout\": {\"annotationdefaults\": {\"arrowcolor\": \"#2a3f5f\", \"arrowhead\": 0, \"arrowwidth\": 1}, \"coloraxis\": {\"colorbar\": {\"outlinewidth\": 0, \"ticks\": \"\"}}, \"colorscale\": {\"diverging\": [[0, \"#8e0152\"], [0.1, \"#c51b7d\"], [0.2, \"#de77ae\"], [0.3, \"#f1b6da\"], [0.4, \"#fde0ef\"], [0.5, \"#f7f7f7\"], [0.6, \"#e6f5d0\"], [0.7, \"#b8e186\"], [0.8, \"#7fbc41\"], [0.9, \"#4d9221\"], [1, \"#276419\"]], \"sequential\": [[0.0, \"#0d0887\"], [0.1111111111111111, \"#46039f\"], [0.2222222222222222, \"#7201a8\"], [0.3333333333333333, \"#9c179e\"], [0.4444444444444444, \"#bd3786\"], [0.5555555555555556, \"#d8576b\"], [0.6666666666666666, \"#ed7953\"], [0.7777777777777778, \"#fb9f3a\"], [0.8888888888888888, \"#fdca26\"], [1.0, \"#f0f921\"]], \"sequentialminus\": [[0.0, \"#0d0887\"], [0.1111111111111111, \"#46039f\"], [0.2222222222222222, \"#7201a8\"], [0.3333333333333333, \"#9c179e\"], [0.4444444444444444, \"#bd3786\"], [0.5555555555555556, \"#d8576b\"], [0.6666666666666666, \"#ed7953\"], [0.7777777777777778, \"#fb9f3a\"], [0.8888888888888888, \"#fdca26\"], [1.0, \"#f0f921\"]]}, \"colorway\": [\"#636efa\", \"#EF553B\", \"#00cc96\", \"#ab63fa\", \"#FFA15A\", \"#19d3f3\", \"#FF6692\", \"#B6E880\", \"#FF97FF\", \"#FECB52\"], \"font\": {\"color\": \"#2a3f5f\"}, \"geo\": {\"bgcolor\": \"white\", \"lakecolor\": \"white\", \"landcolor\": \"#E5ECF6\", \"showlakes\": true, \"showland\": true, \"subunitcolor\": \"white\"}, \"hoverlabel\": {\"align\": \"left\"}, \"hovermode\": \"closest\", \"mapbox\": {\"style\": \"light\"}, \"paper_bgcolor\": \"white\", \"plot_bgcolor\": \"#E5ECF6\", \"polar\": {\"angularaxis\": {\"gridcolor\": \"white\", \"linecolor\": \"white\", \"ticks\": \"\"}, \"bgcolor\": \"#E5ECF6\", \"radialaxis\": {\"gridcolor\": \"white\", \"linecolor\": \"white\", \"ticks\": \"\"}}, \"scene\": {\"xaxis\": {\"backgroundcolor\": \"#E5ECF6\", \"gridcolor\": \"white\", \"gridwidth\": 2, \"linecolor\": \"white\", \"showbackground\": true, \"ticks\": \"\", \"zerolinecolor\": \"white\"}, \"yaxis\": {\"backgroundcolor\": \"#E5ECF6\", \"gridcolor\": \"white\", \"gridwidth\": 2, \"linecolor\": \"white\", \"showbackground\": true, \"ticks\": \"\", \"zerolinecolor\": \"white\"}, \"zaxis\": {\"backgroundcolor\": \"#E5ECF6\", \"gridcolor\": \"white\", \"gridwidth\": 2, \"linecolor\": \"white\", \"showbackground\": true, \"ticks\": \"\", \"zerolinecolor\": \"white\"}}, \"shapedefaults\": {\"line\": {\"color\": \"#2a3f5f\"}}, \"ternary\": {\"aaxis\": {\"gridcolor\": \"white\", \"linecolor\": \"white\", \"ticks\": \"\"}, \"baxis\": {\"gridcolor\": \"white\", \"linecolor\": \"white\", \"ticks\": \"\"}, \"bgcolor\": \"#E5ECF6\", \"caxis\": {\"gridcolor\": \"white\", \"linecolor\": \"white\", \"ticks\": \"\"}}, \"title\": {\"x\": 0.05}, \"xaxis\": {\"automargin\": true, \"gridcolor\": \"white\", \"linecolor\": \"white\", \"ticks\": \"\", \"title\": {\"standoff\": 15}, \"zerolinecolor\": \"white\", \"zerolinewidth\": 2}, \"yaxis\": {\"automargin\": true, \"gridcolor\": \"white\", \"linecolor\": \"white\", \"ticks\": \"\", \"title\": {\"standoff\": 15}, \"zerolinecolor\": \"white\", \"zerolinewidth\": 2}}}, \"xaxis\": {\"anchor\": \"y\", \"domain\": [0.0, 1.0], \"title\": {\"text\": \"price\"}}, \"yaxis\": {\"anchor\": \"x\", \"domain\": [0.0, 1.0], \"title\": {\"text\": \"curbweight\"}}},\n",
       "                        {\"responsive\": true}\n",
       "                    ).then(function(){\n",
       "                            \n",
       "var gd = document.getElementById('29ceb41e-03db-45c5-846d-0bdd464132d0');\n",
       "var x = new MutationObserver(function (mutations, observer) {{\n",
       "        var display = window.getComputedStyle(gd).display;\n",
       "        if (!display || display === 'none') {{\n",
       "            console.log([gd, 'removed!']);\n",
       "            Plotly.purge(gd);\n",
       "            observer.disconnect();\n",
       "        }}\n",
       "}});\n",
       "\n",
       "// Listen for the removal of the full notebook cells\n",
       "var notebookContainer = gd.closest('#notebook-container');\n",
       "if (notebookContainer) {{\n",
       "    x.observe(notebookContainer, {childList: true});\n",
       "}}\n",
       "\n",
       "// Listen for the clearing of the current output cell\n",
       "var outputEl = gd.closest('.output');\n",
       "if (outputEl) {{\n",
       "    x.observe(outputEl, {childList: true});\n",
       "}}\n",
       "\n",
       "                        })\n",
       "                };\n",
       "                });\n",
       "            </script>\n",
       "        </div>"
      ]
     },
     "metadata": {},
     "output_type": "display_data"
    }
   ],
   "source": [
    "import plotly.express as px\n",
    "fig = px.scatter(df, x='price', y='curbweight')\n",
    "fig.show()"
   ]
  },
  {
   "cell_type": "code",
   "execution_count": 33,
   "metadata": {},
   "outputs": [
    {
     "data": {
      "application/vnd.plotly.v1+json": {
       "config": {
        "plotlyServerURL": "https://plot.ly"
       },
       "data": [
        {
         "hoverlabel": {
          "namelength": 0
         },
         "hovertemplate": "price=%{x}<br>horsepower=%{y}",
         "legendgroup": "",
         "marker": {
          "color": "#636efa",
          "symbol": "circle"
         },
         "mode": "markers",
         "name": "",
         "showlegend": false,
         "type": "scatter",
         "x": [
          118,
          137,
          137,
          123,
          148,
          128,
          150,
          159,
          169,
          151,
          136,
          145,
          163,
          164,
          170,
          174,
          187,
          184,
          1,
          11,
          17,
          7,
          13,
          49,
          10,
          20,
          41,
          63,
          67,
          114,
          14,
          25,
          5,
          16,
          32,
          34,
          34,
          47,
          70,
          65,
          89,
          113,
          90,
          22,
          66,
          66,
          96,
          177,
          182,
          183,
          2,
          8,
          23,
          21,
          37,
          95,
          104,
          120,
          131,
          65,
          61,
          91,
          88,
          93,
          98,
          154,
          155,
          171,
          173,
          172,
          176,
          180,
          181,
          186,
          188,
          138,
          4,
          9,
          19,
          42,
          81,
          62,
          110,
          126,
          125,
          28,
          55,
          73,
          73,
          6,
          30,
          18,
          24,
          36,
          35,
          46,
          39,
          52,
          58,
          69,
          78,
          119,
          124,
          119,
          147,
          162,
          156,
          106,
          115,
          109,
          122,
          130,
          144,
          142,
          146,
          141,
          152,
          153,
          7,
          49,
          10,
          20,
          41,
          67,
          111,
          166,
          178,
          179,
          185,
          175,
          74,
          80,
          105,
          107,
          127,
          129,
          153,
          158,
          0,
          29,
          40,
          31,
          44,
          82,
          71,
          100,
          38,
          87,
          53,
          103,
          3,
          12,
          15,
          26,
          48,
          64,
          27,
          33,
          48,
          45,
          43,
          59,
          72,
          54,
          57,
          75,
          77,
          60,
          79,
          85,
          97,
          101,
          149,
          68,
          92,
          84,
          94,
          99,
          140,
          135,
          132,
          133,
          44,
          50,
          51,
          56,
          61,
          76,
          86,
          102,
          83,
          116,
          121,
          108,
          112,
          117,
          134,
          139,
          157,
          160,
          143,
          161,
          165,
          167,
          168
         ],
         "xaxis": "x",
         "y": [
          30,
          30,
          45,
          27,
          33,
          29,
          29,
          29,
          40,
          48,
          26,
          26,
          36,
          36,
          36,
          53,
          53,
          53,
          0,
          10,
          10,
          8,
          8,
          27,
          8,
          8,
          8,
          27,
          19,
          43,
          4,
          13,
          5,
          13,
          13,
          13,
          13,
          18,
          18,
          18,
          18,
          26,
          25,
          14,
          10,
          10,
          20,
          52,
          52,
          57,
          8,
          8,
          8,
          8,
          8,
          26,
          26,
          26,
          39,
          16,
          16,
          16,
          16,
          7,
          16,
          35,
          11,
          37,
          37,
          37,
          37,
          46,
          46,
          54,
          54,
          51,
          8,
          8,
          8,
          27,
          34,
          19,
          43,
          43,
          43,
          19,
          19,
          34,
          34,
          9,
          2,
          9,
          9,
          9,
          9,
          9,
          9,
          9,
          9,
          24,
          24,
          44,
          44,
          44,
          48,
          55,
          48,
          24,
          23,
          24,
          23,
          23,
          23,
          23,
          23,
          24,
          23,
          41,
          8,
          27,
          8,
          8,
          8,
          19,
          43,
          42,
          56,
          56,
          56,
          58,
          20,
          20,
          29,
          29,
          29,
          29,
          48,
          48,
          9,
          12,
          12,
          15,
          15,
          22,
          15,
          30,
          15,
          22,
          15,
          30,
          6,
          6,
          6,
          6,
          6,
          6,
          10,
          10,
          3,
          3,
          10,
          10,
          10,
          10,
          10,
          31,
          31,
          34,
          34,
          34,
          34,
          34,
          34,
          21,
          12,
          21,
          21,
          21,
          49,
          49,
          47,
          47,
          1,
          17,
          1,
          17,
          17,
          8,
          25,
          20,
          20,
          29,
          8,
          19,
          32,
          32,
          32,
          32,
          50,
          50,
          32,
          48,
          38,
          28,
          32
         ],
         "yaxis": "y"
        }
       ],
       "layout": {
        "legend": {
         "tracegroupgap": 0
        },
        "margin": {
         "t": 60
        },
        "template": {
         "data": {
          "bar": [
           {
            "error_x": {
             "color": "#2a3f5f"
            },
            "error_y": {
             "color": "#2a3f5f"
            },
            "marker": {
             "line": {
              "color": "#E5ECF6",
              "width": 0.5
             }
            },
            "type": "bar"
           }
          ],
          "barpolar": [
           {
            "marker": {
             "line": {
              "color": "#E5ECF6",
              "width": 0.5
             }
            },
            "type": "barpolar"
           }
          ],
          "carpet": [
           {
            "aaxis": {
             "endlinecolor": "#2a3f5f",
             "gridcolor": "white",
             "linecolor": "white",
             "minorgridcolor": "white",
             "startlinecolor": "#2a3f5f"
            },
            "baxis": {
             "endlinecolor": "#2a3f5f",
             "gridcolor": "white",
             "linecolor": "white",
             "minorgridcolor": "white",
             "startlinecolor": "#2a3f5f"
            },
            "type": "carpet"
           }
          ],
          "choropleth": [
           {
            "colorbar": {
             "outlinewidth": 0,
             "ticks": ""
            },
            "type": "choropleth"
           }
          ],
          "contour": [
           {
            "colorbar": {
             "outlinewidth": 0,
             "ticks": ""
            },
            "colorscale": [
             [
              0,
              "#0d0887"
             ],
             [
              0.1111111111111111,
              "#46039f"
             ],
             [
              0.2222222222222222,
              "#7201a8"
             ],
             [
              0.3333333333333333,
              "#9c179e"
             ],
             [
              0.4444444444444444,
              "#bd3786"
             ],
             [
              0.5555555555555556,
              "#d8576b"
             ],
             [
              0.6666666666666666,
              "#ed7953"
             ],
             [
              0.7777777777777778,
              "#fb9f3a"
             ],
             [
              0.8888888888888888,
              "#fdca26"
             ],
             [
              1,
              "#f0f921"
             ]
            ],
            "type": "contour"
           }
          ],
          "contourcarpet": [
           {
            "colorbar": {
             "outlinewidth": 0,
             "ticks": ""
            },
            "type": "contourcarpet"
           }
          ],
          "heatmap": [
           {
            "colorbar": {
             "outlinewidth": 0,
             "ticks": ""
            },
            "colorscale": [
             [
              0,
              "#0d0887"
             ],
             [
              0.1111111111111111,
              "#46039f"
             ],
             [
              0.2222222222222222,
              "#7201a8"
             ],
             [
              0.3333333333333333,
              "#9c179e"
             ],
             [
              0.4444444444444444,
              "#bd3786"
             ],
             [
              0.5555555555555556,
              "#d8576b"
             ],
             [
              0.6666666666666666,
              "#ed7953"
             ],
             [
              0.7777777777777778,
              "#fb9f3a"
             ],
             [
              0.8888888888888888,
              "#fdca26"
             ],
             [
              1,
              "#f0f921"
             ]
            ],
            "type": "heatmap"
           }
          ],
          "heatmapgl": [
           {
            "colorbar": {
             "outlinewidth": 0,
             "ticks": ""
            },
            "colorscale": [
             [
              0,
              "#0d0887"
             ],
             [
              0.1111111111111111,
              "#46039f"
             ],
             [
              0.2222222222222222,
              "#7201a8"
             ],
             [
              0.3333333333333333,
              "#9c179e"
             ],
             [
              0.4444444444444444,
              "#bd3786"
             ],
             [
              0.5555555555555556,
              "#d8576b"
             ],
             [
              0.6666666666666666,
              "#ed7953"
             ],
             [
              0.7777777777777778,
              "#fb9f3a"
             ],
             [
              0.8888888888888888,
              "#fdca26"
             ],
             [
              1,
              "#f0f921"
             ]
            ],
            "type": "heatmapgl"
           }
          ],
          "histogram": [
           {
            "marker": {
             "colorbar": {
              "outlinewidth": 0,
              "ticks": ""
             }
            },
            "type": "histogram"
           }
          ],
          "histogram2d": [
           {
            "colorbar": {
             "outlinewidth": 0,
             "ticks": ""
            },
            "colorscale": [
             [
              0,
              "#0d0887"
             ],
             [
              0.1111111111111111,
              "#46039f"
             ],
             [
              0.2222222222222222,
              "#7201a8"
             ],
             [
              0.3333333333333333,
              "#9c179e"
             ],
             [
              0.4444444444444444,
              "#bd3786"
             ],
             [
              0.5555555555555556,
              "#d8576b"
             ],
             [
              0.6666666666666666,
              "#ed7953"
             ],
             [
              0.7777777777777778,
              "#fb9f3a"
             ],
             [
              0.8888888888888888,
              "#fdca26"
             ],
             [
              1,
              "#f0f921"
             ]
            ],
            "type": "histogram2d"
           }
          ],
          "histogram2dcontour": [
           {
            "colorbar": {
             "outlinewidth": 0,
             "ticks": ""
            },
            "colorscale": [
             [
              0,
              "#0d0887"
             ],
             [
              0.1111111111111111,
              "#46039f"
             ],
             [
              0.2222222222222222,
              "#7201a8"
             ],
             [
              0.3333333333333333,
              "#9c179e"
             ],
             [
              0.4444444444444444,
              "#bd3786"
             ],
             [
              0.5555555555555556,
              "#d8576b"
             ],
             [
              0.6666666666666666,
              "#ed7953"
             ],
             [
              0.7777777777777778,
              "#fb9f3a"
             ],
             [
              0.8888888888888888,
              "#fdca26"
             ],
             [
              1,
              "#f0f921"
             ]
            ],
            "type": "histogram2dcontour"
           }
          ],
          "mesh3d": [
           {
            "colorbar": {
             "outlinewidth": 0,
             "ticks": ""
            },
            "type": "mesh3d"
           }
          ],
          "parcoords": [
           {
            "line": {
             "colorbar": {
              "outlinewidth": 0,
              "ticks": ""
             }
            },
            "type": "parcoords"
           }
          ],
          "pie": [
           {
            "automargin": true,
            "type": "pie"
           }
          ],
          "scatter": [
           {
            "marker": {
             "colorbar": {
              "outlinewidth": 0,
              "ticks": ""
             }
            },
            "type": "scatter"
           }
          ],
          "scatter3d": [
           {
            "line": {
             "colorbar": {
              "outlinewidth": 0,
              "ticks": ""
             }
            },
            "marker": {
             "colorbar": {
              "outlinewidth": 0,
              "ticks": ""
             }
            },
            "type": "scatter3d"
           }
          ],
          "scattercarpet": [
           {
            "marker": {
             "colorbar": {
              "outlinewidth": 0,
              "ticks": ""
             }
            },
            "type": "scattercarpet"
           }
          ],
          "scattergeo": [
           {
            "marker": {
             "colorbar": {
              "outlinewidth": 0,
              "ticks": ""
             }
            },
            "type": "scattergeo"
           }
          ],
          "scattergl": [
           {
            "marker": {
             "colorbar": {
              "outlinewidth": 0,
              "ticks": ""
             }
            },
            "type": "scattergl"
           }
          ],
          "scattermapbox": [
           {
            "marker": {
             "colorbar": {
              "outlinewidth": 0,
              "ticks": ""
             }
            },
            "type": "scattermapbox"
           }
          ],
          "scatterpolar": [
           {
            "marker": {
             "colorbar": {
              "outlinewidth": 0,
              "ticks": ""
             }
            },
            "type": "scatterpolar"
           }
          ],
          "scatterpolargl": [
           {
            "marker": {
             "colorbar": {
              "outlinewidth": 0,
              "ticks": ""
             }
            },
            "type": "scatterpolargl"
           }
          ],
          "scatterternary": [
           {
            "marker": {
             "colorbar": {
              "outlinewidth": 0,
              "ticks": ""
             }
            },
            "type": "scatterternary"
           }
          ],
          "surface": [
           {
            "colorbar": {
             "outlinewidth": 0,
             "ticks": ""
            },
            "colorscale": [
             [
              0,
              "#0d0887"
             ],
             [
              0.1111111111111111,
              "#46039f"
             ],
             [
              0.2222222222222222,
              "#7201a8"
             ],
             [
              0.3333333333333333,
              "#9c179e"
             ],
             [
              0.4444444444444444,
              "#bd3786"
             ],
             [
              0.5555555555555556,
              "#d8576b"
             ],
             [
              0.6666666666666666,
              "#ed7953"
             ],
             [
              0.7777777777777778,
              "#fb9f3a"
             ],
             [
              0.8888888888888888,
              "#fdca26"
             ],
             [
              1,
              "#f0f921"
             ]
            ],
            "type": "surface"
           }
          ],
          "table": [
           {
            "cells": {
             "fill": {
              "color": "#EBF0F8"
             },
             "line": {
              "color": "white"
             }
            },
            "header": {
             "fill": {
              "color": "#C8D4E3"
             },
             "line": {
              "color": "white"
             }
            },
            "type": "table"
           }
          ]
         },
         "layout": {
          "annotationdefaults": {
           "arrowcolor": "#2a3f5f",
           "arrowhead": 0,
           "arrowwidth": 1
          },
          "coloraxis": {
           "colorbar": {
            "outlinewidth": 0,
            "ticks": ""
           }
          },
          "colorscale": {
           "diverging": [
            [
             0,
             "#8e0152"
            ],
            [
             0.1,
             "#c51b7d"
            ],
            [
             0.2,
             "#de77ae"
            ],
            [
             0.3,
             "#f1b6da"
            ],
            [
             0.4,
             "#fde0ef"
            ],
            [
             0.5,
             "#f7f7f7"
            ],
            [
             0.6,
             "#e6f5d0"
            ],
            [
             0.7,
             "#b8e186"
            ],
            [
             0.8,
             "#7fbc41"
            ],
            [
             0.9,
             "#4d9221"
            ],
            [
             1,
             "#276419"
            ]
           ],
           "sequential": [
            [
             0,
             "#0d0887"
            ],
            [
             0.1111111111111111,
             "#46039f"
            ],
            [
             0.2222222222222222,
             "#7201a8"
            ],
            [
             0.3333333333333333,
             "#9c179e"
            ],
            [
             0.4444444444444444,
             "#bd3786"
            ],
            [
             0.5555555555555556,
             "#d8576b"
            ],
            [
             0.6666666666666666,
             "#ed7953"
            ],
            [
             0.7777777777777778,
             "#fb9f3a"
            ],
            [
             0.8888888888888888,
             "#fdca26"
            ],
            [
             1,
             "#f0f921"
            ]
           ],
           "sequentialminus": [
            [
             0,
             "#0d0887"
            ],
            [
             0.1111111111111111,
             "#46039f"
            ],
            [
             0.2222222222222222,
             "#7201a8"
            ],
            [
             0.3333333333333333,
             "#9c179e"
            ],
            [
             0.4444444444444444,
             "#bd3786"
            ],
            [
             0.5555555555555556,
             "#d8576b"
            ],
            [
             0.6666666666666666,
             "#ed7953"
            ],
            [
             0.7777777777777778,
             "#fb9f3a"
            ],
            [
             0.8888888888888888,
             "#fdca26"
            ],
            [
             1,
             "#f0f921"
            ]
           ]
          },
          "colorway": [
           "#636efa",
           "#EF553B",
           "#00cc96",
           "#ab63fa",
           "#FFA15A",
           "#19d3f3",
           "#FF6692",
           "#B6E880",
           "#FF97FF",
           "#FECB52"
          ],
          "font": {
           "color": "#2a3f5f"
          },
          "geo": {
           "bgcolor": "white",
           "lakecolor": "white",
           "landcolor": "#E5ECF6",
           "showlakes": true,
           "showland": true,
           "subunitcolor": "white"
          },
          "hoverlabel": {
           "align": "left"
          },
          "hovermode": "closest",
          "mapbox": {
           "style": "light"
          },
          "paper_bgcolor": "white",
          "plot_bgcolor": "#E5ECF6",
          "polar": {
           "angularaxis": {
            "gridcolor": "white",
            "linecolor": "white",
            "ticks": ""
           },
           "bgcolor": "#E5ECF6",
           "radialaxis": {
            "gridcolor": "white",
            "linecolor": "white",
            "ticks": ""
           }
          },
          "scene": {
           "xaxis": {
            "backgroundcolor": "#E5ECF6",
            "gridcolor": "white",
            "gridwidth": 2,
            "linecolor": "white",
            "showbackground": true,
            "ticks": "",
            "zerolinecolor": "white"
           },
           "yaxis": {
            "backgroundcolor": "#E5ECF6",
            "gridcolor": "white",
            "gridwidth": 2,
            "linecolor": "white",
            "showbackground": true,
            "ticks": "",
            "zerolinecolor": "white"
           },
           "zaxis": {
            "backgroundcolor": "#E5ECF6",
            "gridcolor": "white",
            "gridwidth": 2,
            "linecolor": "white",
            "showbackground": true,
            "ticks": "",
            "zerolinecolor": "white"
           }
          },
          "shapedefaults": {
           "line": {
            "color": "#2a3f5f"
           }
          },
          "ternary": {
           "aaxis": {
            "gridcolor": "white",
            "linecolor": "white",
            "ticks": ""
           },
           "baxis": {
            "gridcolor": "white",
            "linecolor": "white",
            "ticks": ""
           },
           "bgcolor": "#E5ECF6",
           "caxis": {
            "gridcolor": "white",
            "linecolor": "white",
            "ticks": ""
           }
          },
          "title": {
           "x": 0.05
          },
          "xaxis": {
           "automargin": true,
           "gridcolor": "white",
           "linecolor": "white",
           "ticks": "",
           "title": {
            "standoff": 15
           },
           "zerolinecolor": "white",
           "zerolinewidth": 2
          },
          "yaxis": {
           "automargin": true,
           "gridcolor": "white",
           "linecolor": "white",
           "ticks": "",
           "title": {
            "standoff": 15
           },
           "zerolinecolor": "white",
           "zerolinewidth": 2
          }
         }
        },
        "xaxis": {
         "anchor": "y",
         "domain": [
          0,
          1
         ],
         "title": {
          "text": "price"
         }
        },
        "yaxis": {
         "anchor": "x",
         "domain": [
          0,
          1
         ],
         "title": {
          "text": "horsepower"
         }
        }
       }
      },
      "text/html": [
       "<div>\n",
       "        \n",
       "        \n",
       "            <div id=\"ec649dfa-e257-4990-b82d-9c9bd8329fa0\" class=\"plotly-graph-div\" style=\"height:525px; width:100%;\"></div>\n",
       "            <script type=\"text/javascript\">\n",
       "                require([\"plotly\"], function(Plotly) {\n",
       "                    window.PLOTLYENV=window.PLOTLYENV || {};\n",
       "                    \n",
       "                if (document.getElementById(\"ec649dfa-e257-4990-b82d-9c9bd8329fa0\")) {\n",
       "                    Plotly.newPlot(\n",
       "                        'ec649dfa-e257-4990-b82d-9c9bd8329fa0',\n",
       "                        [{\"hoverlabel\": {\"namelength\": 0}, \"hovertemplate\": \"price=%{x}<br>horsepower=%{y}\", \"legendgroup\": \"\", \"marker\": {\"color\": \"#636efa\", \"symbol\": \"circle\"}, \"mode\": \"markers\", \"name\": \"\", \"showlegend\": false, \"type\": \"scatter\", \"x\": [118, 137, 137, 123, 148, 128, 150, 159, 169, 151, 136, 145, 163, 164, 170, 174, 187, 184, 1, 11, 17, 7, 13, 49, 10, 20, 41, 63, 67, 114, 14, 25, 5, 16, 32, 34, 34, 47, 70, 65, 89, 113, 90, 22, 66, 66, 96, 177, 182, 183, 2, 8, 23, 21, 37, 95, 104, 120, 131, 65, 61, 91, 88, 93, 98, 154, 155, 171, 173, 172, 176, 180, 181, 186, 188, 138, 4, 9, 19, 42, 81, 62, 110, 126, 125, 28, 55, 73, 73, 6, 30, 18, 24, 36, 35, 46, 39, 52, 58, 69, 78, 119, 124, 119, 147, 162, 156, 106, 115, 109, 122, 130, 144, 142, 146, 141, 152, 153, 7, 49, 10, 20, 41, 67, 111, 166, 178, 179, 185, 175, 74, 80, 105, 107, 127, 129, 153, 158, 0, 29, 40, 31, 44, 82, 71, 100, 38, 87, 53, 103, 3, 12, 15, 26, 48, 64, 27, 33, 48, 45, 43, 59, 72, 54, 57, 75, 77, 60, 79, 85, 97, 101, 149, 68, 92, 84, 94, 99, 140, 135, 132, 133, 44, 50, 51, 56, 61, 76, 86, 102, 83, 116, 121, 108, 112, 117, 134, 139, 157, 160, 143, 161, 165, 167, 168], \"xaxis\": \"x\", \"y\": [30, 30, 45, 27, 33, 29, 29, 29, 40, 48, 26, 26, 36, 36, 36, 53, 53, 53, 0, 10, 10, 8, 8, 27, 8, 8, 8, 27, 19, 43, 4, 13, 5, 13, 13, 13, 13, 18, 18, 18, 18, 26, 25, 14, 10, 10, 20, 52, 52, 57, 8, 8, 8, 8, 8, 26, 26, 26, 39, 16, 16, 16, 16, 7, 16, 35, 11, 37, 37, 37, 37, 46, 46, 54, 54, 51, 8, 8, 8, 27, 34, 19, 43, 43, 43, 19, 19, 34, 34, 9, 2, 9, 9, 9, 9, 9, 9, 9, 9, 24, 24, 44, 44, 44, 48, 55, 48, 24, 23, 24, 23, 23, 23, 23, 23, 24, 23, 41, 8, 27, 8, 8, 8, 19, 43, 42, 56, 56, 56, 58, 20, 20, 29, 29, 29, 29, 48, 48, 9, 12, 12, 15, 15, 22, 15, 30, 15, 22, 15, 30, 6, 6, 6, 6, 6, 6, 10, 10, 3, 3, 10, 10, 10, 10, 10, 31, 31, 34, 34, 34, 34, 34, 34, 21, 12, 21, 21, 21, 49, 49, 47, 47, 1, 17, 1, 17, 17, 8, 25, 20, 20, 29, 8, 19, 32, 32, 32, 32, 50, 50, 32, 48, 38, 28, 32], \"yaxis\": \"y\"}],\n",
       "                        {\"legend\": {\"tracegroupgap\": 0}, \"margin\": {\"t\": 60}, \"template\": {\"data\": {\"bar\": [{\"error_x\": {\"color\": \"#2a3f5f\"}, \"error_y\": {\"color\": \"#2a3f5f\"}, \"marker\": {\"line\": {\"color\": \"#E5ECF6\", \"width\": 0.5}}, \"type\": \"bar\"}], \"barpolar\": [{\"marker\": {\"line\": {\"color\": \"#E5ECF6\", \"width\": 0.5}}, \"type\": \"barpolar\"}], \"carpet\": [{\"aaxis\": {\"endlinecolor\": \"#2a3f5f\", \"gridcolor\": \"white\", \"linecolor\": \"white\", \"minorgridcolor\": \"white\", \"startlinecolor\": \"#2a3f5f\"}, \"baxis\": {\"endlinecolor\": \"#2a3f5f\", \"gridcolor\": \"white\", \"linecolor\": \"white\", \"minorgridcolor\": \"white\", \"startlinecolor\": \"#2a3f5f\"}, \"type\": \"carpet\"}], \"choropleth\": [{\"colorbar\": {\"outlinewidth\": 0, \"ticks\": \"\"}, \"type\": \"choropleth\"}], \"contour\": [{\"colorbar\": {\"outlinewidth\": 0, \"ticks\": \"\"}, \"colorscale\": [[0.0, \"#0d0887\"], [0.1111111111111111, \"#46039f\"], [0.2222222222222222, \"#7201a8\"], [0.3333333333333333, \"#9c179e\"], [0.4444444444444444, \"#bd3786\"], [0.5555555555555556, \"#d8576b\"], [0.6666666666666666, \"#ed7953\"], [0.7777777777777778, \"#fb9f3a\"], [0.8888888888888888, \"#fdca26\"], [1.0, \"#f0f921\"]], \"type\": \"contour\"}], \"contourcarpet\": [{\"colorbar\": {\"outlinewidth\": 0, \"ticks\": \"\"}, \"type\": \"contourcarpet\"}], \"heatmap\": [{\"colorbar\": {\"outlinewidth\": 0, \"ticks\": \"\"}, \"colorscale\": [[0.0, \"#0d0887\"], [0.1111111111111111, \"#46039f\"], [0.2222222222222222, \"#7201a8\"], [0.3333333333333333, \"#9c179e\"], [0.4444444444444444, \"#bd3786\"], [0.5555555555555556, \"#d8576b\"], [0.6666666666666666, \"#ed7953\"], [0.7777777777777778, \"#fb9f3a\"], [0.8888888888888888, \"#fdca26\"], [1.0, \"#f0f921\"]], \"type\": \"heatmap\"}], \"heatmapgl\": [{\"colorbar\": {\"outlinewidth\": 0, \"ticks\": \"\"}, \"colorscale\": [[0.0, \"#0d0887\"], [0.1111111111111111, \"#46039f\"], [0.2222222222222222, \"#7201a8\"], [0.3333333333333333, \"#9c179e\"], [0.4444444444444444, \"#bd3786\"], [0.5555555555555556, \"#d8576b\"], [0.6666666666666666, \"#ed7953\"], [0.7777777777777778, \"#fb9f3a\"], [0.8888888888888888, \"#fdca26\"], [1.0, \"#f0f921\"]], \"type\": \"heatmapgl\"}], \"histogram\": [{\"marker\": {\"colorbar\": {\"outlinewidth\": 0, \"ticks\": \"\"}}, \"type\": \"histogram\"}], \"histogram2d\": [{\"colorbar\": {\"outlinewidth\": 0, \"ticks\": \"\"}, \"colorscale\": [[0.0, \"#0d0887\"], [0.1111111111111111, \"#46039f\"], [0.2222222222222222, \"#7201a8\"], [0.3333333333333333, \"#9c179e\"], [0.4444444444444444, \"#bd3786\"], [0.5555555555555556, \"#d8576b\"], [0.6666666666666666, \"#ed7953\"], [0.7777777777777778, \"#fb9f3a\"], [0.8888888888888888, \"#fdca26\"], [1.0, \"#f0f921\"]], \"type\": \"histogram2d\"}], \"histogram2dcontour\": [{\"colorbar\": {\"outlinewidth\": 0, \"ticks\": \"\"}, \"colorscale\": [[0.0, \"#0d0887\"], [0.1111111111111111, \"#46039f\"], [0.2222222222222222, \"#7201a8\"], [0.3333333333333333, \"#9c179e\"], [0.4444444444444444, \"#bd3786\"], [0.5555555555555556, \"#d8576b\"], [0.6666666666666666, \"#ed7953\"], [0.7777777777777778, \"#fb9f3a\"], [0.8888888888888888, \"#fdca26\"], [1.0, \"#f0f921\"]], \"type\": \"histogram2dcontour\"}], \"mesh3d\": [{\"colorbar\": {\"outlinewidth\": 0, \"ticks\": \"\"}, \"type\": \"mesh3d\"}], \"parcoords\": [{\"line\": {\"colorbar\": {\"outlinewidth\": 0, \"ticks\": \"\"}}, \"type\": \"parcoords\"}], \"pie\": [{\"automargin\": true, \"type\": \"pie\"}], \"scatter\": [{\"marker\": {\"colorbar\": {\"outlinewidth\": 0, \"ticks\": \"\"}}, \"type\": \"scatter\"}], \"scatter3d\": [{\"line\": {\"colorbar\": {\"outlinewidth\": 0, \"ticks\": \"\"}}, \"marker\": {\"colorbar\": {\"outlinewidth\": 0, \"ticks\": \"\"}}, \"type\": \"scatter3d\"}], \"scattercarpet\": [{\"marker\": {\"colorbar\": {\"outlinewidth\": 0, \"ticks\": \"\"}}, \"type\": \"scattercarpet\"}], \"scattergeo\": [{\"marker\": {\"colorbar\": {\"outlinewidth\": 0, \"ticks\": \"\"}}, \"type\": \"scattergeo\"}], \"scattergl\": [{\"marker\": {\"colorbar\": {\"outlinewidth\": 0, \"ticks\": \"\"}}, \"type\": \"scattergl\"}], \"scattermapbox\": [{\"marker\": {\"colorbar\": {\"outlinewidth\": 0, \"ticks\": \"\"}}, \"type\": \"scattermapbox\"}], \"scatterpolar\": [{\"marker\": {\"colorbar\": {\"outlinewidth\": 0, \"ticks\": \"\"}}, \"type\": \"scatterpolar\"}], \"scatterpolargl\": [{\"marker\": {\"colorbar\": {\"outlinewidth\": 0, \"ticks\": \"\"}}, \"type\": \"scatterpolargl\"}], \"scatterternary\": [{\"marker\": {\"colorbar\": {\"outlinewidth\": 0, \"ticks\": \"\"}}, \"type\": \"scatterternary\"}], \"surface\": [{\"colorbar\": {\"outlinewidth\": 0, \"ticks\": \"\"}, \"colorscale\": [[0.0, \"#0d0887\"], [0.1111111111111111, \"#46039f\"], [0.2222222222222222, \"#7201a8\"], [0.3333333333333333, \"#9c179e\"], [0.4444444444444444, \"#bd3786\"], [0.5555555555555556, \"#d8576b\"], [0.6666666666666666, \"#ed7953\"], [0.7777777777777778, \"#fb9f3a\"], [0.8888888888888888, \"#fdca26\"], [1.0, \"#f0f921\"]], \"type\": \"surface\"}], \"table\": [{\"cells\": {\"fill\": {\"color\": \"#EBF0F8\"}, \"line\": {\"color\": \"white\"}}, \"header\": {\"fill\": {\"color\": \"#C8D4E3\"}, \"line\": {\"color\": \"white\"}}, \"type\": \"table\"}]}, \"layout\": {\"annotationdefaults\": {\"arrowcolor\": \"#2a3f5f\", \"arrowhead\": 0, \"arrowwidth\": 1}, \"coloraxis\": {\"colorbar\": {\"outlinewidth\": 0, \"ticks\": \"\"}}, \"colorscale\": {\"diverging\": [[0, \"#8e0152\"], [0.1, \"#c51b7d\"], [0.2, \"#de77ae\"], [0.3, \"#f1b6da\"], [0.4, \"#fde0ef\"], [0.5, \"#f7f7f7\"], [0.6, \"#e6f5d0\"], [0.7, \"#b8e186\"], [0.8, \"#7fbc41\"], [0.9, \"#4d9221\"], [1, \"#276419\"]], \"sequential\": [[0.0, \"#0d0887\"], [0.1111111111111111, \"#46039f\"], [0.2222222222222222, \"#7201a8\"], [0.3333333333333333, \"#9c179e\"], [0.4444444444444444, \"#bd3786\"], [0.5555555555555556, \"#d8576b\"], [0.6666666666666666, \"#ed7953\"], [0.7777777777777778, \"#fb9f3a\"], [0.8888888888888888, \"#fdca26\"], [1.0, \"#f0f921\"]], \"sequentialminus\": [[0.0, \"#0d0887\"], [0.1111111111111111, \"#46039f\"], [0.2222222222222222, \"#7201a8\"], [0.3333333333333333, \"#9c179e\"], [0.4444444444444444, \"#bd3786\"], [0.5555555555555556, \"#d8576b\"], [0.6666666666666666, \"#ed7953\"], [0.7777777777777778, \"#fb9f3a\"], [0.8888888888888888, \"#fdca26\"], [1.0, \"#f0f921\"]]}, \"colorway\": [\"#636efa\", \"#EF553B\", \"#00cc96\", \"#ab63fa\", \"#FFA15A\", \"#19d3f3\", \"#FF6692\", \"#B6E880\", \"#FF97FF\", \"#FECB52\"], \"font\": {\"color\": \"#2a3f5f\"}, \"geo\": {\"bgcolor\": \"white\", \"lakecolor\": \"white\", \"landcolor\": \"#E5ECF6\", \"showlakes\": true, \"showland\": true, \"subunitcolor\": \"white\"}, \"hoverlabel\": {\"align\": \"left\"}, \"hovermode\": \"closest\", \"mapbox\": {\"style\": \"light\"}, \"paper_bgcolor\": \"white\", \"plot_bgcolor\": \"#E5ECF6\", \"polar\": {\"angularaxis\": {\"gridcolor\": \"white\", \"linecolor\": \"white\", \"ticks\": \"\"}, \"bgcolor\": \"#E5ECF6\", \"radialaxis\": {\"gridcolor\": \"white\", \"linecolor\": \"white\", \"ticks\": \"\"}}, \"scene\": {\"xaxis\": {\"backgroundcolor\": \"#E5ECF6\", \"gridcolor\": \"white\", \"gridwidth\": 2, \"linecolor\": \"white\", \"showbackground\": true, \"ticks\": \"\", \"zerolinecolor\": \"white\"}, \"yaxis\": {\"backgroundcolor\": \"#E5ECF6\", \"gridcolor\": \"white\", \"gridwidth\": 2, \"linecolor\": \"white\", \"showbackground\": true, \"ticks\": \"\", \"zerolinecolor\": \"white\"}, \"zaxis\": {\"backgroundcolor\": \"#E5ECF6\", \"gridcolor\": \"white\", \"gridwidth\": 2, \"linecolor\": \"white\", \"showbackground\": true, \"ticks\": \"\", \"zerolinecolor\": \"white\"}}, \"shapedefaults\": {\"line\": {\"color\": \"#2a3f5f\"}}, \"ternary\": {\"aaxis\": {\"gridcolor\": \"white\", \"linecolor\": \"white\", \"ticks\": \"\"}, \"baxis\": {\"gridcolor\": \"white\", \"linecolor\": \"white\", \"ticks\": \"\"}, \"bgcolor\": \"#E5ECF6\", \"caxis\": {\"gridcolor\": \"white\", \"linecolor\": \"white\", \"ticks\": \"\"}}, \"title\": {\"x\": 0.05}, \"xaxis\": {\"automargin\": true, \"gridcolor\": \"white\", \"linecolor\": \"white\", \"ticks\": \"\", \"title\": {\"standoff\": 15}, \"zerolinecolor\": \"white\", \"zerolinewidth\": 2}, \"yaxis\": {\"automargin\": true, \"gridcolor\": \"white\", \"linecolor\": \"white\", \"ticks\": \"\", \"title\": {\"standoff\": 15}, \"zerolinecolor\": \"white\", \"zerolinewidth\": 2}}}, \"xaxis\": {\"anchor\": \"y\", \"domain\": [0.0, 1.0], \"title\": {\"text\": \"price\"}}, \"yaxis\": {\"anchor\": \"x\", \"domain\": [0.0, 1.0], \"title\": {\"text\": \"horsepower\"}}},\n",
       "                        {\"responsive\": true}\n",
       "                    ).then(function(){\n",
       "                            \n",
       "var gd = document.getElementById('ec649dfa-e257-4990-b82d-9c9bd8329fa0');\n",
       "var x = new MutationObserver(function (mutations, observer) {{\n",
       "        var display = window.getComputedStyle(gd).display;\n",
       "        if (!display || display === 'none') {{\n",
       "            console.log([gd, 'removed!']);\n",
       "            Plotly.purge(gd);\n",
       "            observer.disconnect();\n",
       "        }}\n",
       "}});\n",
       "\n",
       "// Listen for the removal of the full notebook cells\n",
       "var notebookContainer = gd.closest('#notebook-container');\n",
       "if (notebookContainer) {{\n",
       "    x.observe(notebookContainer, {childList: true});\n",
       "}}\n",
       "\n",
       "// Listen for the clearing of the current output cell\n",
       "var outputEl = gd.closest('.output');\n",
       "if (outputEl) {{\n",
       "    x.observe(outputEl, {childList: true});\n",
       "}}\n",
       "\n",
       "                        })\n",
       "                };\n",
       "                });\n",
       "            </script>\n",
       "        </div>"
      ]
     },
     "metadata": {},
     "output_type": "display_data"
    }
   ],
   "source": [
    "fig = px.scatter(df, x='price', y='horsepower')\n",
    "fig.show()"
   ]
  },
  {
   "cell_type": "code",
   "execution_count": 39,
   "metadata": {},
   "outputs": [
    {
     "data": {
      "application/vnd.plotly.v1+json": {
       "config": {
        "plotlyServerURL": "https://plot.ly"
       },
       "data": [
        {
         "hoverlabel": {
          "namelength": 0
         },
         "hovertemplate": "price=%{x}<br>enginesize=%{y}",
         "legendgroup": "",
         "marker": {
          "color": "#636efa",
          "symbol": "circle"
         },
         "mode": "markers",
         "name": "",
         "showlegend": false,
         "type": "scatter",
         "x": [
          118,
          137,
          137,
          123,
          148,
          128,
          150,
          159,
          169,
          151,
          136,
          145,
          163,
          164,
          170,
          174,
          187,
          184,
          1,
          11,
          17,
          7,
          13,
          49,
          10,
          20,
          41,
          63,
          67,
          114,
          14,
          25,
          5,
          16,
          32,
          34,
          34,
          47,
          70,
          65,
          89,
          113,
          90,
          22,
          66,
          66,
          96,
          177,
          182,
          183,
          2,
          8,
          23,
          21,
          37,
          95,
          104,
          120,
          131,
          65,
          61,
          91,
          88,
          93,
          98,
          154,
          155,
          171,
          173,
          172,
          176,
          180,
          181,
          186,
          188,
          138,
          4,
          9,
          19,
          42,
          81,
          62,
          110,
          126,
          125,
          28,
          55,
          73,
          73,
          6,
          30,
          18,
          24,
          36,
          35,
          46,
          39,
          52,
          58,
          69,
          78,
          119,
          124,
          119,
          147,
          162,
          156,
          106,
          115,
          109,
          122,
          130,
          144,
          142,
          146,
          141,
          152,
          153,
          7,
          49,
          10,
          20,
          41,
          67,
          111,
          166,
          178,
          179,
          185,
          175,
          74,
          80,
          105,
          107,
          127,
          129,
          153,
          158,
          0,
          29,
          40,
          31,
          44,
          82,
          71,
          100,
          38,
          87,
          53,
          103,
          3,
          12,
          15,
          26,
          48,
          64,
          27,
          33,
          48,
          45,
          43,
          59,
          72,
          54,
          57,
          75,
          77,
          60,
          79,
          85,
          97,
          101,
          149,
          68,
          92,
          84,
          94,
          99,
          140,
          135,
          132,
          133,
          44,
          50,
          51,
          56,
          61,
          76,
          86,
          102,
          83,
          116,
          121,
          108,
          112,
          117,
          134,
          139,
          157,
          160,
          143,
          161,
          165,
          167,
          168
         ],
         "xaxis": "x",
         "y": [
          18,
          18,
          28,
          11,
          22,
          22,
          22,
          22,
          19,
          19,
          10,
          10,
          31,
          31,
          31,
          38,
          38,
          38,
          0,
          4,
          4,
          4,
          4,
          8,
          4,
          4,
          4,
          8,
          17,
          29,
          6,
          6,
          2,
          6,
          6,
          6,
          6,
          12,
          12,
          12,
          12,
          12,
          12,
          13,
          4,
          4,
          14,
          40,
          40,
          43,
          5,
          5,
          5,
          5,
          5,
          1,
          1,
          1,
          3,
          17,
          17,
          17,
          17,
          17,
          17,
          23,
          21,
          35,
          35,
          35,
          35,
          39,
          39,
          42,
          41,
          23,
          6,
          6,
          6,
          8,
          12,
          17,
          29,
          29,
          29,
          17,
          17,
          12,
          12,
          7,
          9,
          7,
          7,
          7,
          7,
          7,
          7,
          7,
          7,
          15,
          15,
          34,
          34,
          34,
          34,
          34,
          34,
          15,
          28,
          15,
          28,
          15,
          28,
          15,
          28,
          15,
          28,
          21,
          4,
          8,
          4,
          4,
          8,
          17,
          29,
          27,
          36,
          36,
          36,
          37,
          20,
          20,
          16,
          16,
          16,
          16,
          16,
          16,
          7,
          10,
          10,
          10,
          10,
          10,
          10,
          10,
          10,
          10,
          10,
          10,
          6,
          6,
          6,
          6,
          6,
          6,
          8,
          8,
          12,
          12,
          8,
          8,
          8,
          8,
          8,
          8,
          8,
          26,
          26,
          26,
          26,
          26,
          26,
          17,
          12,
          17,
          17,
          17,
          32,
          32,
          32,
          30,
          7,
          11,
          7,
          11,
          11,
          7,
          11,
          11,
          11,
          22,
          7,
          11,
          24,
          24,
          24,
          24,
          18,
          18,
          24,
          24,
          33,
          25,
          24
         ],
         "yaxis": "y"
        }
       ],
       "layout": {
        "legend": {
         "tracegroupgap": 0
        },
        "margin": {
         "t": 60
        },
        "template": {
         "data": {
          "bar": [
           {
            "error_x": {
             "color": "#2a3f5f"
            },
            "error_y": {
             "color": "#2a3f5f"
            },
            "marker": {
             "line": {
              "color": "#E5ECF6",
              "width": 0.5
             }
            },
            "type": "bar"
           }
          ],
          "barpolar": [
           {
            "marker": {
             "line": {
              "color": "#E5ECF6",
              "width": 0.5
             }
            },
            "type": "barpolar"
           }
          ],
          "carpet": [
           {
            "aaxis": {
             "endlinecolor": "#2a3f5f",
             "gridcolor": "white",
             "linecolor": "white",
             "minorgridcolor": "white",
             "startlinecolor": "#2a3f5f"
            },
            "baxis": {
             "endlinecolor": "#2a3f5f",
             "gridcolor": "white",
             "linecolor": "white",
             "minorgridcolor": "white",
             "startlinecolor": "#2a3f5f"
            },
            "type": "carpet"
           }
          ],
          "choropleth": [
           {
            "colorbar": {
             "outlinewidth": 0,
             "ticks": ""
            },
            "type": "choropleth"
           }
          ],
          "contour": [
           {
            "colorbar": {
             "outlinewidth": 0,
             "ticks": ""
            },
            "colorscale": [
             [
              0,
              "#0d0887"
             ],
             [
              0.1111111111111111,
              "#46039f"
             ],
             [
              0.2222222222222222,
              "#7201a8"
             ],
             [
              0.3333333333333333,
              "#9c179e"
             ],
             [
              0.4444444444444444,
              "#bd3786"
             ],
             [
              0.5555555555555556,
              "#d8576b"
             ],
             [
              0.6666666666666666,
              "#ed7953"
             ],
             [
              0.7777777777777778,
              "#fb9f3a"
             ],
             [
              0.8888888888888888,
              "#fdca26"
             ],
             [
              1,
              "#f0f921"
             ]
            ],
            "type": "contour"
           }
          ],
          "contourcarpet": [
           {
            "colorbar": {
             "outlinewidth": 0,
             "ticks": ""
            },
            "type": "contourcarpet"
           }
          ],
          "heatmap": [
           {
            "colorbar": {
             "outlinewidth": 0,
             "ticks": ""
            },
            "colorscale": [
             [
              0,
              "#0d0887"
             ],
             [
              0.1111111111111111,
              "#46039f"
             ],
             [
              0.2222222222222222,
              "#7201a8"
             ],
             [
              0.3333333333333333,
              "#9c179e"
             ],
             [
              0.4444444444444444,
              "#bd3786"
             ],
             [
              0.5555555555555556,
              "#d8576b"
             ],
             [
              0.6666666666666666,
              "#ed7953"
             ],
             [
              0.7777777777777778,
              "#fb9f3a"
             ],
             [
              0.8888888888888888,
              "#fdca26"
             ],
             [
              1,
              "#f0f921"
             ]
            ],
            "type": "heatmap"
           }
          ],
          "heatmapgl": [
           {
            "colorbar": {
             "outlinewidth": 0,
             "ticks": ""
            },
            "colorscale": [
             [
              0,
              "#0d0887"
             ],
             [
              0.1111111111111111,
              "#46039f"
             ],
             [
              0.2222222222222222,
              "#7201a8"
             ],
             [
              0.3333333333333333,
              "#9c179e"
             ],
             [
              0.4444444444444444,
              "#bd3786"
             ],
             [
              0.5555555555555556,
              "#d8576b"
             ],
             [
              0.6666666666666666,
              "#ed7953"
             ],
             [
              0.7777777777777778,
              "#fb9f3a"
             ],
             [
              0.8888888888888888,
              "#fdca26"
             ],
             [
              1,
              "#f0f921"
             ]
            ],
            "type": "heatmapgl"
           }
          ],
          "histogram": [
           {
            "marker": {
             "colorbar": {
              "outlinewidth": 0,
              "ticks": ""
             }
            },
            "type": "histogram"
           }
          ],
          "histogram2d": [
           {
            "colorbar": {
             "outlinewidth": 0,
             "ticks": ""
            },
            "colorscale": [
             [
              0,
              "#0d0887"
             ],
             [
              0.1111111111111111,
              "#46039f"
             ],
             [
              0.2222222222222222,
              "#7201a8"
             ],
             [
              0.3333333333333333,
              "#9c179e"
             ],
             [
              0.4444444444444444,
              "#bd3786"
             ],
             [
              0.5555555555555556,
              "#d8576b"
             ],
             [
              0.6666666666666666,
              "#ed7953"
             ],
             [
              0.7777777777777778,
              "#fb9f3a"
             ],
             [
              0.8888888888888888,
              "#fdca26"
             ],
             [
              1,
              "#f0f921"
             ]
            ],
            "type": "histogram2d"
           }
          ],
          "histogram2dcontour": [
           {
            "colorbar": {
             "outlinewidth": 0,
             "ticks": ""
            },
            "colorscale": [
             [
              0,
              "#0d0887"
             ],
             [
              0.1111111111111111,
              "#46039f"
             ],
             [
              0.2222222222222222,
              "#7201a8"
             ],
             [
              0.3333333333333333,
              "#9c179e"
             ],
             [
              0.4444444444444444,
              "#bd3786"
             ],
             [
              0.5555555555555556,
              "#d8576b"
             ],
             [
              0.6666666666666666,
              "#ed7953"
             ],
             [
              0.7777777777777778,
              "#fb9f3a"
             ],
             [
              0.8888888888888888,
              "#fdca26"
             ],
             [
              1,
              "#f0f921"
             ]
            ],
            "type": "histogram2dcontour"
           }
          ],
          "mesh3d": [
           {
            "colorbar": {
             "outlinewidth": 0,
             "ticks": ""
            },
            "type": "mesh3d"
           }
          ],
          "parcoords": [
           {
            "line": {
             "colorbar": {
              "outlinewidth": 0,
              "ticks": ""
             }
            },
            "type": "parcoords"
           }
          ],
          "pie": [
           {
            "automargin": true,
            "type": "pie"
           }
          ],
          "scatter": [
           {
            "marker": {
             "colorbar": {
              "outlinewidth": 0,
              "ticks": ""
             }
            },
            "type": "scatter"
           }
          ],
          "scatter3d": [
           {
            "line": {
             "colorbar": {
              "outlinewidth": 0,
              "ticks": ""
             }
            },
            "marker": {
             "colorbar": {
              "outlinewidth": 0,
              "ticks": ""
             }
            },
            "type": "scatter3d"
           }
          ],
          "scattercarpet": [
           {
            "marker": {
             "colorbar": {
              "outlinewidth": 0,
              "ticks": ""
             }
            },
            "type": "scattercarpet"
           }
          ],
          "scattergeo": [
           {
            "marker": {
             "colorbar": {
              "outlinewidth": 0,
              "ticks": ""
             }
            },
            "type": "scattergeo"
           }
          ],
          "scattergl": [
           {
            "marker": {
             "colorbar": {
              "outlinewidth": 0,
              "ticks": ""
             }
            },
            "type": "scattergl"
           }
          ],
          "scattermapbox": [
           {
            "marker": {
             "colorbar": {
              "outlinewidth": 0,
              "ticks": ""
             }
            },
            "type": "scattermapbox"
           }
          ],
          "scatterpolar": [
           {
            "marker": {
             "colorbar": {
              "outlinewidth": 0,
              "ticks": ""
             }
            },
            "type": "scatterpolar"
           }
          ],
          "scatterpolargl": [
           {
            "marker": {
             "colorbar": {
              "outlinewidth": 0,
              "ticks": ""
             }
            },
            "type": "scatterpolargl"
           }
          ],
          "scatterternary": [
           {
            "marker": {
             "colorbar": {
              "outlinewidth": 0,
              "ticks": ""
             }
            },
            "type": "scatterternary"
           }
          ],
          "surface": [
           {
            "colorbar": {
             "outlinewidth": 0,
             "ticks": ""
            },
            "colorscale": [
             [
              0,
              "#0d0887"
             ],
             [
              0.1111111111111111,
              "#46039f"
             ],
             [
              0.2222222222222222,
              "#7201a8"
             ],
             [
              0.3333333333333333,
              "#9c179e"
             ],
             [
              0.4444444444444444,
              "#bd3786"
             ],
             [
              0.5555555555555556,
              "#d8576b"
             ],
             [
              0.6666666666666666,
              "#ed7953"
             ],
             [
              0.7777777777777778,
              "#fb9f3a"
             ],
             [
              0.8888888888888888,
              "#fdca26"
             ],
             [
              1,
              "#f0f921"
             ]
            ],
            "type": "surface"
           }
          ],
          "table": [
           {
            "cells": {
             "fill": {
              "color": "#EBF0F8"
             },
             "line": {
              "color": "white"
             }
            },
            "header": {
             "fill": {
              "color": "#C8D4E3"
             },
             "line": {
              "color": "white"
             }
            },
            "type": "table"
           }
          ]
         },
         "layout": {
          "annotationdefaults": {
           "arrowcolor": "#2a3f5f",
           "arrowhead": 0,
           "arrowwidth": 1
          },
          "coloraxis": {
           "colorbar": {
            "outlinewidth": 0,
            "ticks": ""
           }
          },
          "colorscale": {
           "diverging": [
            [
             0,
             "#8e0152"
            ],
            [
             0.1,
             "#c51b7d"
            ],
            [
             0.2,
             "#de77ae"
            ],
            [
             0.3,
             "#f1b6da"
            ],
            [
             0.4,
             "#fde0ef"
            ],
            [
             0.5,
             "#f7f7f7"
            ],
            [
             0.6,
             "#e6f5d0"
            ],
            [
             0.7,
             "#b8e186"
            ],
            [
             0.8,
             "#7fbc41"
            ],
            [
             0.9,
             "#4d9221"
            ],
            [
             1,
             "#276419"
            ]
           ],
           "sequential": [
            [
             0,
             "#0d0887"
            ],
            [
             0.1111111111111111,
             "#46039f"
            ],
            [
             0.2222222222222222,
             "#7201a8"
            ],
            [
             0.3333333333333333,
             "#9c179e"
            ],
            [
             0.4444444444444444,
             "#bd3786"
            ],
            [
             0.5555555555555556,
             "#d8576b"
            ],
            [
             0.6666666666666666,
             "#ed7953"
            ],
            [
             0.7777777777777778,
             "#fb9f3a"
            ],
            [
             0.8888888888888888,
             "#fdca26"
            ],
            [
             1,
             "#f0f921"
            ]
           ],
           "sequentialminus": [
            [
             0,
             "#0d0887"
            ],
            [
             0.1111111111111111,
             "#46039f"
            ],
            [
             0.2222222222222222,
             "#7201a8"
            ],
            [
             0.3333333333333333,
             "#9c179e"
            ],
            [
             0.4444444444444444,
             "#bd3786"
            ],
            [
             0.5555555555555556,
             "#d8576b"
            ],
            [
             0.6666666666666666,
             "#ed7953"
            ],
            [
             0.7777777777777778,
             "#fb9f3a"
            ],
            [
             0.8888888888888888,
             "#fdca26"
            ],
            [
             1,
             "#f0f921"
            ]
           ]
          },
          "colorway": [
           "#636efa",
           "#EF553B",
           "#00cc96",
           "#ab63fa",
           "#FFA15A",
           "#19d3f3",
           "#FF6692",
           "#B6E880",
           "#FF97FF",
           "#FECB52"
          ],
          "font": {
           "color": "#2a3f5f"
          },
          "geo": {
           "bgcolor": "white",
           "lakecolor": "white",
           "landcolor": "#E5ECF6",
           "showlakes": true,
           "showland": true,
           "subunitcolor": "white"
          },
          "hoverlabel": {
           "align": "left"
          },
          "hovermode": "closest",
          "mapbox": {
           "style": "light"
          },
          "paper_bgcolor": "white",
          "plot_bgcolor": "#E5ECF6",
          "polar": {
           "angularaxis": {
            "gridcolor": "white",
            "linecolor": "white",
            "ticks": ""
           },
           "bgcolor": "#E5ECF6",
           "radialaxis": {
            "gridcolor": "white",
            "linecolor": "white",
            "ticks": ""
           }
          },
          "scene": {
           "xaxis": {
            "backgroundcolor": "#E5ECF6",
            "gridcolor": "white",
            "gridwidth": 2,
            "linecolor": "white",
            "showbackground": true,
            "ticks": "",
            "zerolinecolor": "white"
           },
           "yaxis": {
            "backgroundcolor": "#E5ECF6",
            "gridcolor": "white",
            "gridwidth": 2,
            "linecolor": "white",
            "showbackground": true,
            "ticks": "",
            "zerolinecolor": "white"
           },
           "zaxis": {
            "backgroundcolor": "#E5ECF6",
            "gridcolor": "white",
            "gridwidth": 2,
            "linecolor": "white",
            "showbackground": true,
            "ticks": "",
            "zerolinecolor": "white"
           }
          },
          "shapedefaults": {
           "line": {
            "color": "#2a3f5f"
           }
          },
          "ternary": {
           "aaxis": {
            "gridcolor": "white",
            "linecolor": "white",
            "ticks": ""
           },
           "baxis": {
            "gridcolor": "white",
            "linecolor": "white",
            "ticks": ""
           },
           "bgcolor": "#E5ECF6",
           "caxis": {
            "gridcolor": "white",
            "linecolor": "white",
            "ticks": ""
           }
          },
          "title": {
           "x": 0.05
          },
          "xaxis": {
           "automargin": true,
           "gridcolor": "white",
           "linecolor": "white",
           "ticks": "",
           "title": {
            "standoff": 15
           },
           "zerolinecolor": "white",
           "zerolinewidth": 2
          },
          "yaxis": {
           "automargin": true,
           "gridcolor": "white",
           "linecolor": "white",
           "ticks": "",
           "title": {
            "standoff": 15
           },
           "zerolinecolor": "white",
           "zerolinewidth": 2
          }
         }
        },
        "xaxis": {
         "anchor": "y",
         "domain": [
          0,
          1
         ],
         "title": {
          "text": "price"
         }
        },
        "yaxis": {
         "anchor": "x",
         "domain": [
          0,
          1
         ],
         "title": {
          "text": "enginesize"
         }
        }
       }
      },
      "text/html": [
       "<div>\n",
       "        \n",
       "        \n",
       "            <div id=\"b83926ca-c77a-4f38-a6b4-ec898332e514\" class=\"plotly-graph-div\" style=\"height:525px; width:100%;\"></div>\n",
       "            <script type=\"text/javascript\">\n",
       "                require([\"plotly\"], function(Plotly) {\n",
       "                    window.PLOTLYENV=window.PLOTLYENV || {};\n",
       "                    \n",
       "                if (document.getElementById(\"b83926ca-c77a-4f38-a6b4-ec898332e514\")) {\n",
       "                    Plotly.newPlot(\n",
       "                        'b83926ca-c77a-4f38-a6b4-ec898332e514',\n",
       "                        [{\"hoverlabel\": {\"namelength\": 0}, \"hovertemplate\": \"price=%{x}<br>enginesize=%{y}\", \"legendgroup\": \"\", \"marker\": {\"color\": \"#636efa\", \"symbol\": \"circle\"}, \"mode\": \"markers\", \"name\": \"\", \"showlegend\": false, \"type\": \"scatter\", \"x\": [118, 137, 137, 123, 148, 128, 150, 159, 169, 151, 136, 145, 163, 164, 170, 174, 187, 184, 1, 11, 17, 7, 13, 49, 10, 20, 41, 63, 67, 114, 14, 25, 5, 16, 32, 34, 34, 47, 70, 65, 89, 113, 90, 22, 66, 66, 96, 177, 182, 183, 2, 8, 23, 21, 37, 95, 104, 120, 131, 65, 61, 91, 88, 93, 98, 154, 155, 171, 173, 172, 176, 180, 181, 186, 188, 138, 4, 9, 19, 42, 81, 62, 110, 126, 125, 28, 55, 73, 73, 6, 30, 18, 24, 36, 35, 46, 39, 52, 58, 69, 78, 119, 124, 119, 147, 162, 156, 106, 115, 109, 122, 130, 144, 142, 146, 141, 152, 153, 7, 49, 10, 20, 41, 67, 111, 166, 178, 179, 185, 175, 74, 80, 105, 107, 127, 129, 153, 158, 0, 29, 40, 31, 44, 82, 71, 100, 38, 87, 53, 103, 3, 12, 15, 26, 48, 64, 27, 33, 48, 45, 43, 59, 72, 54, 57, 75, 77, 60, 79, 85, 97, 101, 149, 68, 92, 84, 94, 99, 140, 135, 132, 133, 44, 50, 51, 56, 61, 76, 86, 102, 83, 116, 121, 108, 112, 117, 134, 139, 157, 160, 143, 161, 165, 167, 168], \"xaxis\": \"x\", \"y\": [18, 18, 28, 11, 22, 22, 22, 22, 19, 19, 10, 10, 31, 31, 31, 38, 38, 38, 0, 4, 4, 4, 4, 8, 4, 4, 4, 8, 17, 29, 6, 6, 2, 6, 6, 6, 6, 12, 12, 12, 12, 12, 12, 13, 4, 4, 14, 40, 40, 43, 5, 5, 5, 5, 5, 1, 1, 1, 3, 17, 17, 17, 17, 17, 17, 23, 21, 35, 35, 35, 35, 39, 39, 42, 41, 23, 6, 6, 6, 8, 12, 17, 29, 29, 29, 17, 17, 12, 12, 7, 9, 7, 7, 7, 7, 7, 7, 7, 7, 15, 15, 34, 34, 34, 34, 34, 34, 15, 28, 15, 28, 15, 28, 15, 28, 15, 28, 21, 4, 8, 4, 4, 8, 17, 29, 27, 36, 36, 36, 37, 20, 20, 16, 16, 16, 16, 16, 16, 7, 10, 10, 10, 10, 10, 10, 10, 10, 10, 10, 10, 6, 6, 6, 6, 6, 6, 8, 8, 12, 12, 8, 8, 8, 8, 8, 8, 8, 26, 26, 26, 26, 26, 26, 17, 12, 17, 17, 17, 32, 32, 32, 30, 7, 11, 7, 11, 11, 7, 11, 11, 11, 22, 7, 11, 24, 24, 24, 24, 18, 18, 24, 24, 33, 25, 24], \"yaxis\": \"y\"}],\n",
       "                        {\"legend\": {\"tracegroupgap\": 0}, \"margin\": {\"t\": 60}, \"template\": {\"data\": {\"bar\": [{\"error_x\": {\"color\": \"#2a3f5f\"}, \"error_y\": {\"color\": \"#2a3f5f\"}, \"marker\": {\"line\": {\"color\": \"#E5ECF6\", \"width\": 0.5}}, \"type\": \"bar\"}], \"barpolar\": [{\"marker\": {\"line\": {\"color\": \"#E5ECF6\", \"width\": 0.5}}, \"type\": \"barpolar\"}], \"carpet\": [{\"aaxis\": {\"endlinecolor\": \"#2a3f5f\", \"gridcolor\": \"white\", \"linecolor\": \"white\", \"minorgridcolor\": \"white\", \"startlinecolor\": \"#2a3f5f\"}, \"baxis\": {\"endlinecolor\": \"#2a3f5f\", \"gridcolor\": \"white\", \"linecolor\": \"white\", \"minorgridcolor\": \"white\", \"startlinecolor\": \"#2a3f5f\"}, \"type\": \"carpet\"}], \"choropleth\": [{\"colorbar\": {\"outlinewidth\": 0, \"ticks\": \"\"}, \"type\": \"choropleth\"}], \"contour\": [{\"colorbar\": {\"outlinewidth\": 0, \"ticks\": \"\"}, \"colorscale\": [[0.0, \"#0d0887\"], [0.1111111111111111, \"#46039f\"], [0.2222222222222222, \"#7201a8\"], [0.3333333333333333, \"#9c179e\"], [0.4444444444444444, \"#bd3786\"], [0.5555555555555556, \"#d8576b\"], [0.6666666666666666, \"#ed7953\"], [0.7777777777777778, \"#fb9f3a\"], [0.8888888888888888, \"#fdca26\"], [1.0, \"#f0f921\"]], \"type\": \"contour\"}], \"contourcarpet\": [{\"colorbar\": {\"outlinewidth\": 0, \"ticks\": \"\"}, \"type\": \"contourcarpet\"}], \"heatmap\": [{\"colorbar\": {\"outlinewidth\": 0, \"ticks\": \"\"}, \"colorscale\": [[0.0, \"#0d0887\"], [0.1111111111111111, \"#46039f\"], [0.2222222222222222, \"#7201a8\"], [0.3333333333333333, \"#9c179e\"], [0.4444444444444444, \"#bd3786\"], [0.5555555555555556, \"#d8576b\"], [0.6666666666666666, \"#ed7953\"], [0.7777777777777778, \"#fb9f3a\"], [0.8888888888888888, \"#fdca26\"], [1.0, \"#f0f921\"]], \"type\": \"heatmap\"}], \"heatmapgl\": [{\"colorbar\": {\"outlinewidth\": 0, \"ticks\": \"\"}, \"colorscale\": [[0.0, \"#0d0887\"], [0.1111111111111111, \"#46039f\"], [0.2222222222222222, \"#7201a8\"], [0.3333333333333333, \"#9c179e\"], [0.4444444444444444, \"#bd3786\"], [0.5555555555555556, \"#d8576b\"], [0.6666666666666666, \"#ed7953\"], [0.7777777777777778, \"#fb9f3a\"], [0.8888888888888888, \"#fdca26\"], [1.0, \"#f0f921\"]], \"type\": \"heatmapgl\"}], \"histogram\": [{\"marker\": {\"colorbar\": {\"outlinewidth\": 0, \"ticks\": \"\"}}, \"type\": \"histogram\"}], \"histogram2d\": [{\"colorbar\": {\"outlinewidth\": 0, \"ticks\": \"\"}, \"colorscale\": [[0.0, \"#0d0887\"], [0.1111111111111111, \"#46039f\"], [0.2222222222222222, \"#7201a8\"], [0.3333333333333333, \"#9c179e\"], [0.4444444444444444, \"#bd3786\"], [0.5555555555555556, \"#d8576b\"], [0.6666666666666666, \"#ed7953\"], [0.7777777777777778, \"#fb9f3a\"], [0.8888888888888888, \"#fdca26\"], [1.0, \"#f0f921\"]], \"type\": \"histogram2d\"}], \"histogram2dcontour\": [{\"colorbar\": {\"outlinewidth\": 0, \"ticks\": \"\"}, \"colorscale\": [[0.0, \"#0d0887\"], [0.1111111111111111, \"#46039f\"], [0.2222222222222222, \"#7201a8\"], [0.3333333333333333, \"#9c179e\"], [0.4444444444444444, \"#bd3786\"], [0.5555555555555556, \"#d8576b\"], [0.6666666666666666, \"#ed7953\"], [0.7777777777777778, \"#fb9f3a\"], [0.8888888888888888, \"#fdca26\"], [1.0, \"#f0f921\"]], \"type\": \"histogram2dcontour\"}], \"mesh3d\": [{\"colorbar\": {\"outlinewidth\": 0, \"ticks\": \"\"}, \"type\": \"mesh3d\"}], \"parcoords\": [{\"line\": {\"colorbar\": {\"outlinewidth\": 0, \"ticks\": \"\"}}, \"type\": \"parcoords\"}], \"pie\": [{\"automargin\": true, \"type\": \"pie\"}], \"scatter\": [{\"marker\": {\"colorbar\": {\"outlinewidth\": 0, \"ticks\": \"\"}}, \"type\": \"scatter\"}], \"scatter3d\": [{\"line\": {\"colorbar\": {\"outlinewidth\": 0, \"ticks\": \"\"}}, \"marker\": {\"colorbar\": {\"outlinewidth\": 0, \"ticks\": \"\"}}, \"type\": \"scatter3d\"}], \"scattercarpet\": [{\"marker\": {\"colorbar\": {\"outlinewidth\": 0, \"ticks\": \"\"}}, \"type\": \"scattercarpet\"}], \"scattergeo\": [{\"marker\": {\"colorbar\": {\"outlinewidth\": 0, \"ticks\": \"\"}}, \"type\": \"scattergeo\"}], \"scattergl\": [{\"marker\": {\"colorbar\": {\"outlinewidth\": 0, \"ticks\": \"\"}}, \"type\": \"scattergl\"}], \"scattermapbox\": [{\"marker\": {\"colorbar\": {\"outlinewidth\": 0, \"ticks\": \"\"}}, \"type\": \"scattermapbox\"}], \"scatterpolar\": [{\"marker\": {\"colorbar\": {\"outlinewidth\": 0, \"ticks\": \"\"}}, \"type\": \"scatterpolar\"}], \"scatterpolargl\": [{\"marker\": {\"colorbar\": {\"outlinewidth\": 0, \"ticks\": \"\"}}, \"type\": \"scatterpolargl\"}], \"scatterternary\": [{\"marker\": {\"colorbar\": {\"outlinewidth\": 0, \"ticks\": \"\"}}, \"type\": \"scatterternary\"}], \"surface\": [{\"colorbar\": {\"outlinewidth\": 0, \"ticks\": \"\"}, \"colorscale\": [[0.0, \"#0d0887\"], [0.1111111111111111, \"#46039f\"], [0.2222222222222222, \"#7201a8\"], [0.3333333333333333, \"#9c179e\"], [0.4444444444444444, \"#bd3786\"], [0.5555555555555556, \"#d8576b\"], [0.6666666666666666, \"#ed7953\"], [0.7777777777777778, \"#fb9f3a\"], [0.8888888888888888, \"#fdca26\"], [1.0, \"#f0f921\"]], \"type\": \"surface\"}], \"table\": [{\"cells\": {\"fill\": {\"color\": \"#EBF0F8\"}, \"line\": {\"color\": \"white\"}}, \"header\": {\"fill\": {\"color\": \"#C8D4E3\"}, \"line\": {\"color\": \"white\"}}, \"type\": \"table\"}]}, \"layout\": {\"annotationdefaults\": {\"arrowcolor\": \"#2a3f5f\", \"arrowhead\": 0, \"arrowwidth\": 1}, \"coloraxis\": {\"colorbar\": {\"outlinewidth\": 0, \"ticks\": \"\"}}, \"colorscale\": {\"diverging\": [[0, \"#8e0152\"], [0.1, \"#c51b7d\"], [0.2, \"#de77ae\"], [0.3, \"#f1b6da\"], [0.4, \"#fde0ef\"], [0.5, \"#f7f7f7\"], [0.6, \"#e6f5d0\"], [0.7, \"#b8e186\"], [0.8, \"#7fbc41\"], [0.9, \"#4d9221\"], [1, \"#276419\"]], \"sequential\": [[0.0, \"#0d0887\"], [0.1111111111111111, \"#46039f\"], [0.2222222222222222, \"#7201a8\"], [0.3333333333333333, \"#9c179e\"], [0.4444444444444444, \"#bd3786\"], [0.5555555555555556, \"#d8576b\"], [0.6666666666666666, \"#ed7953\"], [0.7777777777777778, \"#fb9f3a\"], [0.8888888888888888, \"#fdca26\"], [1.0, \"#f0f921\"]], \"sequentialminus\": [[0.0, \"#0d0887\"], [0.1111111111111111, \"#46039f\"], [0.2222222222222222, \"#7201a8\"], [0.3333333333333333, \"#9c179e\"], [0.4444444444444444, \"#bd3786\"], [0.5555555555555556, \"#d8576b\"], [0.6666666666666666, \"#ed7953\"], [0.7777777777777778, \"#fb9f3a\"], [0.8888888888888888, \"#fdca26\"], [1.0, \"#f0f921\"]]}, \"colorway\": [\"#636efa\", \"#EF553B\", \"#00cc96\", \"#ab63fa\", \"#FFA15A\", \"#19d3f3\", \"#FF6692\", \"#B6E880\", \"#FF97FF\", \"#FECB52\"], \"font\": {\"color\": \"#2a3f5f\"}, \"geo\": {\"bgcolor\": \"white\", \"lakecolor\": \"white\", \"landcolor\": \"#E5ECF6\", \"showlakes\": true, \"showland\": true, \"subunitcolor\": \"white\"}, \"hoverlabel\": {\"align\": \"left\"}, \"hovermode\": \"closest\", \"mapbox\": {\"style\": \"light\"}, \"paper_bgcolor\": \"white\", \"plot_bgcolor\": \"#E5ECF6\", \"polar\": {\"angularaxis\": {\"gridcolor\": \"white\", \"linecolor\": \"white\", \"ticks\": \"\"}, \"bgcolor\": \"#E5ECF6\", \"radialaxis\": {\"gridcolor\": \"white\", \"linecolor\": \"white\", \"ticks\": \"\"}}, \"scene\": {\"xaxis\": {\"backgroundcolor\": \"#E5ECF6\", \"gridcolor\": \"white\", \"gridwidth\": 2, \"linecolor\": \"white\", \"showbackground\": true, \"ticks\": \"\", \"zerolinecolor\": \"white\"}, \"yaxis\": {\"backgroundcolor\": \"#E5ECF6\", \"gridcolor\": \"white\", \"gridwidth\": 2, \"linecolor\": \"white\", \"showbackground\": true, \"ticks\": \"\", \"zerolinecolor\": \"white\"}, \"zaxis\": {\"backgroundcolor\": \"#E5ECF6\", \"gridcolor\": \"white\", \"gridwidth\": 2, \"linecolor\": \"white\", \"showbackground\": true, \"ticks\": \"\", \"zerolinecolor\": \"white\"}}, \"shapedefaults\": {\"line\": {\"color\": \"#2a3f5f\"}}, \"ternary\": {\"aaxis\": {\"gridcolor\": \"white\", \"linecolor\": \"white\", \"ticks\": \"\"}, \"baxis\": {\"gridcolor\": \"white\", \"linecolor\": \"white\", \"ticks\": \"\"}, \"bgcolor\": \"#E5ECF6\", \"caxis\": {\"gridcolor\": \"white\", \"linecolor\": \"white\", \"ticks\": \"\"}}, \"title\": {\"x\": 0.05}, \"xaxis\": {\"automargin\": true, \"gridcolor\": \"white\", \"linecolor\": \"white\", \"ticks\": \"\", \"title\": {\"standoff\": 15}, \"zerolinecolor\": \"white\", \"zerolinewidth\": 2}, \"yaxis\": {\"automargin\": true, \"gridcolor\": \"white\", \"linecolor\": \"white\", \"ticks\": \"\", \"title\": {\"standoff\": 15}, \"zerolinecolor\": \"white\", \"zerolinewidth\": 2}}}, \"xaxis\": {\"anchor\": \"y\", \"domain\": [0.0, 1.0], \"title\": {\"text\": \"price\"}}, \"yaxis\": {\"anchor\": \"x\", \"domain\": [0.0, 1.0], \"title\": {\"text\": \"enginesize\"}}},\n",
       "                        {\"responsive\": true}\n",
       "                    ).then(function(){\n",
       "                            \n",
       "var gd = document.getElementById('b83926ca-c77a-4f38-a6b4-ec898332e514');\n",
       "var x = new MutationObserver(function (mutations, observer) {{\n",
       "        var display = window.getComputedStyle(gd).display;\n",
       "        if (!display || display === 'none') {{\n",
       "            console.log([gd, 'removed!']);\n",
       "            Plotly.purge(gd);\n",
       "            observer.disconnect();\n",
       "        }}\n",
       "}});\n",
       "\n",
       "// Listen for the removal of the full notebook cells\n",
       "var notebookContainer = gd.closest('#notebook-container');\n",
       "if (notebookContainer) {{\n",
       "    x.observe(notebookContainer, {childList: true});\n",
       "}}\n",
       "\n",
       "// Listen for the clearing of the current output cell\n",
       "var outputEl = gd.closest('.output');\n",
       "if (outputEl) {{\n",
       "    x.observe(outputEl, {childList: true});\n",
       "}}\n",
       "\n",
       "                        })\n",
       "                };\n",
       "                });\n",
       "            </script>\n",
       "        </div>"
      ]
     },
     "metadata": {},
     "output_type": "display_data"
    }
   ],
   "source": [
    "fig = px.scatter(df, x='price', y='enginesize')\n",
    "fig.show()"
   ]
  },
  {
   "cell_type": "markdown",
   "metadata": {},
   "source": [
    "### 3.1.2 Вычисление коэффициентов регрессии матричным способом "
   ]
  },
  {
   "cell_type": "markdown",
   "metadata": {},
   "source": [
    "<img src=\"reg_m.jpg\">"
   ]
  },
  {
   "cell_type": "code",
   "execution_count": 40,
   "metadata": {},
   "outputs": [],
   "source": [
    "import numpy as np"
   ]
  },
  {
   "cell_type": "code",
   "execution_count": 110,
   "metadata": {},
   "outputs": [
    {
     "data": {
      "text/plain": [
       "array([ 5.24106398e+01, -1.02311681e-01,  2.18470564e+00, -2.11642101e-02,\n",
       "       -2.92692816e+01, -5.83570818e+00, -7.93128553e+00, -4.40863223e+00,\n",
       "        2.52699519e+00,  3.20434750e+01,  6.34225165e-01, -2.06578965e-01,\n",
       "        7.36209558e-01,  2.50456405e-01,  3.60955023e-01,  9.91672740e-01,\n",
       "        4.48711749e-01, -4.77936652e-01,  3.58618089e+00, -2.09333506e-01,\n",
       "       -5.03714418e-01,  5.71833312e-01,  1.43046552e+00, -1.12281838e-01,\n",
       "       -2.40925647e+00,  1.50738855e+00])"
      ]
     },
     "execution_count": 110,
     "metadata": {},
     "output_type": "execute_result"
    }
   ],
   "source": [
    "X_0 = np.ones(row_number_train).T\n",
    "X = np.column_stack((X_0, train_x_df))\n",
    "B = np.dot(np.dot(np.linalg.inv(np.dot(X.T,X)),X.T),train_y_df)\n",
    "B"
   ]
  },
  {
   "cell_type": "markdown",
   "metadata": {},
   "source": [
    "### 3.1.3 Использование класса LinearRegression библиотеки scikit-learn"
   ]
  },
  {
   "cell_type": "markdown",
   "metadata": {},
   "source": [
    "#### 3.1.3.1 Обучение c произвольным гиперпараметром"
   ]
  },
  {
   "cell_type": "code",
   "execution_count": 194,
   "metadata": {},
   "outputs": [],
   "source": [
    "from sklearn.linear_model import Lasso\n",
    "reg1 = Lasso(alpha=0.1).fit(np.array(train_x_df), \n",
    "                              np.array(train_y_df).reshape(-1, 1))\n",
    "B_1 = (reg1.intercept_, reg1.coef_)"
   ]
  },
  {
   "cell_type": "code",
   "execution_count": 195,
   "metadata": {},
   "outputs": [
    {
     "data": {
      "text/plain": [
       "(array([42.14887115]),\n",
       " array([-1.11567509e-01,  1.84913331e+00, -1.05906495e-02, -2.01892043e+01,\n",
       "        -6.63162812e-01, -7.31529743e+00, -4.77816533e+00,  1.83023531e+00,\n",
       "         2.38949769e+01,  6.35998365e-01, -2.13153098e-01,  6.59254648e-01,\n",
       "         2.64508407e-01,  3.75002489e-01,  9.35438073e-01,  4.13292452e-01,\n",
       "        -2.53813867e-01,  3.67533788e+00, -1.76396306e-01, -4.98128698e-01,\n",
       "         8.44526642e-01,  1.25702856e+00, -1.09337548e-02, -2.55377484e+00,\n",
       "         1.55622583e+00]))"
      ]
     },
     "execution_count": 195,
     "metadata": {},
     "output_type": "execute_result"
    }
   ],
   "source": [
    "B_1"
   ]
  },
  {
   "cell_type": "markdown",
   "metadata": {},
   "source": [
    "#### 3.1.3.2 Оценка качества модели "
   ]
  },
  {
   "cell_type": "code",
   "execution_count": 196,
   "metadata": {},
   "outputs": [],
   "source": [
    "predicted_y_reg = reg1.predict(np.array(test_x_df))"
   ]
  },
  {
   "cell_type": "code",
   "execution_count": 197,
   "metadata": {},
   "outputs": [],
   "source": [
    "predict_test_df = pd.DataFrame(test_y_df)\n",
    "predict_test_df['predicted_y'] = predicted_y"
   ]
  },
  {
   "cell_type": "code",
   "execution_count": 198,
   "metadata": {},
   "outputs": [
    {
     "data": {
      "application/vnd.plotly.v1+json": {
       "config": {
        "plotlyServerURL": "https://plot.ly"
       },
       "data": [
        {
         "name": "predicted",
         "type": "scatter",
         "x": [
          0,
          1,
          2,
          3,
          4,
          5,
          6,
          7,
          8,
          9,
          10,
          11,
          12,
          13,
          14,
          15,
          16,
          17,
          18,
          19,
          20,
          21,
          22,
          23,
          24,
          25,
          26,
          27,
          28,
          29,
          30,
          31,
          32,
          33,
          34,
          35,
          36,
          37,
          38,
          39,
          40,
          41,
          42,
          43,
          44,
          45,
          46,
          47,
          48,
          49,
          50,
          51,
          52,
          53,
          54,
          55,
          56,
          57,
          58,
          59,
          60,
          61
         ],
         "y": [
          30.645652157220653,
          21.369056127603997,
          25.25664455436533,
          16.835929356729437,
          48.80718480279418,
          178.4321931389166,
          30.232098018420082,
          10.472768915926451,
          31.36550012442426,
          70.83272741171065,
          130.95099197903838,
          115.99785920487574,
          121.28830094210628,
          52.50081082349563,
          107.6192323181998,
          100.73229006232393,
          49.752032083039175,
          26.551388960898734,
          144.4214590720122,
          92.83300435302304,
          73.67364191944586,
          19.59950989377019,
          115.13454228925424,
          57.8903344423028,
          93.92044856448108,
          28.126867134668245,
          112.74630244098392,
          72.32379450573677,
          27.167749416889244,
          39.07036921404088,
          24.429764314129173,
          80.57250870314351,
          166.0776341186163,
          76.65868356505517,
          147.79383312237042,
          64.32083415904904,
          62.11120307941683,
          173.10290916588048,
          140.0165395695946,
          135.88104064365422,
          25.73642039495563,
          153.03914254802402,
          43.86071527466162,
          85.20131574606427,
          68.56359073403027,
          24.41185140641842,
          191.6048110418401,
          27.024473126807464,
          151.3771556021582,
          147.1470537088851,
          175.92377527595784,
          138.07050719596592,
          157.68584368287136,
          34.47893407384076,
          65.47940311023567,
          24.2256378091717,
          84.00911673935414,
          54.32610228832408,
          143.46343764664337,
          29.776621509649928,
          104.0200241814561,
          79.8628580122719
         ]
        },
        {
         "name": "test",
         "type": "scatter",
         "x": [
          0,
          1,
          2,
          3,
          4,
          5,
          6,
          7,
          8,
          9,
          10,
          11,
          12,
          13,
          14,
          15,
          16,
          17,
          18,
          19,
          20,
          21,
          22,
          23,
          24,
          25,
          26,
          27,
          28,
          29,
          30,
          31,
          32,
          33,
          34,
          35,
          36,
          37,
          38,
          39,
          40,
          41,
          42,
          43,
          44,
          45,
          46,
          47,
          48,
          49,
          50,
          51,
          52,
          53,
          54,
          55,
          56,
          57,
          58,
          59,
          60,
          61
         ],
         "y": [
          19,
          52,
          12,
          66,
          89,
          171,
          58,
          1,
          15,
          88,
          148,
          149,
          139,
          70,
          114,
          97,
          83,
          16,
          153,
          100,
          68,
          25,
          145,
          49,
          85,
          32,
          125,
          51,
          10,
          34,
          54,
          67,
          187,
          74,
          152,
          44,
          63,
          177,
          131,
          168,
          0,
          156,
          30,
          87,
          56,
          46,
          186,
          8,
          153,
          119,
          172,
          106,
          170,
          72,
          65,
          11,
          99,
          65,
          122,
          57,
          104,
          94
         ]
        }
       ],
       "layout": {
        "template": {
         "data": {
          "bar": [
           {
            "error_x": {
             "color": "#2a3f5f"
            },
            "error_y": {
             "color": "#2a3f5f"
            },
            "marker": {
             "line": {
              "color": "#E5ECF6",
              "width": 0.5
             }
            },
            "type": "bar"
           }
          ],
          "barpolar": [
           {
            "marker": {
             "line": {
              "color": "#E5ECF6",
              "width": 0.5
             }
            },
            "type": "barpolar"
           }
          ],
          "carpet": [
           {
            "aaxis": {
             "endlinecolor": "#2a3f5f",
             "gridcolor": "white",
             "linecolor": "white",
             "minorgridcolor": "white",
             "startlinecolor": "#2a3f5f"
            },
            "baxis": {
             "endlinecolor": "#2a3f5f",
             "gridcolor": "white",
             "linecolor": "white",
             "minorgridcolor": "white",
             "startlinecolor": "#2a3f5f"
            },
            "type": "carpet"
           }
          ],
          "choropleth": [
           {
            "colorbar": {
             "outlinewidth": 0,
             "ticks": ""
            },
            "type": "choropleth"
           }
          ],
          "contour": [
           {
            "colorbar": {
             "outlinewidth": 0,
             "ticks": ""
            },
            "colorscale": [
             [
              0,
              "#0d0887"
             ],
             [
              0.1111111111111111,
              "#46039f"
             ],
             [
              0.2222222222222222,
              "#7201a8"
             ],
             [
              0.3333333333333333,
              "#9c179e"
             ],
             [
              0.4444444444444444,
              "#bd3786"
             ],
             [
              0.5555555555555556,
              "#d8576b"
             ],
             [
              0.6666666666666666,
              "#ed7953"
             ],
             [
              0.7777777777777778,
              "#fb9f3a"
             ],
             [
              0.8888888888888888,
              "#fdca26"
             ],
             [
              1,
              "#f0f921"
             ]
            ],
            "type": "contour"
           }
          ],
          "contourcarpet": [
           {
            "colorbar": {
             "outlinewidth": 0,
             "ticks": ""
            },
            "type": "contourcarpet"
           }
          ],
          "heatmap": [
           {
            "colorbar": {
             "outlinewidth": 0,
             "ticks": ""
            },
            "colorscale": [
             [
              0,
              "#0d0887"
             ],
             [
              0.1111111111111111,
              "#46039f"
             ],
             [
              0.2222222222222222,
              "#7201a8"
             ],
             [
              0.3333333333333333,
              "#9c179e"
             ],
             [
              0.4444444444444444,
              "#bd3786"
             ],
             [
              0.5555555555555556,
              "#d8576b"
             ],
             [
              0.6666666666666666,
              "#ed7953"
             ],
             [
              0.7777777777777778,
              "#fb9f3a"
             ],
             [
              0.8888888888888888,
              "#fdca26"
             ],
             [
              1,
              "#f0f921"
             ]
            ],
            "type": "heatmap"
           }
          ],
          "heatmapgl": [
           {
            "colorbar": {
             "outlinewidth": 0,
             "ticks": ""
            },
            "colorscale": [
             [
              0,
              "#0d0887"
             ],
             [
              0.1111111111111111,
              "#46039f"
             ],
             [
              0.2222222222222222,
              "#7201a8"
             ],
             [
              0.3333333333333333,
              "#9c179e"
             ],
             [
              0.4444444444444444,
              "#bd3786"
             ],
             [
              0.5555555555555556,
              "#d8576b"
             ],
             [
              0.6666666666666666,
              "#ed7953"
             ],
             [
              0.7777777777777778,
              "#fb9f3a"
             ],
             [
              0.8888888888888888,
              "#fdca26"
             ],
             [
              1,
              "#f0f921"
             ]
            ],
            "type": "heatmapgl"
           }
          ],
          "histogram": [
           {
            "marker": {
             "colorbar": {
              "outlinewidth": 0,
              "ticks": ""
             }
            },
            "type": "histogram"
           }
          ],
          "histogram2d": [
           {
            "colorbar": {
             "outlinewidth": 0,
             "ticks": ""
            },
            "colorscale": [
             [
              0,
              "#0d0887"
             ],
             [
              0.1111111111111111,
              "#46039f"
             ],
             [
              0.2222222222222222,
              "#7201a8"
             ],
             [
              0.3333333333333333,
              "#9c179e"
             ],
             [
              0.4444444444444444,
              "#bd3786"
             ],
             [
              0.5555555555555556,
              "#d8576b"
             ],
             [
              0.6666666666666666,
              "#ed7953"
             ],
             [
              0.7777777777777778,
              "#fb9f3a"
             ],
             [
              0.8888888888888888,
              "#fdca26"
             ],
             [
              1,
              "#f0f921"
             ]
            ],
            "type": "histogram2d"
           }
          ],
          "histogram2dcontour": [
           {
            "colorbar": {
             "outlinewidth": 0,
             "ticks": ""
            },
            "colorscale": [
             [
              0,
              "#0d0887"
             ],
             [
              0.1111111111111111,
              "#46039f"
             ],
             [
              0.2222222222222222,
              "#7201a8"
             ],
             [
              0.3333333333333333,
              "#9c179e"
             ],
             [
              0.4444444444444444,
              "#bd3786"
             ],
             [
              0.5555555555555556,
              "#d8576b"
             ],
             [
              0.6666666666666666,
              "#ed7953"
             ],
             [
              0.7777777777777778,
              "#fb9f3a"
             ],
             [
              0.8888888888888888,
              "#fdca26"
             ],
             [
              1,
              "#f0f921"
             ]
            ],
            "type": "histogram2dcontour"
           }
          ],
          "mesh3d": [
           {
            "colorbar": {
             "outlinewidth": 0,
             "ticks": ""
            },
            "type": "mesh3d"
           }
          ],
          "parcoords": [
           {
            "line": {
             "colorbar": {
              "outlinewidth": 0,
              "ticks": ""
             }
            },
            "type": "parcoords"
           }
          ],
          "pie": [
           {
            "automargin": true,
            "type": "pie"
           }
          ],
          "scatter": [
           {
            "marker": {
             "colorbar": {
              "outlinewidth": 0,
              "ticks": ""
             }
            },
            "type": "scatter"
           }
          ],
          "scatter3d": [
           {
            "line": {
             "colorbar": {
              "outlinewidth": 0,
              "ticks": ""
             }
            },
            "marker": {
             "colorbar": {
              "outlinewidth": 0,
              "ticks": ""
             }
            },
            "type": "scatter3d"
           }
          ],
          "scattercarpet": [
           {
            "marker": {
             "colorbar": {
              "outlinewidth": 0,
              "ticks": ""
             }
            },
            "type": "scattercarpet"
           }
          ],
          "scattergeo": [
           {
            "marker": {
             "colorbar": {
              "outlinewidth": 0,
              "ticks": ""
             }
            },
            "type": "scattergeo"
           }
          ],
          "scattergl": [
           {
            "marker": {
             "colorbar": {
              "outlinewidth": 0,
              "ticks": ""
             }
            },
            "type": "scattergl"
           }
          ],
          "scattermapbox": [
           {
            "marker": {
             "colorbar": {
              "outlinewidth": 0,
              "ticks": ""
             }
            },
            "type": "scattermapbox"
           }
          ],
          "scatterpolar": [
           {
            "marker": {
             "colorbar": {
              "outlinewidth": 0,
              "ticks": ""
             }
            },
            "type": "scatterpolar"
           }
          ],
          "scatterpolargl": [
           {
            "marker": {
             "colorbar": {
              "outlinewidth": 0,
              "ticks": ""
             }
            },
            "type": "scatterpolargl"
           }
          ],
          "scatterternary": [
           {
            "marker": {
             "colorbar": {
              "outlinewidth": 0,
              "ticks": ""
             }
            },
            "type": "scatterternary"
           }
          ],
          "surface": [
           {
            "colorbar": {
             "outlinewidth": 0,
             "ticks": ""
            },
            "colorscale": [
             [
              0,
              "#0d0887"
             ],
             [
              0.1111111111111111,
              "#46039f"
             ],
             [
              0.2222222222222222,
              "#7201a8"
             ],
             [
              0.3333333333333333,
              "#9c179e"
             ],
             [
              0.4444444444444444,
              "#bd3786"
             ],
             [
              0.5555555555555556,
              "#d8576b"
             ],
             [
              0.6666666666666666,
              "#ed7953"
             ],
             [
              0.7777777777777778,
              "#fb9f3a"
             ],
             [
              0.8888888888888888,
              "#fdca26"
             ],
             [
              1,
              "#f0f921"
             ]
            ],
            "type": "surface"
           }
          ],
          "table": [
           {
            "cells": {
             "fill": {
              "color": "#EBF0F8"
             },
             "line": {
              "color": "white"
             }
            },
            "header": {
             "fill": {
              "color": "#C8D4E3"
             },
             "line": {
              "color": "white"
             }
            },
            "type": "table"
           }
          ]
         },
         "layout": {
          "annotationdefaults": {
           "arrowcolor": "#2a3f5f",
           "arrowhead": 0,
           "arrowwidth": 1
          },
          "coloraxis": {
           "colorbar": {
            "outlinewidth": 0,
            "ticks": ""
           }
          },
          "colorscale": {
           "diverging": [
            [
             0,
             "#8e0152"
            ],
            [
             0.1,
             "#c51b7d"
            ],
            [
             0.2,
             "#de77ae"
            ],
            [
             0.3,
             "#f1b6da"
            ],
            [
             0.4,
             "#fde0ef"
            ],
            [
             0.5,
             "#f7f7f7"
            ],
            [
             0.6,
             "#e6f5d0"
            ],
            [
             0.7,
             "#b8e186"
            ],
            [
             0.8,
             "#7fbc41"
            ],
            [
             0.9,
             "#4d9221"
            ],
            [
             1,
             "#276419"
            ]
           ],
           "sequential": [
            [
             0,
             "#0d0887"
            ],
            [
             0.1111111111111111,
             "#46039f"
            ],
            [
             0.2222222222222222,
             "#7201a8"
            ],
            [
             0.3333333333333333,
             "#9c179e"
            ],
            [
             0.4444444444444444,
             "#bd3786"
            ],
            [
             0.5555555555555556,
             "#d8576b"
            ],
            [
             0.6666666666666666,
             "#ed7953"
            ],
            [
             0.7777777777777778,
             "#fb9f3a"
            ],
            [
             0.8888888888888888,
             "#fdca26"
            ],
            [
             1,
             "#f0f921"
            ]
           ],
           "sequentialminus": [
            [
             0,
             "#0d0887"
            ],
            [
             0.1111111111111111,
             "#46039f"
            ],
            [
             0.2222222222222222,
             "#7201a8"
            ],
            [
             0.3333333333333333,
             "#9c179e"
            ],
            [
             0.4444444444444444,
             "#bd3786"
            ],
            [
             0.5555555555555556,
             "#d8576b"
            ],
            [
             0.6666666666666666,
             "#ed7953"
            ],
            [
             0.7777777777777778,
             "#fb9f3a"
            ],
            [
             0.8888888888888888,
             "#fdca26"
            ],
            [
             1,
             "#f0f921"
            ]
           ]
          },
          "colorway": [
           "#636efa",
           "#EF553B",
           "#00cc96",
           "#ab63fa",
           "#FFA15A",
           "#19d3f3",
           "#FF6692",
           "#B6E880",
           "#FF97FF",
           "#FECB52"
          ],
          "font": {
           "color": "#2a3f5f"
          },
          "geo": {
           "bgcolor": "white",
           "lakecolor": "white",
           "landcolor": "#E5ECF6",
           "showlakes": true,
           "showland": true,
           "subunitcolor": "white"
          },
          "hoverlabel": {
           "align": "left"
          },
          "hovermode": "closest",
          "mapbox": {
           "style": "light"
          },
          "paper_bgcolor": "white",
          "plot_bgcolor": "#E5ECF6",
          "polar": {
           "angularaxis": {
            "gridcolor": "white",
            "linecolor": "white",
            "ticks": ""
           },
           "bgcolor": "#E5ECF6",
           "radialaxis": {
            "gridcolor": "white",
            "linecolor": "white",
            "ticks": ""
           }
          },
          "scene": {
           "xaxis": {
            "backgroundcolor": "#E5ECF6",
            "gridcolor": "white",
            "gridwidth": 2,
            "linecolor": "white",
            "showbackground": true,
            "ticks": "",
            "zerolinecolor": "white"
           },
           "yaxis": {
            "backgroundcolor": "#E5ECF6",
            "gridcolor": "white",
            "gridwidth": 2,
            "linecolor": "white",
            "showbackground": true,
            "ticks": "",
            "zerolinecolor": "white"
           },
           "zaxis": {
            "backgroundcolor": "#E5ECF6",
            "gridcolor": "white",
            "gridwidth": 2,
            "linecolor": "white",
            "showbackground": true,
            "ticks": "",
            "zerolinecolor": "white"
           }
          },
          "shapedefaults": {
           "line": {
            "color": "#2a3f5f"
           }
          },
          "ternary": {
           "aaxis": {
            "gridcolor": "white",
            "linecolor": "white",
            "ticks": ""
           },
           "baxis": {
            "gridcolor": "white",
            "linecolor": "white",
            "ticks": ""
           },
           "bgcolor": "#E5ECF6",
           "caxis": {
            "gridcolor": "white",
            "linecolor": "white",
            "ticks": ""
           }
          },
          "title": {
           "x": 0.05
          },
          "xaxis": {
           "automargin": true,
           "gridcolor": "white",
           "linecolor": "white",
           "ticks": "",
           "title": {
            "standoff": 15
           },
           "zerolinecolor": "white",
           "zerolinewidth": 2
          },
          "yaxis": {
           "automargin": true,
           "gridcolor": "white",
           "linecolor": "white",
           "ticks": "",
           "title": {
            "standoff": 15
           },
           "zerolinecolor": "white",
           "zerolinewidth": 2
          }
         }
        }
       }
      },
      "text/html": [
       "<div>\n",
       "        \n",
       "        \n",
       "            <div id=\"5ab531ad-7278-4a4f-9e68-ab396bea692a\" class=\"plotly-graph-div\" style=\"height:525px; width:100%;\"></div>\n",
       "            <script type=\"text/javascript\">\n",
       "                require([\"plotly\"], function(Plotly) {\n",
       "                    window.PLOTLYENV=window.PLOTLYENV || {};\n",
       "                    \n",
       "                if (document.getElementById(\"5ab531ad-7278-4a4f-9e68-ab396bea692a\")) {\n",
       "                    Plotly.newPlot(\n",
       "                        '5ab531ad-7278-4a4f-9e68-ab396bea692a',\n",
       "                        [{\"name\": \"predicted\", \"type\": \"scatter\", \"x\": [0, 1, 2, 3, 4, 5, 6, 7, 8, 9, 10, 11, 12, 13, 14, 15, 16, 17, 18, 19, 20, 21, 22, 23, 24, 25, 26, 27, 28, 29, 30, 31, 32, 33, 34, 35, 36, 37, 38, 39, 40, 41, 42, 43, 44, 45, 46, 47, 48, 49, 50, 51, 52, 53, 54, 55, 56, 57, 58, 59, 60, 61], \"y\": [30.645652157220653, 21.369056127603997, 25.25664455436533, 16.835929356729437, 48.80718480279418, 178.4321931389166, 30.232098018420082, 10.472768915926451, 31.36550012442426, 70.83272741171065, 130.95099197903838, 115.99785920487574, 121.28830094210628, 52.50081082349563, 107.6192323181998, 100.73229006232393, 49.752032083039175, 26.551388960898734, 144.4214590720122, 92.83300435302304, 73.67364191944586, 19.59950989377019, 115.13454228925424, 57.8903344423028, 93.92044856448108, 28.126867134668245, 112.74630244098392, 72.32379450573677, 27.167749416889244, 39.07036921404088, 24.429764314129173, 80.57250870314351, 166.0776341186163, 76.65868356505517, 147.79383312237042, 64.32083415904904, 62.11120307941683, 173.10290916588048, 140.0165395695946, 135.88104064365422, 25.73642039495563, 153.03914254802402, 43.86071527466162, 85.20131574606427, 68.56359073403027, 24.41185140641842, 191.6048110418401, 27.024473126807464, 151.3771556021582, 147.1470537088851, 175.92377527595784, 138.07050719596592, 157.68584368287136, 34.47893407384076, 65.47940311023567, 24.2256378091717, 84.00911673935414, 54.32610228832408, 143.46343764664337, 29.776621509649928, 104.0200241814561, 79.8628580122719]}, {\"name\": \"test\", \"type\": \"scatter\", \"x\": [0, 1, 2, 3, 4, 5, 6, 7, 8, 9, 10, 11, 12, 13, 14, 15, 16, 17, 18, 19, 20, 21, 22, 23, 24, 25, 26, 27, 28, 29, 30, 31, 32, 33, 34, 35, 36, 37, 38, 39, 40, 41, 42, 43, 44, 45, 46, 47, 48, 49, 50, 51, 52, 53, 54, 55, 56, 57, 58, 59, 60, 61], \"y\": [19, 52, 12, 66, 89, 171, 58, 1, 15, 88, 148, 149, 139, 70, 114, 97, 83, 16, 153, 100, 68, 25, 145, 49, 85, 32, 125, 51, 10, 34, 54, 67, 187, 74, 152, 44, 63, 177, 131, 168, 0, 156, 30, 87, 56, 46, 186, 8, 153, 119, 172, 106, 170, 72, 65, 11, 99, 65, 122, 57, 104, 94]}],\n",
       "                        {\"template\": {\"data\": {\"bar\": [{\"error_x\": {\"color\": \"#2a3f5f\"}, \"error_y\": {\"color\": \"#2a3f5f\"}, \"marker\": {\"line\": {\"color\": \"#E5ECF6\", \"width\": 0.5}}, \"type\": \"bar\"}], \"barpolar\": [{\"marker\": {\"line\": {\"color\": \"#E5ECF6\", \"width\": 0.5}}, \"type\": \"barpolar\"}], \"carpet\": [{\"aaxis\": {\"endlinecolor\": \"#2a3f5f\", \"gridcolor\": \"white\", \"linecolor\": \"white\", \"minorgridcolor\": \"white\", \"startlinecolor\": \"#2a3f5f\"}, \"baxis\": {\"endlinecolor\": \"#2a3f5f\", \"gridcolor\": \"white\", \"linecolor\": \"white\", \"minorgridcolor\": \"white\", \"startlinecolor\": \"#2a3f5f\"}, \"type\": \"carpet\"}], \"choropleth\": [{\"colorbar\": {\"outlinewidth\": 0, \"ticks\": \"\"}, \"type\": \"choropleth\"}], \"contour\": [{\"colorbar\": {\"outlinewidth\": 0, \"ticks\": \"\"}, \"colorscale\": [[0.0, \"#0d0887\"], [0.1111111111111111, \"#46039f\"], [0.2222222222222222, \"#7201a8\"], [0.3333333333333333, \"#9c179e\"], [0.4444444444444444, \"#bd3786\"], [0.5555555555555556, \"#d8576b\"], [0.6666666666666666, \"#ed7953\"], [0.7777777777777778, \"#fb9f3a\"], [0.8888888888888888, \"#fdca26\"], [1.0, \"#f0f921\"]], \"type\": \"contour\"}], \"contourcarpet\": [{\"colorbar\": {\"outlinewidth\": 0, \"ticks\": \"\"}, \"type\": \"contourcarpet\"}], \"heatmap\": [{\"colorbar\": {\"outlinewidth\": 0, \"ticks\": \"\"}, \"colorscale\": [[0.0, \"#0d0887\"], [0.1111111111111111, \"#46039f\"], [0.2222222222222222, \"#7201a8\"], [0.3333333333333333, \"#9c179e\"], [0.4444444444444444, \"#bd3786\"], [0.5555555555555556, \"#d8576b\"], [0.6666666666666666, \"#ed7953\"], [0.7777777777777778, \"#fb9f3a\"], [0.8888888888888888, \"#fdca26\"], [1.0, \"#f0f921\"]], \"type\": \"heatmap\"}], \"heatmapgl\": [{\"colorbar\": {\"outlinewidth\": 0, \"ticks\": \"\"}, \"colorscale\": [[0.0, \"#0d0887\"], [0.1111111111111111, \"#46039f\"], [0.2222222222222222, \"#7201a8\"], [0.3333333333333333, \"#9c179e\"], [0.4444444444444444, \"#bd3786\"], [0.5555555555555556, \"#d8576b\"], [0.6666666666666666, \"#ed7953\"], [0.7777777777777778, \"#fb9f3a\"], [0.8888888888888888, \"#fdca26\"], [1.0, \"#f0f921\"]], \"type\": \"heatmapgl\"}], \"histogram\": [{\"marker\": {\"colorbar\": {\"outlinewidth\": 0, \"ticks\": \"\"}}, \"type\": \"histogram\"}], \"histogram2d\": [{\"colorbar\": {\"outlinewidth\": 0, \"ticks\": \"\"}, \"colorscale\": [[0.0, \"#0d0887\"], [0.1111111111111111, \"#46039f\"], [0.2222222222222222, \"#7201a8\"], [0.3333333333333333, \"#9c179e\"], [0.4444444444444444, \"#bd3786\"], [0.5555555555555556, \"#d8576b\"], [0.6666666666666666, \"#ed7953\"], [0.7777777777777778, \"#fb9f3a\"], [0.8888888888888888, \"#fdca26\"], [1.0, \"#f0f921\"]], \"type\": \"histogram2d\"}], \"histogram2dcontour\": [{\"colorbar\": {\"outlinewidth\": 0, \"ticks\": \"\"}, \"colorscale\": [[0.0, \"#0d0887\"], [0.1111111111111111, \"#46039f\"], [0.2222222222222222, \"#7201a8\"], [0.3333333333333333, \"#9c179e\"], [0.4444444444444444, \"#bd3786\"], [0.5555555555555556, \"#d8576b\"], [0.6666666666666666, \"#ed7953\"], [0.7777777777777778, \"#fb9f3a\"], [0.8888888888888888, \"#fdca26\"], [1.0, \"#f0f921\"]], \"type\": \"histogram2dcontour\"}], \"mesh3d\": [{\"colorbar\": {\"outlinewidth\": 0, \"ticks\": \"\"}, \"type\": \"mesh3d\"}], \"parcoords\": [{\"line\": {\"colorbar\": {\"outlinewidth\": 0, \"ticks\": \"\"}}, \"type\": \"parcoords\"}], \"pie\": [{\"automargin\": true, \"type\": \"pie\"}], \"scatter\": [{\"marker\": {\"colorbar\": {\"outlinewidth\": 0, \"ticks\": \"\"}}, \"type\": \"scatter\"}], \"scatter3d\": [{\"line\": {\"colorbar\": {\"outlinewidth\": 0, \"ticks\": \"\"}}, \"marker\": {\"colorbar\": {\"outlinewidth\": 0, \"ticks\": \"\"}}, \"type\": \"scatter3d\"}], \"scattercarpet\": [{\"marker\": {\"colorbar\": {\"outlinewidth\": 0, \"ticks\": \"\"}}, \"type\": \"scattercarpet\"}], \"scattergeo\": [{\"marker\": {\"colorbar\": {\"outlinewidth\": 0, \"ticks\": \"\"}}, \"type\": \"scattergeo\"}], \"scattergl\": [{\"marker\": {\"colorbar\": {\"outlinewidth\": 0, \"ticks\": \"\"}}, \"type\": \"scattergl\"}], \"scattermapbox\": [{\"marker\": {\"colorbar\": {\"outlinewidth\": 0, \"ticks\": \"\"}}, \"type\": \"scattermapbox\"}], \"scatterpolar\": [{\"marker\": {\"colorbar\": {\"outlinewidth\": 0, \"ticks\": \"\"}}, \"type\": \"scatterpolar\"}], \"scatterpolargl\": [{\"marker\": {\"colorbar\": {\"outlinewidth\": 0, \"ticks\": \"\"}}, \"type\": \"scatterpolargl\"}], \"scatterternary\": [{\"marker\": {\"colorbar\": {\"outlinewidth\": 0, \"ticks\": \"\"}}, \"type\": \"scatterternary\"}], \"surface\": [{\"colorbar\": {\"outlinewidth\": 0, \"ticks\": \"\"}, \"colorscale\": [[0.0, \"#0d0887\"], [0.1111111111111111, \"#46039f\"], [0.2222222222222222, \"#7201a8\"], [0.3333333333333333, \"#9c179e\"], [0.4444444444444444, \"#bd3786\"], [0.5555555555555556, \"#d8576b\"], [0.6666666666666666, \"#ed7953\"], [0.7777777777777778, \"#fb9f3a\"], [0.8888888888888888, \"#fdca26\"], [1.0, \"#f0f921\"]], \"type\": \"surface\"}], \"table\": [{\"cells\": {\"fill\": {\"color\": \"#EBF0F8\"}, \"line\": {\"color\": \"white\"}}, \"header\": {\"fill\": {\"color\": \"#C8D4E3\"}, \"line\": {\"color\": \"white\"}}, \"type\": \"table\"}]}, \"layout\": {\"annotationdefaults\": {\"arrowcolor\": \"#2a3f5f\", \"arrowhead\": 0, \"arrowwidth\": 1}, \"coloraxis\": {\"colorbar\": {\"outlinewidth\": 0, \"ticks\": \"\"}}, \"colorscale\": {\"diverging\": [[0, \"#8e0152\"], [0.1, \"#c51b7d\"], [0.2, \"#de77ae\"], [0.3, \"#f1b6da\"], [0.4, \"#fde0ef\"], [0.5, \"#f7f7f7\"], [0.6, \"#e6f5d0\"], [0.7, \"#b8e186\"], [0.8, \"#7fbc41\"], [0.9, \"#4d9221\"], [1, \"#276419\"]], \"sequential\": [[0.0, \"#0d0887\"], [0.1111111111111111, \"#46039f\"], [0.2222222222222222, \"#7201a8\"], [0.3333333333333333, \"#9c179e\"], [0.4444444444444444, \"#bd3786\"], [0.5555555555555556, \"#d8576b\"], [0.6666666666666666, \"#ed7953\"], [0.7777777777777778, \"#fb9f3a\"], [0.8888888888888888, \"#fdca26\"], [1.0, \"#f0f921\"]], \"sequentialminus\": [[0.0, \"#0d0887\"], [0.1111111111111111, \"#46039f\"], [0.2222222222222222, \"#7201a8\"], [0.3333333333333333, \"#9c179e\"], [0.4444444444444444, \"#bd3786\"], [0.5555555555555556, \"#d8576b\"], [0.6666666666666666, \"#ed7953\"], [0.7777777777777778, \"#fb9f3a\"], [0.8888888888888888, \"#fdca26\"], [1.0, \"#f0f921\"]]}, \"colorway\": [\"#636efa\", \"#EF553B\", \"#00cc96\", \"#ab63fa\", \"#FFA15A\", \"#19d3f3\", \"#FF6692\", \"#B6E880\", \"#FF97FF\", \"#FECB52\"], \"font\": {\"color\": \"#2a3f5f\"}, \"geo\": {\"bgcolor\": \"white\", \"lakecolor\": \"white\", \"landcolor\": \"#E5ECF6\", \"showlakes\": true, \"showland\": true, \"subunitcolor\": \"white\"}, \"hoverlabel\": {\"align\": \"left\"}, \"hovermode\": \"closest\", \"mapbox\": {\"style\": \"light\"}, \"paper_bgcolor\": \"white\", \"plot_bgcolor\": \"#E5ECF6\", \"polar\": {\"angularaxis\": {\"gridcolor\": \"white\", \"linecolor\": \"white\", \"ticks\": \"\"}, \"bgcolor\": \"#E5ECF6\", \"radialaxis\": {\"gridcolor\": \"white\", \"linecolor\": \"white\", \"ticks\": \"\"}}, \"scene\": {\"xaxis\": {\"backgroundcolor\": \"#E5ECF6\", \"gridcolor\": \"white\", \"gridwidth\": 2, \"linecolor\": \"white\", \"showbackground\": true, \"ticks\": \"\", \"zerolinecolor\": \"white\"}, \"yaxis\": {\"backgroundcolor\": \"#E5ECF6\", \"gridcolor\": \"white\", \"gridwidth\": 2, \"linecolor\": \"white\", \"showbackground\": true, \"ticks\": \"\", \"zerolinecolor\": \"white\"}, \"zaxis\": {\"backgroundcolor\": \"#E5ECF6\", \"gridcolor\": \"white\", \"gridwidth\": 2, \"linecolor\": \"white\", \"showbackground\": true, \"ticks\": \"\", \"zerolinecolor\": \"white\"}}, \"shapedefaults\": {\"line\": {\"color\": \"#2a3f5f\"}}, \"ternary\": {\"aaxis\": {\"gridcolor\": \"white\", \"linecolor\": \"white\", \"ticks\": \"\"}, \"baxis\": {\"gridcolor\": \"white\", \"linecolor\": \"white\", \"ticks\": \"\"}, \"bgcolor\": \"#E5ECF6\", \"caxis\": {\"gridcolor\": \"white\", \"linecolor\": \"white\", \"ticks\": \"\"}}, \"title\": {\"x\": 0.05}, \"xaxis\": {\"automargin\": true, \"gridcolor\": \"white\", \"linecolor\": \"white\", \"ticks\": \"\", \"title\": {\"standoff\": 15}, \"zerolinecolor\": \"white\", \"zerolinewidth\": 2}, \"yaxis\": {\"automargin\": true, \"gridcolor\": \"white\", \"linecolor\": \"white\", \"ticks\": \"\", \"title\": {\"standoff\": 15}, \"zerolinecolor\": \"white\", \"zerolinewidth\": 2}}}},\n",
       "                        {\"responsive\": true}\n",
       "                    ).then(function(){\n",
       "                            \n",
       "var gd = document.getElementById('5ab531ad-7278-4a4f-9e68-ab396bea692a');\n",
       "var x = new MutationObserver(function (mutations, observer) {{\n",
       "        var display = window.getComputedStyle(gd).display;\n",
       "        if (!display || display === 'none') {{\n",
       "            console.log([gd, 'removed!']);\n",
       "            Plotly.purge(gd);\n",
       "            observer.disconnect();\n",
       "        }}\n",
       "}});\n",
       "\n",
       "// Listen for the removal of the full notebook cells\n",
       "var notebookContainer = gd.closest('#notebook-container');\n",
       "if (notebookContainer) {{\n",
       "    x.observe(notebookContainer, {childList: true});\n",
       "}}\n",
       "\n",
       "// Listen for the clearing of the current output cell\n",
       "var outputEl = gd.closest('.output');\n",
       "if (outputEl) {{\n",
       "    x.observe(outputEl, {childList: true});\n",
       "}}\n",
       "\n",
       "                        })\n",
       "                };\n",
       "                });\n",
       "            </script>\n",
       "        </div>"
      ]
     },
     "metadata": {},
     "output_type": "display_data"
    }
   ],
   "source": [
    "import plotly.graph_objects as go\n",
    "\n",
    "fig = go.Figure()\n",
    "fig.add_trace(go.Scatter(x=np.arange(predict_test_df['predicted_y'].shape[0]), \n",
    "                         y=predict_test_df['predicted_y'],\n",
    "                         name='predicted'\n",
    "             ))\n",
    "\n",
    "fig.add_trace(go.Scatter(x=np.arange(predict_test_df['predicted_y'].shape[0]), \n",
    "                         y=predict_test_df['price'],\n",
    "                         name='test'\n",
    "                        ))\n",
    "\n",
    "fig.show()"
   ]
  },
  {
   "cell_type": "code",
   "execution_count": 199,
   "metadata": {},
   "outputs": [
    {
     "name": "stdout",
     "output_type": "stream",
     "text": [
      "Коэффициент детерминации - 0.88\n"
     ]
    }
   ],
   "source": [
    "from sklearn.metrics import r2_score\n",
    "\n",
    "r2_reg = round(r2_score(test_y_df, predicted_y_reg), 2)\n",
    "\n",
    "print('Коэффициент детерминации - %.2f' % r2_reg)"
   ]
  },
  {
   "cell_type": "markdown",
   "metadata": {},
   "source": [
    "#### 3.1.3.3 Подбор гиперпараметра "
   ]
  },
  {
   "cell_type": "code",
   "execution_count": 209,
   "metadata": {},
   "outputs": [
    {
     "data": {
      "text/plain": [
       "GridSearchCV(cv=RepeatedKFold(n_repeats=2, n_splits=3, random_state=None),\n",
       "             error_score=nan,\n",
       "             estimator=Lasso(alpha=1.0, copy_X=True, fit_intercept=True,\n",
       "                             max_iter=1000, normalize=False, positive=False,\n",
       "                             precompute=False, random_state=None,\n",
       "                             selection='cyclic', tol=0.0001, warm_start=False),\n",
       "             iid='deprecated', n_jobs=None,\n",
       "             param_grid=[{'alpha': array([0.1, 0.2, 0.3, 0.4, 0.5, 0.6, 0.7, 0.8, 0.9, 1. , 1.1])}],\n",
       "             pre_dispatch='2*n_jobs', refit=True, return_train_score=False,\n",
       "             scoring='r2', verbose=0)"
      ]
     },
     "execution_count": 209,
     "metadata": {},
     "output_type": "execute_result"
    }
   ],
   "source": [
    "from sklearn.model_selection import GridSearchCV\n",
    "from sklearn.model_selection import RepeatedKFold\n",
    "\n",
    "n_range = np.arange(0.1, 1.2, 0.1)\n",
    "tuned_parameters = [{'alpha': n_range}]\n",
    "\n",
    "gs = GridSearchCV(Lasso(),\n",
    "                      param_grid=tuned_parameters,\n",
    "                      cv=RepeatedKFold(n_splits=3, n_repeats=2), \n",
    "                      scoring='r2')\n",
    "gs.fit(train_x_df, train_y_df)"
   ]
  },
  {
   "cell_type": "markdown",
   "metadata": {},
   "source": [
    "#### 3.1.3.4 Обучение с наилучшим гиперпараметром"
   ]
  },
  {
   "cell_type": "code",
   "execution_count": 210,
   "metadata": {},
   "outputs": [],
   "source": [
    "gs.best_estimator_.fit(train_x_df, train_y_df)\n",
    "predicted_y_best_reg = gs.best_estimator_.predict(test_x_df)"
   ]
  },
  {
   "cell_type": "code",
   "execution_count": 211,
   "metadata": {},
   "outputs": [
    {
     "name": "stdout",
     "output_type": "stream",
     "text": [
      "Коэффициент детерминации при случайном гиперпараметре - 0.88\n",
      "Коэффициент детерминации при наилучшем гиперпараметре - 0.89\n"
     ]
    }
   ],
   "source": [
    "r2_reg_best = round(r2_score(test_y_df, predicted_y_best_reg), 2)\n",
    "\n",
    "print('Коэффициент детерминации при случайном гиперпараметре - %.2f' \n",
    "      % r2_reg)\n",
    "print('Коэффициент детерминации при наилучшем гиперпараметре - %.2f' \n",
    "      % r2_reg_best)"
   ]
  },
  {
   "cell_type": "markdown",
   "metadata": {},
   "source": [
    "## 3.2 SVM"
   ]
  },
  {
   "cell_type": "markdown",
   "metadata": {},
   "source": [
    "### 3.2.1 Обучение c произвольным гиперпараметром"
   ]
  },
  {
   "cell_type": "code",
   "execution_count": 156,
   "metadata": {},
   "outputs": [],
   "source": [
    "from sklearn.svm import SVR\n",
    "\n",
    "svr = SVR(kernel='linear', C=100)\n",
    "\n",
    "svr.fit(train_x_df, train_y_df)\n",
    "\n",
    "predicted_y_svr = svr.predict(test_x_df)"
   ]
  },
  {
   "cell_type": "markdown",
   "metadata": {},
   "source": [
    "### 3.2.2 Оценка качества модели "
   ]
  },
  {
   "cell_type": "code",
   "execution_count": 162,
   "metadata": {},
   "outputs": [
    {
     "name": "stdout",
     "output_type": "stream",
     "text": [
      "Коэффициент детерминации - 0.87\n"
     ]
    }
   ],
   "source": [
    "r2 = round(r2_score(test_y_df, predicted_y_svr), 2)\n",
    "\n",
    "print('Коэффициент детерминации - %.2f' % r2)"
   ]
  },
  {
   "cell_type": "markdown",
   "metadata": {},
   "source": [
    "### 3.2.3 Подбор гиперпараметра "
   ]
  },
  {
   "cell_type": "code",
   "execution_count": 158,
   "metadata": {},
   "outputs": [
    {
     "data": {
      "text/plain": [
       "GridSearchCV(cv=RepeatedKFold(n_repeats=2, n_splits=3, random_state=None),\n",
       "             error_score=nan,\n",
       "             estimator=SVR(C=1.0, cache_size=200, coef0=0.0, degree=3,\n",
       "                           epsilon=0.1, gamma='scale', kernel='linear',\n",
       "                           max_iter=-1, shrinking=True, tol=0.001,\n",
       "                           verbose=False),\n",
       "             iid='deprecated', n_jobs=None,\n",
       "             param_grid=[{'C': array([0.1, 0.2, 0.3, 0.4, 0.5, 0.6, 0.7, 0.8, 0.9])}],\n",
       "             pre_dispatch='2*n_jobs', refit=True, return_train_score=False,\n",
       "             scoring='r2', verbose=0)"
      ]
     },
     "execution_count": 158,
     "metadata": {},
     "output_type": "execute_result"
    }
   ],
   "source": [
    "from sklearn.model_selection import GridSearchCV\n",
    "from sklearn.model_selection import RepeatedKFold\n",
    "\n",
    "n_range = np.arange(0.1,1,0.1)\n",
    "tuned_parameters = [{'C': n_range}]\n",
    "\n",
    "gs = GridSearchCV(SVR(kernel='linear'),\n",
    "                      param_grid=tuned_parameters,\n",
    "                      cv=RepeatedKFold(n_splits=3, n_repeats=2), \n",
    "                      scoring='r2')\n",
    "gs.fit(train_x_df, train_y_df)"
   ]
  },
  {
   "cell_type": "code",
   "execution_count": 159,
   "metadata": {},
   "outputs": [
    {
     "data": {
      "text/plain": [
       "'Наилучшее значение параметра с - 0.9'"
      ]
     },
     "execution_count": 159,
     "metadata": {},
     "output_type": "execute_result"
    }
   ],
   "source": [
    "'Наилучшее значение параметра с - ' + str(gs.best_params_['C'])"
   ]
  },
  {
   "cell_type": "markdown",
   "metadata": {},
   "source": [
    "### 3.2.4 Обучение с наилучшим гиперпараметром "
   ]
  },
  {
   "cell_type": "code",
   "execution_count": 160,
   "metadata": {},
   "outputs": [],
   "source": [
    "gs.best_estimator_.fit(train_x_df, train_y_df)\n",
    "predicted_y_best_svr = gs.best_estimator_.predict(test_x_df)"
   ]
  },
  {
   "cell_type": "code",
   "execution_count": 164,
   "metadata": {},
   "outputs": [
    {
     "name": "stdout",
     "output_type": "stream",
     "text": [
      "Коэффициент детерминации при случайном гиперпараметре - 0.87\n",
      "Коэффициент детерминации при наилучшем гиперпараметре - 0.88\n"
     ]
    }
   ],
   "source": [
    "r2_best = round(r2_score(test_y_df, predicted_y_best_svr), 2)\n",
    "\n",
    "print('Коэффициент детерминации при случайном гиперпараметре - %.2f' % r2)\n",
    "print('Коэффициент детерминации при наилучшем гиперпараметре - %.2f' % r2_best)"
   ]
  },
  {
   "cell_type": "markdown",
   "metadata": {},
   "source": [
    "## 3.3 Дерево решений "
   ]
  },
  {
   "cell_type": "markdown",
   "metadata": {},
   "source": [
    "### 3.3.1 Обучение c произвольным гиперпараметром "
   ]
  },
  {
   "cell_type": "code",
   "execution_count": 166,
   "metadata": {},
   "outputs": [],
   "source": [
    "from sklearn.tree import DecisionTreeRegressor\n",
    "\n",
    "dtr = DecisionTreeRegressor(random_state=1).fit(train_x_df, \n",
    "                                                train_y_df)\n",
    "predict_y_dtr = dtr.predict(test_x_df)"
   ]
  },
  {
   "cell_type": "markdown",
   "metadata": {},
   "source": [
    "### 3.3.2 Оценка качества модели "
   ]
  },
  {
   "cell_type": "code",
   "execution_count": 167,
   "metadata": {},
   "outputs": [
    {
     "name": "stdout",
     "output_type": "stream",
     "text": [
      "Коэффициент детерминации при случайном гиперпараметре - 0.80\n"
     ]
    }
   ],
   "source": [
    "r2_dtr = round(r2_score(test_y_df, predict_y_dtr), 2)\n",
    "\n",
    "print('Коэффициент детерминации при случайном гиперпараметре - %.2f' % r2_dtr)"
   ]
  },
  {
   "cell_type": "markdown",
   "metadata": {},
   "source": [
    "### 3.3.3 Подбор гиперпараметра  "
   ]
  },
  {
   "cell_type": "code",
   "execution_count": 168,
   "metadata": {},
   "outputs": [
    {
     "data": {
      "text/plain": [
       "GridSearchCV(cv=3, error_score=nan,\n",
       "             estimator=DecisionTreeRegressor(ccp_alpha=0.0, criterion='mse',\n",
       "                                             max_depth=None, max_features=None,\n",
       "                                             max_leaf_nodes=None,\n",
       "                                             min_impurity_decrease=0.0,\n",
       "                                             min_impurity_split=None,\n",
       "                                             min_samples_leaf=1,\n",
       "                                             min_samples_split=2,\n",
       "                                             min_weight_fraction_leaf=0.0,\n",
       "                                             presort='deprecated',\n",
       "                                             random_state=1, splitter='best'),\n",
       "             iid='deprecated', n_jobs=-1,\n",
       "             param_grid={'max_depth': [3, 4, 5, 6],\n",
       "                         'max_features': [0.2, 0.4, 0.6, 0.8],\n",
       "                         'min_samples_leaf': [0.04, 0.06, 0.08]},\n",
       "             pre_dispatch='2*n_jobs', refit=True, return_train_score=False,\n",
       "             scoring='r2', verbose=0)"
      ]
     },
     "execution_count": 168,
     "metadata": {},
     "output_type": "execute_result"
    }
   ],
   "source": [
    "params = {\n",
    "    'max_depth': [3, 4, 5, 6],\n",
    "    'min_samples_leaf': [0.04, 0.06, 0.08],\n",
    "    'max_features': [0.2, 0.4, 0.6, 0.8]\n",
    "}\n",
    "\n",
    "grid = GridSearchCV(estimator=DecisionTreeRegressor(random_state=1),\n",
    "                    param_grid=params, scoring='r2', cv=3, n_jobs=-1)\n",
    "\n",
    "grid.fit(train_x_df, train_y_df)"
   ]
  },
  {
   "cell_type": "code",
   "execution_count": 170,
   "metadata": {},
   "outputs": [
    {
     "name": "stdout",
     "output_type": "stream",
     "text": [
      "Наилучшее значение параметра max_depth - 6\n",
      "Наилучшее значение параметра min_samples_leaf - 0.04\n",
      "Наилучшее значение параметра max_features - 0.2\n"
     ]
    }
   ],
   "source": [
    "for param in params.keys():\n",
    "    print('Наилучшее значение параметра %s - ' % param + str(grid.best_params_[param]))"
   ]
  },
  {
   "cell_type": "markdown",
   "metadata": {},
   "source": [
    "### 3.2.4 Обучение с наилучшим гиперпараметром "
   ]
  },
  {
   "cell_type": "code",
   "execution_count": 171,
   "metadata": {},
   "outputs": [],
   "source": [
    "grid.best_estimator_.fit(train_x_df, train_y_df)\n",
    "predicted_y_best_dtr = grid.best_estimator_.predict(test_x_df)"
   ]
  },
  {
   "cell_type": "code",
   "execution_count": 172,
   "metadata": {},
   "outputs": [
    {
     "name": "stdout",
     "output_type": "stream",
     "text": [
      "Коэффициент детерминации при случайном гиперпараметре - 0.80\n",
      "Коэффициент детерминации при наилучшем гиперпараметре - 0.88\n"
     ]
    }
   ],
   "source": [
    "r2_best_dtr = round(r2_score(test_y_df, predicted_y_best_svr), 2)\n",
    "\n",
    "print('Коэффициент детерминации при случайном гиперпараметре - %.2f' % \n",
    "      r2_dtr)\n",
    "print('Коэффициент детерминации при наилучшем гиперпараметре - %.2f' % \n",
    "      r2_best_dtr)"
   ]
  }
 ],
 "metadata": {
  "kernelspec": {
   "display_name": "Python 3",
   "language": "python",
   "name": "python3"
  },
  "language_info": {
   "codemirror_mode": {
    "name": "ipython",
    "version": 3
   },
   "file_extension": ".py",
   "mimetype": "text/x-python",
   "name": "python",
   "nbconvert_exporter": "python",
   "pygments_lexer": "ipython3",
   "version": "3.7.2"
  }
 },
 "nbformat": 4,
 "nbformat_minor": 2
}
