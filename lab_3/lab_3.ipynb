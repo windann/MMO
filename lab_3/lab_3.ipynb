{
 "cells": [
  {
   "cell_type": "code",
   "execution_count": 90,
   "metadata": {},
   "outputs": [],
   "source": [
    "import pandas as pd\n",
    "import numpy as np\n",
    "from sklearn.impute import SimpleImputer\n",
    "from sklearn.preprocessing import LabelEncoder, OneHotEncoder\n",
    "from sklearn.preprocessing import MinMaxScaler, StandardScaler, Normalizer"
   ]
  },
  {
   "cell_type": "code",
   "execution_count": 16,
   "metadata": {},
   "outputs": [
    {
     "data": {
      "text/html": [
       "<div>\n",
       "<style scoped>\n",
       "    .dataframe tbody tr th:only-of-type {\n",
       "        vertical-align: middle;\n",
       "    }\n",
       "\n",
       "    .dataframe tbody tr th {\n",
       "        vertical-align: top;\n",
       "    }\n",
       "\n",
       "    .dataframe thead th {\n",
       "        text-align: right;\n",
       "    }\n",
       "</style>\n",
       "<table border=\"1\" class=\"dataframe\">\n",
       "  <thead>\n",
       "    <tr style=\"text-align: right;\">\n",
       "      <th></th>\n",
       "      <th>Employee_Name</th>\n",
       "      <th>EmpID</th>\n",
       "      <th>MarriedID</th>\n",
       "      <th>MaritalStatusID</th>\n",
       "      <th>GenderID</th>\n",
       "      <th>EmpStatusID</th>\n",
       "      <th>DeptID</th>\n",
       "      <th>PerfScoreID</th>\n",
       "      <th>FromDiversityJobFairID</th>\n",
       "      <th>PayRate</th>\n",
       "      <th>...</th>\n",
       "      <th>Department</th>\n",
       "      <th>ManagerName</th>\n",
       "      <th>ManagerID</th>\n",
       "      <th>RecruitmentSource</th>\n",
       "      <th>PerformanceScore</th>\n",
       "      <th>EngagementSurvey</th>\n",
       "      <th>EmpSatisfaction</th>\n",
       "      <th>SpecialProjectsCount</th>\n",
       "      <th>LastPerformanceReview_Date</th>\n",
       "      <th>DaysLateLast30</th>\n",
       "    </tr>\n",
       "  </thead>\n",
       "  <tbody>\n",
       "    <tr>\n",
       "      <th>0</th>\n",
       "      <td>Brown, Mia</td>\n",
       "      <td>1.103024e+09</td>\n",
       "      <td>1.0</td>\n",
       "      <td>1.0</td>\n",
       "      <td>0.0</td>\n",
       "      <td>1.0</td>\n",
       "      <td>1.0</td>\n",
       "      <td>3.0</td>\n",
       "      <td>1.0</td>\n",
       "      <td>28.50</td>\n",
       "      <td>...</td>\n",
       "      <td>Admin Offices</td>\n",
       "      <td>Brandon R. LeBlanc</td>\n",
       "      <td>1.0</td>\n",
       "      <td>Diversity Job Fair</td>\n",
       "      <td>Fully Meets</td>\n",
       "      <td>2.04</td>\n",
       "      <td>2.0</td>\n",
       "      <td>6.0</td>\n",
       "      <td>1/15/2019</td>\n",
       "      <td>0.0</td>\n",
       "    </tr>\n",
       "    <tr>\n",
       "      <th>1</th>\n",
       "      <td>LaRotonda, William</td>\n",
       "      <td>1.106027e+09</td>\n",
       "      <td>0.0</td>\n",
       "      <td>2.0</td>\n",
       "      <td>1.0</td>\n",
       "      <td>1.0</td>\n",
       "      <td>1.0</td>\n",
       "      <td>3.0</td>\n",
       "      <td>0.0</td>\n",
       "      <td>23.00</td>\n",
       "      <td>...</td>\n",
       "      <td>Admin Offices</td>\n",
       "      <td>Brandon R. LeBlanc</td>\n",
       "      <td>1.0</td>\n",
       "      <td>Website Banner Ads</td>\n",
       "      <td>Fully Meets</td>\n",
       "      <td>5.00</td>\n",
       "      <td>4.0</td>\n",
       "      <td>4.0</td>\n",
       "      <td>1/17/2019</td>\n",
       "      <td>0.0</td>\n",
       "    </tr>\n",
       "    <tr>\n",
       "      <th>2</th>\n",
       "      <td>Steans, Tyrone</td>\n",
       "      <td>1.302053e+09</td>\n",
       "      <td>0.0</td>\n",
       "      <td>0.0</td>\n",
       "      <td>1.0</td>\n",
       "      <td>1.0</td>\n",
       "      <td>1.0</td>\n",
       "      <td>3.0</td>\n",
       "      <td>0.0</td>\n",
       "      <td>29.00</td>\n",
       "      <td>...</td>\n",
       "      <td>Admin Offices</td>\n",
       "      <td>Brandon R. LeBlanc</td>\n",
       "      <td>1.0</td>\n",
       "      <td>Internet Search</td>\n",
       "      <td>Fully Meets</td>\n",
       "      <td>3.90</td>\n",
       "      <td>5.0</td>\n",
       "      <td>5.0</td>\n",
       "      <td>1/18/2019</td>\n",
       "      <td>0.0</td>\n",
       "    </tr>\n",
       "    <tr>\n",
       "      <th>3</th>\n",
       "      <td>Howard, Estelle</td>\n",
       "      <td>1.211051e+09</td>\n",
       "      <td>1.0</td>\n",
       "      <td>1.0</td>\n",
       "      <td>0.0</td>\n",
       "      <td>1.0</td>\n",
       "      <td>1.0</td>\n",
       "      <td>3.0</td>\n",
       "      <td>0.0</td>\n",
       "      <td>21.50</td>\n",
       "      <td>...</td>\n",
       "      <td>Admin Offices</td>\n",
       "      <td>Brandon R. LeBlanc</td>\n",
       "      <td>1.0</td>\n",
       "      <td>Pay Per Click - Google</td>\n",
       "      <td>Fully Meets</td>\n",
       "      <td>3.24</td>\n",
       "      <td>3.0</td>\n",
       "      <td>4.0</td>\n",
       "      <td>NaN</td>\n",
       "      <td>NaN</td>\n",
       "    </tr>\n",
       "    <tr>\n",
       "      <th>4</th>\n",
       "      <td>Singh, Nan</td>\n",
       "      <td>1.307060e+09</td>\n",
       "      <td>0.0</td>\n",
       "      <td>0.0</td>\n",
       "      <td>0.0</td>\n",
       "      <td>1.0</td>\n",
       "      <td>1.0</td>\n",
       "      <td>3.0</td>\n",
       "      <td>0.0</td>\n",
       "      <td>16.56</td>\n",
       "      <td>...</td>\n",
       "      <td>Admin Offices</td>\n",
       "      <td>Brandon R. LeBlanc</td>\n",
       "      <td>1.0</td>\n",
       "      <td>Website Banner Ads</td>\n",
       "      <td>Fully Meets</td>\n",
       "      <td>5.00</td>\n",
       "      <td>3.0</td>\n",
       "      <td>5.0</td>\n",
       "      <td>1/15/2019</td>\n",
       "      <td>0.0</td>\n",
       "    </tr>\n",
       "  </tbody>\n",
       "</table>\n",
       "<p>5 rows × 35 columns</p>\n",
       "</div>"
      ],
      "text/plain": [
       "          Employee_Name         EmpID  MarriedID  MaritalStatusID  GenderID  \\\n",
       "0            Brown, Mia  1.103024e+09        1.0              1.0       0.0   \n",
       "1  LaRotonda, William    1.106027e+09        0.0              2.0       1.0   \n",
       "2      Steans, Tyrone    1.302053e+09        0.0              0.0       1.0   \n",
       "3       Howard, Estelle  1.211051e+09        1.0              1.0       0.0   \n",
       "4           Singh, Nan   1.307060e+09        0.0              0.0       0.0   \n",
       "\n",
       "   EmpStatusID  DeptID  PerfScoreID  FromDiversityJobFairID  PayRate  ...  \\\n",
       "0          1.0     1.0          3.0                     1.0    28.50  ...   \n",
       "1          1.0     1.0          3.0                     0.0    23.00  ...   \n",
       "2          1.0     1.0          3.0                     0.0    29.00  ...   \n",
       "3          1.0     1.0          3.0                     0.0    21.50  ...   \n",
       "4          1.0     1.0          3.0                     0.0    16.56  ...   \n",
       "\n",
       "      Department         ManagerName ManagerID       RecruitmentSource  \\\n",
       "0  Admin Offices  Brandon R. LeBlanc       1.0      Diversity Job Fair   \n",
       "1  Admin Offices  Brandon R. LeBlanc       1.0      Website Banner Ads   \n",
       "2  Admin Offices  Brandon R. LeBlanc       1.0         Internet Search   \n",
       "3  Admin Offices  Brandon R. LeBlanc       1.0  Pay Per Click - Google   \n",
       "4  Admin Offices  Brandon R. LeBlanc       1.0      Website Banner Ads   \n",
       "\n",
       "   PerformanceScore EngagementSurvey EmpSatisfaction SpecialProjectsCount  \\\n",
       "0       Fully Meets             2.04             2.0                  6.0   \n",
       "1       Fully Meets             5.00             4.0                  4.0   \n",
       "2       Fully Meets             3.90             5.0                  5.0   \n",
       "3       Fully Meets             3.24             3.0                  4.0   \n",
       "4       Fully Meets             5.00             3.0                  5.0   \n",
       "\n",
       "  LastPerformanceReview_Date DaysLateLast30  \n",
       "0                  1/15/2019            0.0  \n",
       "1                  1/17/2019            0.0  \n",
       "2                  1/18/2019            0.0  \n",
       "3                        NaN            NaN  \n",
       "4                  1/15/2019            0.0  \n",
       "\n",
       "[5 rows x 35 columns]"
      ]
     },
     "execution_count": 16,
     "metadata": {},
     "output_type": "execute_result"
    }
   ],
   "source": [
    "df = pd.read_csv('HRDataset_v13.csv')\n",
    "df.head()"
   ]
  },
  {
   "cell_type": "code",
   "execution_count": 17,
   "metadata": {},
   "outputs": [
    {
     "name": "stdout",
     "output_type": "stream",
     "text": [
      "Данный датасет содержит 401 строк и 35 столбца.\n"
     ]
    }
   ],
   "source": [
    "row_number = df.shape[0]\n",
    "column_number = df.shape[1]\n",
    "\n",
    "print('Данный датасет содержит {} строк и {} столбца.'.format(row_number, column_number))"
   ]
  },
  {
   "attachments": {},
   "cell_type": "markdown",
   "metadata": {},
   "source": [
    "# 1. Обработка пропусков в данных"
   ]
  },
  {
   "cell_type": "code",
   "execution_count": 18,
   "metadata": {},
   "outputs": [
    {
     "name": "stdout",
     "output_type": "stream",
     "text": [
      "Employee_Name - 91 - 22.693. Тип - object\n",
      "EmpID - 91 - 22.693. Тип - float64\n",
      "MarriedID - 91 - 22.693. Тип - float64\n",
      "MaritalStatusID - 91 - 22.693. Тип - float64\n",
      "GenderID - 91 - 22.693. Тип - float64\n",
      "EmpStatusID - 91 - 22.693. Тип - float64\n",
      "DeptID - 91 - 22.693. Тип - float64\n",
      "PerfScoreID - 91 - 22.693. Тип - float64\n",
      "FromDiversityJobFairID - 91 - 22.693. Тип - float64\n",
      "PayRate - 91 - 22.693. Тип - float64\n",
      "Termd - 91 - 22.693. Тип - float64\n",
      "PositionID - 91 - 22.693. Тип - float64\n",
      "Position - 91 - 22.693. Тип - object\n",
      "State - 91 - 22.693. Тип - object\n",
      "Zip - 91 - 22.693. Тип - float64\n",
      "DOB - 91 - 22.693. Тип - object\n",
      "Sex - 91 - 22.693. Тип - object\n",
      "MaritalDesc - 91 - 22.693. Тип - object\n",
      "CitizenDesc - 91 - 22.693. Тип - object\n",
      "HispanicLatino - 91 - 22.693. Тип - object\n",
      "RaceDesc - 91 - 22.693. Тип - object\n",
      "DateofHire - 91 - 22.693. Тип - object\n",
      "DateofTermination - 298 - 74.314. Тип - object\n",
      "TermReason - 92 - 22.943. Тип - object\n",
      "EmploymentStatus - 91 - 22.693. Тип - object\n",
      "Department - 91 - 22.693. Тип - object\n",
      "ManagerName - 91 - 22.693. Тип - object\n",
      "ManagerID - 99 - 24.688. Тип - float64\n",
      "RecruitmentSource - 91 - 22.693. Тип - object\n",
      "PerformanceScore - 91 - 22.693. Тип - object\n",
      "EngagementSurvey - 91 - 22.693. Тип - float64\n",
      "EmpSatisfaction - 91 - 22.693. Тип - float64\n",
      "SpecialProjectsCount - 91 - 22.693. Тип - float64\n",
      "LastPerformanceReview_Date - 194 - 48.379. Тип - object\n",
      "DaysLateLast30 - 194 - 48.379. Тип - float64\n"
     ]
    }
   ],
   "source": [
    "for col in df.columns:\n",
    "    null_count = df[df[col].isnull()].shape[0]\n",
    "    if null_count > 0:\n",
    "        column_type = df[col].dtype\n",
    "        percent = round((null_count / row_number) * 100, 3)\n",
    "        print('{} - {} - {}. Тип - {}'.format(col, null_count, percent, column_type))"
   ]
  },
  {
   "cell_type": "markdown",
   "metadata": {},
   "source": [
    "## 1.1 Удаление пустых значений "
   ]
  },
  {
   "cell_type": "code",
   "execution_count": 19,
   "metadata": {},
   "outputs": [],
   "source": [
    "# удаление строк с пустыми значениями Employee_Name\n",
    "df = df[df['Employee_Name'].notna()]\n",
    "\n",
    "# удаление столбца company\n",
    "df.drop(columns=['LastPerformanceReview_Date'], inplace=True)"
   ]
  },
  {
   "cell_type": "code",
   "execution_count": 21,
   "metadata": {},
   "outputs": [
    {
     "name": "stdout",
     "output_type": "stream",
     "text": [
      "Данный датасет содержит 310 строк и 34 столбца.\n"
     ]
    }
   ],
   "source": [
    "row_number = df.shape[0]\n",
    "column_number = df.shape[1]\n",
    "\n",
    "print('Данный датасет содержит {} строк и {} столбца.'.format(row_number, column_number))"
   ]
  },
  {
   "cell_type": "markdown",
   "metadata": {},
   "source": [
    "## 1.2 Заполнение нулями"
   ]
  },
  {
   "cell_type": "code",
   "execution_count": 22,
   "metadata": {},
   "outputs": [],
   "source": [
    "df['DaysLateLast30'] = df['DaysLateLast30'].fillna(0)"
   ]
  },
  {
   "cell_type": "code",
   "execution_count": 58,
   "metadata": {},
   "outputs": [
    {
     "data": {
      "text/plain": [
       "(0, 34)"
      ]
     },
     "execution_count": 58,
     "metadata": {},
     "output_type": "execute_result"
    }
   ],
   "source": [
    "df[df['DaysLateLast30'].isnull()].shape"
   ]
  },
  {
   "cell_type": "markdown",
   "metadata": {},
   "source": [
    "## 1.3 Внедрение значений в числовых данных "
   ]
  },
  {
   "cell_type": "code",
   "execution_count": 97,
   "metadata": {},
   "outputs": [
    {
     "data": {
      "text/html": [
       "<div>\n",
       "<style scoped>\n",
       "    .dataframe tbody tr th:only-of-type {\n",
       "        vertical-align: middle;\n",
       "    }\n",
       "\n",
       "    .dataframe tbody tr th {\n",
       "        vertical-align: top;\n",
       "    }\n",
       "\n",
       "    .dataframe thead th {\n",
       "        text-align: right;\n",
       "    }\n",
       "</style>\n",
       "<table border=\"1\" class=\"dataframe\">\n",
       "  <thead>\n",
       "    <tr style=\"text-align: right;\">\n",
       "      <th></th>\n",
       "      <th>business_id</th>\n",
       "      <th>business_name</th>\n",
       "      <th>business_address</th>\n",
       "      <th>business_city</th>\n",
       "      <th>business_state</th>\n",
       "      <th>business_postal_code</th>\n",
       "      <th>business_latitude</th>\n",
       "      <th>business_longitude</th>\n",
       "      <th>business_location</th>\n",
       "      <th>business_phone_number</th>\n",
       "      <th>inspection_id</th>\n",
       "      <th>inspection_date</th>\n",
       "      <th>inspection_score</th>\n",
       "      <th>inspection_type</th>\n",
       "      <th>violation_id</th>\n",
       "      <th>violation_description</th>\n",
       "      <th>risk_category</th>\n",
       "    </tr>\n",
       "  </thead>\n",
       "  <tbody>\n",
       "    <tr>\n",
       "      <th>0</th>\n",
       "      <td>69618</td>\n",
       "      <td>Fancy Wheatfield Bakery</td>\n",
       "      <td>1362 Stockton St</td>\n",
       "      <td>San Francisco</td>\n",
       "      <td>CA</td>\n",
       "      <td>94133</td>\n",
       "      <td>NaN</td>\n",
       "      <td>NaN</td>\n",
       "      <td>NaN</td>\n",
       "      <td>NaN</td>\n",
       "      <td>69618_20190304</td>\n",
       "      <td>2019-03-04T00:00:00.000</td>\n",
       "      <td>NaN</td>\n",
       "      <td>Complaint</td>\n",
       "      <td>69618_20190304_103130</td>\n",
       "      <td>Inadequate sewage or wastewater disposal</td>\n",
       "      <td>Moderate Risk</td>\n",
       "    </tr>\n",
       "    <tr>\n",
       "      <th>1</th>\n",
       "      <td>97975</td>\n",
       "      <td>BREADBELLY</td>\n",
       "      <td>1408 Clement St</td>\n",
       "      <td>San Francisco</td>\n",
       "      <td>CA</td>\n",
       "      <td>94118</td>\n",
       "      <td>NaN</td>\n",
       "      <td>NaN</td>\n",
       "      <td>NaN</td>\n",
       "      <td>1.415724e+10</td>\n",
       "      <td>97975_20190725</td>\n",
       "      <td>2019-07-25T00:00:00.000</td>\n",
       "      <td>96.0</td>\n",
       "      <td>Routine - Unscheduled</td>\n",
       "      <td>97975_20190725_103124</td>\n",
       "      <td>Inadequately cleaned or sanitized food contact...</td>\n",
       "      <td>Moderate Risk</td>\n",
       "    </tr>\n",
       "    <tr>\n",
       "      <th>2</th>\n",
       "      <td>69487</td>\n",
       "      <td>Hakkasan San Francisco</td>\n",
       "      <td>1 Kearny St</td>\n",
       "      <td>San Francisco</td>\n",
       "      <td>CA</td>\n",
       "      <td>94108</td>\n",
       "      <td>NaN</td>\n",
       "      <td>NaN</td>\n",
       "      <td>NaN</td>\n",
       "      <td>NaN</td>\n",
       "      <td>69487_20180418</td>\n",
       "      <td>2018-04-18T00:00:00.000</td>\n",
       "      <td>88.0</td>\n",
       "      <td>Routine - Unscheduled</td>\n",
       "      <td>69487_20180418_103119</td>\n",
       "      <td>Inadequate and inaccessible handwashing facili...</td>\n",
       "      <td>Moderate Risk</td>\n",
       "    </tr>\n",
       "    <tr>\n",
       "      <th>3</th>\n",
       "      <td>91044</td>\n",
       "      <td>Chopsticks Restaurant</td>\n",
       "      <td>4615 Mission St</td>\n",
       "      <td>San Francisco</td>\n",
       "      <td>CA</td>\n",
       "      <td>94112</td>\n",
       "      <td>NaN</td>\n",
       "      <td>NaN</td>\n",
       "      <td>NaN</td>\n",
       "      <td>NaN</td>\n",
       "      <td>91044_20170818</td>\n",
       "      <td>2017-08-18T00:00:00.000</td>\n",
       "      <td>NaN</td>\n",
       "      <td>Non-inspection site visit</td>\n",
       "      <td>NaN</td>\n",
       "      <td>NaN</td>\n",
       "      <td>NaN</td>\n",
       "    </tr>\n",
       "    <tr>\n",
       "      <th>4</th>\n",
       "      <td>85987</td>\n",
       "      <td>Tselogs</td>\n",
       "      <td>552 Jones St</td>\n",
       "      <td>San Francisco</td>\n",
       "      <td>CA</td>\n",
       "      <td>94102</td>\n",
       "      <td>NaN</td>\n",
       "      <td>NaN</td>\n",
       "      <td>NaN</td>\n",
       "      <td>NaN</td>\n",
       "      <td>85987_20180412</td>\n",
       "      <td>2018-04-12T00:00:00.000</td>\n",
       "      <td>94.0</td>\n",
       "      <td>Routine - Unscheduled</td>\n",
       "      <td>85987_20180412_103132</td>\n",
       "      <td>Improper thawing methods</td>\n",
       "      <td>Moderate Risk</td>\n",
       "    </tr>\n",
       "  </tbody>\n",
       "</table>\n",
       "</div>"
      ],
      "text/plain": [
       "   business_id            business_name  business_address  business_city  \\\n",
       "0        69618  Fancy Wheatfield Bakery  1362 Stockton St  San Francisco   \n",
       "1        97975               BREADBELLY   1408 Clement St  San Francisco   \n",
       "2        69487   Hakkasan San Francisco       1 Kearny St  San Francisco   \n",
       "3        91044    Chopsticks Restaurant   4615 Mission St  San Francisco   \n",
       "4        85987                  Tselogs      552 Jones St  San Francisco   \n",
       "\n",
       "  business_state business_postal_code  business_latitude  business_longitude  \\\n",
       "0             CA                94133                NaN                 NaN   \n",
       "1             CA                94118                NaN                 NaN   \n",
       "2             CA                94108                NaN                 NaN   \n",
       "3             CA                94112                NaN                 NaN   \n",
       "4             CA                94102                NaN                 NaN   \n",
       "\n",
       "  business_location  business_phone_number   inspection_id  \\\n",
       "0               NaN                    NaN  69618_20190304   \n",
       "1               NaN           1.415724e+10  97975_20190725   \n",
       "2               NaN                    NaN  69487_20180418   \n",
       "3               NaN                    NaN  91044_20170818   \n",
       "4               NaN                    NaN  85987_20180412   \n",
       "\n",
       "           inspection_date  inspection_score            inspection_type  \\\n",
       "0  2019-03-04T00:00:00.000               NaN                  Complaint   \n",
       "1  2019-07-25T00:00:00.000              96.0      Routine - Unscheduled   \n",
       "2  2018-04-18T00:00:00.000              88.0      Routine - Unscheduled   \n",
       "3  2017-08-18T00:00:00.000               NaN  Non-inspection site visit   \n",
       "4  2018-04-12T00:00:00.000              94.0      Routine - Unscheduled   \n",
       "\n",
       "            violation_id                              violation_description  \\\n",
       "0  69618_20190304_103130           Inadequate sewage or wastewater disposal   \n",
       "1  97975_20190725_103124  Inadequately cleaned or sanitized food contact...   \n",
       "2  69487_20180418_103119  Inadequate and inaccessible handwashing facili...   \n",
       "3                    NaN                                                NaN   \n",
       "4  85987_20180412_103132                           Improper thawing methods   \n",
       "\n",
       "   risk_category  \n",
       "0  Moderate Risk  \n",
       "1  Moderate Risk  \n",
       "2  Moderate Risk  \n",
       "3            NaN  \n",
       "4  Moderate Risk  "
      ]
     },
     "execution_count": 97,
     "metadata": {},
     "output_type": "execute_result"
    }
   ],
   "source": [
    "df_2 = pd.read_csv('restaurant-scores-lives-standard.csv')\n",
    "df_2.head()"
   ]
  },
  {
   "cell_type": "code",
   "execution_count": 104,
   "metadata": {},
   "outputs": [
    {
     "name": "stdout",
     "output_type": "stream",
     "text": [
      "Данный датасет содержит 10692 строк и 13 столбца.\n"
     ]
    }
   ],
   "source": [
    "row_number_2 = df_2.shape[0]\n",
    "column_number_2 = df_2.shape[1]\n",
    "\n",
    "print('Данный датасет содержит {} строк и {} столбца.'.format(row_number, column_number))"
   ]
  },
  {
   "cell_type": "code",
   "execution_count": 105,
   "metadata": {},
   "outputs": [
    {
     "name": "stdout",
     "output_type": "stream",
     "text": [
      "business_postal_code - 1083 - 2.007. Тип - object\n",
      "business_latitude - 24095 - 44.643. Тип - float64\n",
      "business_longitude - 24095 - 44.643. Тип - float64\n",
      "business_location - 24095 - 44.643. Тип - object\n",
      "business_phone_number - 36539 - 67.699. Тип - float64\n",
      "inspection_score - 14114 - 26.15. Тип - float64\n",
      "violation_id - 13462 - 24.942. Тип - object\n",
      "violation_description - 13462 - 24.942. Тип - object\n",
      "risk_category - 13462 - 24.942. Тип - object\n",
      "inspection_score_MinMax - 14114 - 26.15. Тип - float64\n",
      "inspection_score_Z - 14114 - 26.15. Тип - float64\n"
     ]
    }
   ],
   "source": [
    "for col in df_2.columns:\n",
    "    null_count = df_2[df_2[col].isnull()].shape[0]\n",
    "    if null_count > 0:\n",
    "        column_type = df_2[col].dtype\n",
    "        percent = round((null_count / row_number_2) * 100, 3)\n",
    "        print('{} - {} - {}. Тип - {}'.format(col, null_count, percent, column_type))"
   ]
  },
  {
   "cell_type": "code",
   "execution_count": 106,
   "metadata": {},
   "outputs": [
    {
     "data": {
      "text/plain": [
       "<matplotlib.axes._subplots.AxesSubplot at 0x1205d4320>"
      ]
     },
     "execution_count": 106,
     "metadata": {},
     "output_type": "execute_result"
    },
    {
     "data": {
      "image/png": "[encoded data removed]",
      "text/plain": [
       "<Figure size 432x288 with 1 Axes>"
      ]
     },
     "metadata": {
      "needs_background": "light"
     },
     "output_type": "display_data"
    }
   ],
   "source": [
    "df_2['inspection_score'].plot.hist()"
   ]
  },
  {
   "cell_type": "code",
   "execution_count": 107,
   "metadata": {},
   "outputs": [
    {
     "data": {
      "text/plain": [
       "count    39859.000000\n",
       "mean        86.235254\n",
       "std          8.480003\n",
       "min         45.000000\n",
       "25%         81.000000\n",
       "50%         88.000000\n",
       "75%         92.000000\n",
       "max        100.000000\n",
       "Name: inspection_score, dtype: float64"
      ]
     },
     "execution_count": 107,
     "metadata": {},
     "output_type": "execute_result"
    }
   ],
   "source": [
    "df_2['inspection_score'].describe()"
   ]
  },
  {
   "cell_type": "code",
   "execution_count": 108,
   "metadata": {},
   "outputs": [],
   "source": [
    "mode = df_2['inspection_score'].mode()[0]"
   ]
  },
  {
   "cell_type": "code",
   "execution_count": 109,
   "metadata": {},
   "outputs": [
    {
     "data": {
      "text/plain": [
       "7.025735089767106"
      ]
     },
     "execution_count": 109,
     "metadata": {},
     "output_type": "execute_result"
    }
   ],
   "source": [
    "(df_2[df_2['inspection_score'] == mode].shape[0]/row_number_2) * 100"
   ]
  },
  {
   "cell_type": "code",
   "execution_count": 110,
   "metadata": {},
   "outputs": [
    {
     "data": {
      "text/plain": [
       "4.861690104311415"
      ]
     },
     "execution_count": 110,
     "metadata": {},
     "output_type": "execute_result"
    }
   ],
   "source": [
    "median = df_2['inspection_score'].describe()['50%']\n",
    "(df_2[df_2['inspection_score'] == median].shape[0]/row_number_2) * 100"
   ]
  },
  {
   "cell_type": "code",
   "execution_count": 111,
   "metadata": {},
   "outputs": [],
   "source": [
    "imp = SimpleImputer(strategy='most_frequent')\n",
    "df_2['inspection_score'] = imp.fit_transform(df_2[['inspection_score']])"
   ]
  },
  {
   "cell_type": "code",
   "execution_count": 112,
   "metadata": {},
   "outputs": [
    {
     "data": {
      "text/plain": [
       "(0, 19)"
      ]
     },
     "execution_count": 112,
     "metadata": {},
     "output_type": "execute_result"
    }
   ],
   "source": [
    "df_2[df_2['inspection_score'].isnull()].shape"
   ]
  },
  {
   "cell_type": "markdown",
   "metadata": {},
   "source": [
    "## 1.4 Внедрение значений в категориальных данных"
   ]
  },
  {
   "cell_type": "code",
   "execution_count": 27,
   "metadata": {},
   "outputs": [],
   "source": [
    "imp = SimpleImputer(strategy='most_frequent')\n",
    "df['ManagerID'] = imp.fit_transform(df[['ManagerID']])"
   ]
  },
  {
   "cell_type": "code",
   "execution_count": 57,
   "metadata": {},
   "outputs": [
    {
     "data": {
      "text/plain": [
       "(0, 34)"
      ]
     },
     "execution_count": 57,
     "metadata": {},
     "output_type": "execute_result"
    }
   ],
   "source": [
    "df[df['ManagerID'].isnull()].shape"
   ]
  },
  {
   "cell_type": "markdown",
   "metadata": {},
   "source": [
    "# 2. Кодирование категориальных признаков"
   ]
  },
  {
   "cell_type": "code",
   "execution_count": 62,
   "metadata": {},
   "outputs": [
    {
     "name": "stdout",
     "output_type": "stream",
     "text": [
      "Employee_Name\n",
      "Position\n",
      "State\n",
      "DOB\n",
      "Sex\n",
      "MaritalDesc\n",
      "CitizenDesc\n",
      "HispanicLatino\n",
      "RaceDesc\n",
      "DateofHire\n",
      "DateofTermination\n",
      "TermReason\n",
      "EmploymentStatus\n",
      "Department\n",
      "ManagerName\n",
      "RecruitmentSource\n",
      "PerformanceScore\n"
     ]
    }
   ],
   "source": [
    "for col in df.columns:\n",
    "    column_type = df[col].dtype\n",
    "    if column_type == 'object':\n",
    "        print(col)"
   ]
  },
  {
   "cell_type": "markdown",
   "metadata": {},
   "source": [
    "## 2.1 Кодирование категорий целочисленными значениями"
   ]
  },
  {
   "cell_type": "code",
   "execution_count": 64,
   "metadata": {},
   "outputs": [
    {
     "data": {
      "text/plain": [
       "array(['F', 'M '], dtype=object)"
      ]
     },
     "execution_count": 64,
     "metadata": {},
     "output_type": "execute_result"
    }
   ],
   "source": [
    "df['Sex'].unique()"
   ]
  },
  {
   "cell_type": "code",
   "execution_count": 74,
   "metadata": {},
   "outputs": [],
   "source": [
    "le = LabelEncoder()\n",
    "df['Sex_LabelEncoder'] = le.fit_transform(df['Sex'])"
   ]
  },
  {
   "cell_type": "code",
   "execution_count": 69,
   "metadata": {},
   "outputs": [
    {
     "data": {
      "text/plain": [
       "array([0, 1])"
      ]
     },
     "execution_count": 69,
     "metadata": {},
     "output_type": "execute_result"
    }
   ],
   "source": [
    "np.unique(cat_enc_le)"
   ]
  },
  {
   "cell_type": "code",
   "execution_count": 71,
   "metadata": {},
   "outputs": [
    {
     "data": {
      "text/plain": [
       "array(['F', 'M '], dtype=object)"
      ]
     },
     "execution_count": 71,
     "metadata": {},
     "output_type": "execute_result"
    }
   ],
   "source": [
    "le.inverse_transform([0, 1])"
   ]
  },
  {
   "cell_type": "code",
   "execution_count": 75,
   "metadata": {},
   "outputs": [
    {
     "data": {
      "text/html": [
       "<div>\n",
       "<style scoped>\n",
       "    .dataframe tbody tr th:only-of-type {\n",
       "        vertical-align: middle;\n",
       "    }\n",
       "\n",
       "    .dataframe tbody tr th {\n",
       "        vertical-align: top;\n",
       "    }\n",
       "\n",
       "    .dataframe thead th {\n",
       "        text-align: right;\n",
       "    }\n",
       "</style>\n",
       "<table border=\"1\" class=\"dataframe\">\n",
       "  <thead>\n",
       "    <tr style=\"text-align: right;\">\n",
       "      <th></th>\n",
       "      <th>Sex</th>\n",
       "      <th>Sex_LabelEncoder</th>\n",
       "    </tr>\n",
       "  </thead>\n",
       "  <tbody>\n",
       "    <tr>\n",
       "      <th>0</th>\n",
       "      <td>F</td>\n",
       "      <td>0</td>\n",
       "    </tr>\n",
       "    <tr>\n",
       "      <th>1</th>\n",
       "      <td>M</td>\n",
       "      <td>1</td>\n",
       "    </tr>\n",
       "    <tr>\n",
       "      <th>2</th>\n",
       "      <td>M</td>\n",
       "      <td>1</td>\n",
       "    </tr>\n",
       "    <tr>\n",
       "      <th>3</th>\n",
       "      <td>F</td>\n",
       "      <td>0</td>\n",
       "    </tr>\n",
       "    <tr>\n",
       "      <th>4</th>\n",
       "      <td>F</td>\n",
       "      <td>0</td>\n",
       "    </tr>\n",
       "  </tbody>\n",
       "</table>\n",
       "</div>"
      ],
      "text/plain": [
       "  Sex  Sex_LabelEncoder\n",
       "0   F                 0\n",
       "1  M                  1\n",
       "2  M                  1\n",
       "3   F                 0\n",
       "4   F                 0"
      ]
     },
     "execution_count": 75,
     "metadata": {},
     "output_type": "execute_result"
    }
   ],
   "source": [
    "df[['Sex','Sex_LabelEncoder']].head()"
   ]
  },
  {
   "cell_type": "markdown",
   "metadata": {},
   "source": [
    "## 2.2. Кодирование категорий наборами бинарных значений "
   ]
  },
  {
   "cell_type": "code",
   "execution_count": 76,
   "metadata": {},
   "outputs": [
    {
     "data": {
      "text/plain": [
       "array(['Accountant I', 'Administrative Assistant', 'Area Sales Manager',\n",
       "       'BI Developer', 'BI Director', 'CIO', 'Data Architect',\n",
       "       'Database Administrator', 'Data Analyst', 'Data Analyst ',\n",
       "       'Director of Operations', 'Director of Sales', 'IT Director',\n",
       "       'IT Manager - DB', 'IT Manager - Infra', 'IT Manager - Support',\n",
       "       'IT Support', 'Network Engineer', 'President & CEO',\n",
       "       'Production Manager', 'Production Technician I',\n",
       "       'Production Technician II', 'Sales Manager', 'Senior BI Developer',\n",
       "       'Shared Services Manager', 'Software Engineer',\n",
       "       'Software Engineering Manager', 'Sr. Accountant', 'Sr. DBA',\n",
       "       'Enterprise Architect', 'Principal Data Architect',\n",
       "       'Sr. Network Engineer'], dtype=object)"
      ]
     },
     "execution_count": 76,
     "metadata": {},
     "output_type": "execute_result"
    }
   ],
   "source": [
    "df['Position'].unique()"
   ]
  },
  {
   "cell_type": "code",
   "execution_count": 82,
   "metadata": {},
   "outputs": [],
   "source": [
    "ohe = OneHotEncoder()\n",
    "transformed_data = ohe.fit_transform(df[['Position']])"
   ]
  },
  {
   "cell_type": "code",
   "execution_count": 83,
   "metadata": {},
   "outputs": [
    {
     "data": {
      "text/plain": [
       "(310, 32)"
      ]
     },
     "execution_count": 83,
     "metadata": {},
     "output_type": "execute_result"
    }
   ],
   "source": [
    "transformed_data.shape"
   ]
  },
  {
   "cell_type": "code",
   "execution_count": 85,
   "metadata": {},
   "outputs": [
    {
     "data": {
      "text/plain": [
       "matrix([[1., 0., 0., 0., 0., 0., 0., 0., 0., 0., 0., 0., 0., 0., 0., 0.,\n",
       "         0., 0., 0., 0., 0., 0., 0., 0., 0., 0., 0., 0., 0., 0., 0., 0.],\n",
       "        [1., 0., 0., 0., 0., 0., 0., 0., 0., 0., 0., 0., 0., 0., 0., 0.,\n",
       "         0., 0., 0., 0., 0., 0., 0., 0., 0., 0., 0., 0., 0., 0., 0., 0.],\n",
       "        [1., 0., 0., 0., 0., 0., 0., 0., 0., 0., 0., 0., 0., 0., 0., 0.,\n",
       "         0., 0., 0., 0., 0., 0., 0., 0., 0., 0., 0., 0., 0., 0., 0., 0.],\n",
       "        [0., 1., 0., 0., 0., 0., 0., 0., 0., 0., 0., 0., 0., 0., 0., 0.,\n",
       "         0., 0., 0., 0., 0., 0., 0., 0., 0., 0., 0., 0., 0., 0., 0., 0.],\n",
       "        [0., 1., 0., 0., 0., 0., 0., 0., 0., 0., 0., 0., 0., 0., 0., 0.,\n",
       "         0., 0., 0., 0., 0., 0., 0., 0., 0., 0., 0., 0., 0., 0., 0., 0.],\n",
       "        [0., 1., 0., 0., 0., 0., 0., 0., 0., 0., 0., 0., 0., 0., 0., 0.,\n",
       "         0., 0., 0., 0., 0., 0., 0., 0., 0., 0., 0., 0., 0., 0., 0., 0.],\n",
       "        [0., 0., 1., 0., 0., 0., 0., 0., 0., 0., 0., 0., 0., 0., 0., 0.,\n",
       "         0., 0., 0., 0., 0., 0., 0., 0., 0., 0., 0., 0., 0., 0., 0., 0.],\n",
       "        [0., 0., 1., 0., 0., 0., 0., 0., 0., 0., 0., 0., 0., 0., 0., 0.,\n",
       "         0., 0., 0., 0., 0., 0., 0., 0., 0., 0., 0., 0., 0., 0., 0., 0.],\n",
       "        [0., 0., 1., 0., 0., 0., 0., 0., 0., 0., 0., 0., 0., 0., 0., 0.,\n",
       "         0., 0., 0., 0., 0., 0., 0., 0., 0., 0., 0., 0., 0., 0., 0., 0.],\n",
       "        [0., 0., 1., 0., 0., 0., 0., 0., 0., 0., 0., 0., 0., 0., 0., 0.,\n",
       "         0., 0., 0., 0., 0., 0., 0., 0., 0., 0., 0., 0., 0., 0., 0., 0.]])"
      ]
     },
     "execution_count": 85,
     "metadata": {},
     "output_type": "execute_result"
    }
   ],
   "source": [
    "transformed_data.todense()[0:10]"
   ]
  },
  {
   "cell_type": "markdown",
   "metadata": {},
   "source": [
    "## 2.3 Pandas get_dummies"
   ]
  },
  {
   "cell_type": "code",
   "execution_count": 86,
   "metadata": {},
   "outputs": [
    {
     "data": {
      "text/html": [
       "<div>\n",
       "<style scoped>\n",
       "    .dataframe tbody tr th:only-of-type {\n",
       "        vertical-align: middle;\n",
       "    }\n",
       "\n",
       "    .dataframe tbody tr th {\n",
       "        vertical-align: top;\n",
       "    }\n",
       "\n",
       "    .dataframe thead th {\n",
       "        text-align: right;\n",
       "    }\n",
       "</style>\n",
       "<table border=\"1\" class=\"dataframe\">\n",
       "  <thead>\n",
       "    <tr style=\"text-align: right;\">\n",
       "      <th></th>\n",
       "      <th>Accountant I</th>\n",
       "      <th>Administrative Assistant</th>\n",
       "      <th>Area Sales Manager</th>\n",
       "      <th>BI Developer</th>\n",
       "      <th>BI Director</th>\n",
       "      <th>CIO</th>\n",
       "      <th>Data Analyst</th>\n",
       "      <th>Data Analyst</th>\n",
       "      <th>Data Architect</th>\n",
       "      <th>Database Administrator</th>\n",
       "      <th>...</th>\n",
       "      <th>Production Technician I</th>\n",
       "      <th>Production Technician II</th>\n",
       "      <th>Sales Manager</th>\n",
       "      <th>Senior BI Developer</th>\n",
       "      <th>Shared Services Manager</th>\n",
       "      <th>Software Engineer</th>\n",
       "      <th>Software Engineering Manager</th>\n",
       "      <th>Sr. Accountant</th>\n",
       "      <th>Sr. DBA</th>\n",
       "      <th>Sr. Network Engineer</th>\n",
       "    </tr>\n",
       "  </thead>\n",
       "  <tbody>\n",
       "    <tr>\n",
       "      <th>0</th>\n",
       "      <td>1</td>\n",
       "      <td>0</td>\n",
       "      <td>0</td>\n",
       "      <td>0</td>\n",
       "      <td>0</td>\n",
       "      <td>0</td>\n",
       "      <td>0</td>\n",
       "      <td>0</td>\n",
       "      <td>0</td>\n",
       "      <td>0</td>\n",
       "      <td>...</td>\n",
       "      <td>0</td>\n",
       "      <td>0</td>\n",
       "      <td>0</td>\n",
       "      <td>0</td>\n",
       "      <td>0</td>\n",
       "      <td>0</td>\n",
       "      <td>0</td>\n",
       "      <td>0</td>\n",
       "      <td>0</td>\n",
       "      <td>0</td>\n",
       "    </tr>\n",
       "    <tr>\n",
       "      <th>1</th>\n",
       "      <td>1</td>\n",
       "      <td>0</td>\n",
       "      <td>0</td>\n",
       "      <td>0</td>\n",
       "      <td>0</td>\n",
       "      <td>0</td>\n",
       "      <td>0</td>\n",
       "      <td>0</td>\n",
       "      <td>0</td>\n",
       "      <td>0</td>\n",
       "      <td>...</td>\n",
       "      <td>0</td>\n",
       "      <td>0</td>\n",
       "      <td>0</td>\n",
       "      <td>0</td>\n",
       "      <td>0</td>\n",
       "      <td>0</td>\n",
       "      <td>0</td>\n",
       "      <td>0</td>\n",
       "      <td>0</td>\n",
       "      <td>0</td>\n",
       "    </tr>\n",
       "    <tr>\n",
       "      <th>2</th>\n",
       "      <td>1</td>\n",
       "      <td>0</td>\n",
       "      <td>0</td>\n",
       "      <td>0</td>\n",
       "      <td>0</td>\n",
       "      <td>0</td>\n",
       "      <td>0</td>\n",
       "      <td>0</td>\n",
       "      <td>0</td>\n",
       "      <td>0</td>\n",
       "      <td>...</td>\n",
       "      <td>0</td>\n",
       "      <td>0</td>\n",
       "      <td>0</td>\n",
       "      <td>0</td>\n",
       "      <td>0</td>\n",
       "      <td>0</td>\n",
       "      <td>0</td>\n",
       "      <td>0</td>\n",
       "      <td>0</td>\n",
       "      <td>0</td>\n",
       "    </tr>\n",
       "    <tr>\n",
       "      <th>3</th>\n",
       "      <td>0</td>\n",
       "      <td>1</td>\n",
       "      <td>0</td>\n",
       "      <td>0</td>\n",
       "      <td>0</td>\n",
       "      <td>0</td>\n",
       "      <td>0</td>\n",
       "      <td>0</td>\n",
       "      <td>0</td>\n",
       "      <td>0</td>\n",
       "      <td>...</td>\n",
       "      <td>0</td>\n",
       "      <td>0</td>\n",
       "      <td>0</td>\n",
       "      <td>0</td>\n",
       "      <td>0</td>\n",
       "      <td>0</td>\n",
       "      <td>0</td>\n",
       "      <td>0</td>\n",
       "      <td>0</td>\n",
       "      <td>0</td>\n",
       "    </tr>\n",
       "    <tr>\n",
       "      <th>4</th>\n",
       "      <td>0</td>\n",
       "      <td>1</td>\n",
       "      <td>0</td>\n",
       "      <td>0</td>\n",
       "      <td>0</td>\n",
       "      <td>0</td>\n",
       "      <td>0</td>\n",
       "      <td>0</td>\n",
       "      <td>0</td>\n",
       "      <td>0</td>\n",
       "      <td>...</td>\n",
       "      <td>0</td>\n",
       "      <td>0</td>\n",
       "      <td>0</td>\n",
       "      <td>0</td>\n",
       "      <td>0</td>\n",
       "      <td>0</td>\n",
       "      <td>0</td>\n",
       "      <td>0</td>\n",
       "      <td>0</td>\n",
       "      <td>0</td>\n",
       "    </tr>\n",
       "  </tbody>\n",
       "</table>\n",
       "<p>5 rows × 32 columns</p>\n",
       "</div>"
      ],
      "text/plain": [
       "   Accountant I  Administrative Assistant  Area Sales Manager  BI Developer  \\\n",
       "0             1                         0                   0             0   \n",
       "1             1                         0                   0             0   \n",
       "2             1                         0                   0             0   \n",
       "3             0                         1                   0             0   \n",
       "4             0                         1                   0             0   \n",
       "\n",
       "   BI Director  CIO  Data Analyst  Data Analyst   Data Architect  \\\n",
       "0            0    0             0              0               0   \n",
       "1            0    0             0              0               0   \n",
       "2            0    0             0              0               0   \n",
       "3            0    0             0              0               0   \n",
       "4            0    0             0              0               0   \n",
       "\n",
       "   Database Administrator  ...  Production Technician I  \\\n",
       "0                       0  ...                        0   \n",
       "1                       0  ...                        0   \n",
       "2                       0  ...                        0   \n",
       "3                       0  ...                        0   \n",
       "4                       0  ...                        0   \n",
       "\n",
       "   Production Technician II  Sales Manager  Senior BI Developer  \\\n",
       "0                         0              0                    0   \n",
       "1                         0              0                    0   \n",
       "2                         0              0                    0   \n",
       "3                         0              0                    0   \n",
       "4                         0              0                    0   \n",
       "\n",
       "   Shared Services Manager  Software Engineer  Software Engineering Manager  \\\n",
       "0                        0                  0                             0   \n",
       "1                        0                  0                             0   \n",
       "2                        0                  0                             0   \n",
       "3                        0                  0                             0   \n",
       "4                        0                  0                             0   \n",
       "\n",
       "   Sr. Accountant  Sr. DBA  Sr. Network Engineer  \n",
       "0               0        0                     0  \n",
       "1               0        0                     0  \n",
       "2               0        0                     0  \n",
       "3               0        0                     0  \n",
       "4               0        0                     0  \n",
       "\n",
       "[5 rows x 32 columns]"
      ]
     },
     "execution_count": 86,
     "metadata": {},
     "output_type": "execute_result"
    }
   ],
   "source": [
    "pd.get_dummies(df['Position']).head()"
   ]
  },
  {
   "cell_type": "code",
   "execution_count": 87,
   "metadata": {},
   "outputs": [
    {
     "data": {
      "text/html": [
       "<div>\n",
       "<style scoped>\n",
       "    .dataframe tbody tr th:only-of-type {\n",
       "        vertical-align: middle;\n",
       "    }\n",
       "\n",
       "    .dataframe tbody tr th {\n",
       "        vertical-align: top;\n",
       "    }\n",
       "\n",
       "    .dataframe thead th {\n",
       "        text-align: right;\n",
       "    }\n",
       "</style>\n",
       "<table border=\"1\" class=\"dataframe\">\n",
       "  <thead>\n",
       "    <tr style=\"text-align: right;\">\n",
       "      <th></th>\n",
       "      <th>Accountant I</th>\n",
       "      <th>Administrative Assistant</th>\n",
       "      <th>Area Sales Manager</th>\n",
       "      <th>BI Developer</th>\n",
       "      <th>BI Director</th>\n",
       "      <th>CIO</th>\n",
       "      <th>Data Analyst</th>\n",
       "      <th>Data Analyst</th>\n",
       "      <th>Data Architect</th>\n",
       "      <th>Database Administrator</th>\n",
       "      <th>...</th>\n",
       "      <th>Production Technician II</th>\n",
       "      <th>Sales Manager</th>\n",
       "      <th>Senior BI Developer</th>\n",
       "      <th>Shared Services Manager</th>\n",
       "      <th>Software Engineer</th>\n",
       "      <th>Software Engineering Manager</th>\n",
       "      <th>Sr. Accountant</th>\n",
       "      <th>Sr. DBA</th>\n",
       "      <th>Sr. Network Engineer</th>\n",
       "      <th>NaN</th>\n",
       "    </tr>\n",
       "  </thead>\n",
       "  <tbody>\n",
       "    <tr>\n",
       "      <th>0</th>\n",
       "      <td>1</td>\n",
       "      <td>0</td>\n",
       "      <td>0</td>\n",
       "      <td>0</td>\n",
       "      <td>0</td>\n",
       "      <td>0</td>\n",
       "      <td>0</td>\n",
       "      <td>0</td>\n",
       "      <td>0</td>\n",
       "      <td>0</td>\n",
       "      <td>...</td>\n",
       "      <td>0</td>\n",
       "      <td>0</td>\n",
       "      <td>0</td>\n",
       "      <td>0</td>\n",
       "      <td>0</td>\n",
       "      <td>0</td>\n",
       "      <td>0</td>\n",
       "      <td>0</td>\n",
       "      <td>0</td>\n",
       "      <td>0</td>\n",
       "    </tr>\n",
       "    <tr>\n",
       "      <th>1</th>\n",
       "      <td>1</td>\n",
       "      <td>0</td>\n",
       "      <td>0</td>\n",
       "      <td>0</td>\n",
       "      <td>0</td>\n",
       "      <td>0</td>\n",
       "      <td>0</td>\n",
       "      <td>0</td>\n",
       "      <td>0</td>\n",
       "      <td>0</td>\n",
       "      <td>...</td>\n",
       "      <td>0</td>\n",
       "      <td>0</td>\n",
       "      <td>0</td>\n",
       "      <td>0</td>\n",
       "      <td>0</td>\n",
       "      <td>0</td>\n",
       "      <td>0</td>\n",
       "      <td>0</td>\n",
       "      <td>0</td>\n",
       "      <td>0</td>\n",
       "    </tr>\n",
       "    <tr>\n",
       "      <th>2</th>\n",
       "      <td>1</td>\n",
       "      <td>0</td>\n",
       "      <td>0</td>\n",
       "      <td>0</td>\n",
       "      <td>0</td>\n",
       "      <td>0</td>\n",
       "      <td>0</td>\n",
       "      <td>0</td>\n",
       "      <td>0</td>\n",
       "      <td>0</td>\n",
       "      <td>...</td>\n",
       "      <td>0</td>\n",
       "      <td>0</td>\n",
       "      <td>0</td>\n",
       "      <td>0</td>\n",
       "      <td>0</td>\n",
       "      <td>0</td>\n",
       "      <td>0</td>\n",
       "      <td>0</td>\n",
       "      <td>0</td>\n",
       "      <td>0</td>\n",
       "    </tr>\n",
       "    <tr>\n",
       "      <th>3</th>\n",
       "      <td>0</td>\n",
       "      <td>1</td>\n",
       "      <td>0</td>\n",
       "      <td>0</td>\n",
       "      <td>0</td>\n",
       "      <td>0</td>\n",
       "      <td>0</td>\n",
       "      <td>0</td>\n",
       "      <td>0</td>\n",
       "      <td>0</td>\n",
       "      <td>...</td>\n",
       "      <td>0</td>\n",
       "      <td>0</td>\n",
       "      <td>0</td>\n",
       "      <td>0</td>\n",
       "      <td>0</td>\n",
       "      <td>0</td>\n",
       "      <td>0</td>\n",
       "      <td>0</td>\n",
       "      <td>0</td>\n",
       "      <td>0</td>\n",
       "    </tr>\n",
       "    <tr>\n",
       "      <th>4</th>\n",
       "      <td>0</td>\n",
       "      <td>1</td>\n",
       "      <td>0</td>\n",
       "      <td>0</td>\n",
       "      <td>0</td>\n",
       "      <td>0</td>\n",
       "      <td>0</td>\n",
       "      <td>0</td>\n",
       "      <td>0</td>\n",
       "      <td>0</td>\n",
       "      <td>...</td>\n",
       "      <td>0</td>\n",
       "      <td>0</td>\n",
       "      <td>0</td>\n",
       "      <td>0</td>\n",
       "      <td>0</td>\n",
       "      <td>0</td>\n",
       "      <td>0</td>\n",
       "      <td>0</td>\n",
       "      <td>0</td>\n",
       "      <td>0</td>\n",
       "    </tr>\n",
       "  </tbody>\n",
       "</table>\n",
       "<p>5 rows × 33 columns</p>\n",
       "</div>"
      ],
      "text/plain": [
       "   Accountant I  Administrative Assistant  Area Sales Manager  BI Developer  \\\n",
       "0             1                         0                   0             0   \n",
       "1             1                         0                   0             0   \n",
       "2             1                         0                   0             0   \n",
       "3             0                         1                   0             0   \n",
       "4             0                         1                   0             0   \n",
       "\n",
       "   BI Director  CIO  Data Analyst  Data Analyst   Data Architect  \\\n",
       "0            0    0             0              0               0   \n",
       "1            0    0             0              0               0   \n",
       "2            0    0             0              0               0   \n",
       "3            0    0             0              0               0   \n",
       "4            0    0             0              0               0   \n",
       "\n",
       "   Database Administrator  ...  Production Technician II  Sales Manager  \\\n",
       "0                       0  ...                         0              0   \n",
       "1                       0  ...                         0              0   \n",
       "2                       0  ...                         0              0   \n",
       "3                       0  ...                         0              0   \n",
       "4                       0  ...                         0              0   \n",
       "\n",
       "   Senior BI Developer  Shared Services Manager  Software Engineer  \\\n",
       "0                    0                        0                  0   \n",
       "1                    0                        0                  0   \n",
       "2                    0                        0                  0   \n",
       "3                    0                        0                  0   \n",
       "4                    0                        0                  0   \n",
       "\n",
       "   Software Engineering Manager  Sr. Accountant  Sr. DBA  \\\n",
       "0                             0               0        0   \n",
       "1                             0               0        0   \n",
       "2                             0               0        0   \n",
       "3                             0               0        0   \n",
       "4                             0               0        0   \n",
       "\n",
       "   Sr. Network Engineer  NaN  \n",
       "0                     0    0  \n",
       "1                     0    0  \n",
       "2                     0    0  \n",
       "3                     0    0  \n",
       "4                     0    0  \n",
       "\n",
       "[5 rows x 33 columns]"
      ]
     },
     "execution_count": 87,
     "metadata": {},
     "output_type": "execute_result"
    }
   ],
   "source": [
    "pd.get_dummies(df['Position'], dummy_na=True).head()"
   ]
  },
  {
   "cell_type": "markdown",
   "metadata": {},
   "source": [
    "# 3. Масштабирование данных"
   ]
  },
  {
   "cell_type": "markdown",
   "metadata": {},
   "source": [
    "## 3.1 MinMax масштабирование "
   ]
  },
  {
   "cell_type": "markdown",
   "metadata": {},
   "source": [
    "<img src=\"minmax.png\">"
   ]
  },
  {
   "cell_type": "code",
   "execution_count": 98,
   "metadata": {},
   "outputs": [
    {
     "data": {
      "text/plain": [
       "<matplotlib.axes._subplots.AxesSubplot at 0x12214fac8>"
      ]
     },
     "execution_count": 98,
     "metadata": {},
     "output_type": "execute_result"
    },
    {
     "data": {
      "image/png": "[encoded data removed]",
      "text/plain": [
       "<Figure size 432x288 with 1 Axes>"
      ]
     },
     "metadata": {
      "needs_background": "light"
     },
     "output_type": "display_data"
    }
   ],
   "source": [
    "df_2['inspection_score'].plot.hist()"
   ]
  },
  {
   "cell_type": "code",
   "execution_count": 99,
   "metadata": {},
   "outputs": [],
   "source": [
    "sc1 = MinMaxScaler()\n",
    "df_2['inspection_score_MinMax'] = sc1.fit_transform(df_2[['inspection_score']])"
   ]
  },
  {
   "cell_type": "code",
   "execution_count": 100,
   "metadata": {},
   "outputs": [
    {
     "data": {
      "text/plain": [
       "<matplotlib.axes._subplots.AxesSubplot at 0x120dcdfd0>"
      ]
     },
     "execution_count": 100,
     "metadata": {},
     "output_type": "execute_result"
    },
    {
     "data": {
      "image/png": "[encoded data removed]",
      "text/plain": [
       "<Figure size 432x288 with 1 Axes>"
      ]
     },
     "metadata": {
      "needs_background": "light"
     },
     "output_type": "display_data"
    }
   ],
   "source": [
    "df_2['inspection_score_MinMax'].plot.hist()"
   ]
  },
  {
   "cell_type": "markdown",
   "metadata": {},
   "source": [
    "## 3.2 Масштабирование данных на основе Z-оценки "
   ]
  },
  {
   "cell_type": "markdown",
   "metadata": {},
   "source": [
    "<img src=\"z.png\">"
   ]
  },
  {
   "cell_type": "code",
   "execution_count": 101,
   "metadata": {},
   "outputs": [],
   "source": [
    "sc2 = StandardScaler()\n",
    "df_2['inspection_score_Z'] = sc2.fit_transform(df_2[['inspection_score']])"
   ]
  },
  {
   "cell_type": "code",
   "execution_count": 102,
   "metadata": {},
   "outputs": [
    {
     "data": {
      "text/plain": [
       "<matplotlib.axes._subplots.AxesSubplot at 0x11d76da20>"
      ]
     },
     "execution_count": 102,
     "metadata": {},
     "output_type": "execute_result"
    },
    {
     "data": {
      "image/png": "[encoded data removed]",
      "text/plain": [
       "<Figure size 432x288 with 1 Axes>"
      ]
     },
     "metadata": {
      "needs_background": "light"
     },
     "output_type": "display_data"
    }
   ],
   "source": [
    "df_2['inspection_score_Z'].plot.hist()"
   ]
  },
  {
   "cell_type": "markdown",
   "metadata": {},
   "source": [
    "## 3.3. Нормализация данных"
   ]
  },
  {
   "cell_type": "code",
   "execution_count": 113,
   "metadata": {},
   "outputs": [],
   "source": [
    "sc3 = Normalizer()\n",
    "df_2['inspection_score_Norm'] = sc3.fit_transform(df_2[['inspection_score']])"
   ]
  },
  {
   "cell_type": "code",
   "execution_count": 114,
   "metadata": {},
   "outputs": [
    {
     "data": {
      "text/plain": [
       "<matplotlib.axes._subplots.AxesSubplot at 0x120b4cf28>"
      ]
     },
     "execution_count": 114,
     "metadata": {},
     "output_type": "execute_result"
    },
    {
     "data": {
      "image/png": "[encoded data removed]",
      "text/plain": [
       "<Figure size 432x288 with 1 Axes>"
      ]
     },
     "metadata": {
      "needs_background": "light"
     },
     "output_type": "display_data"
    }
   ],
   "source": [
    "df_2['inspection_score_Norm'].plot.hist()"
   ]
  },
  {
   "cell_type": "code",
   "execution_count": null,
   "metadata": {},
   "outputs": [],
   "source": []
  }
 ],
 "metadata": {
  "kernelspec": {
   "display_name": "Python 3",
   "language": "python",
   "name": "python3"
  },
  "language_info": {
   "codemirror_mode": {
    "name": "ipython",
    "version": 3
   },
   "file_extension": ".py",
   "mimetype": "text/x-python",
   "name": "python",
   "nbconvert_exporter": "python",
   "pygments_lexer": "ipython3",
   "version": "3.7.2"
  }
 },
 "nbformat": 4,
 "nbformat_minor": 2
}
